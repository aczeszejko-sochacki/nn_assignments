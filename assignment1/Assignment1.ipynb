{
 "cells": [
  {
   "cell_type": "markdown",
   "metadata": {
    "colab_type": "text",
    "id": "view-in-github"
   },
   "source": [
    "[View in Colaboratory](https://colab.research.google.com/github/janchorowski/nn_assignments/blob/nn18/assignment1/Assignment1.ipynb)"
   ]
  },
  "cells": [
    {
      "cell_type": "markdown",
      "metadata": {
        "id": "view-in-github",
        "colab_type": "text"
      },
      "source": [
        "[View in Colaboratory](https://colab.research.google.com/github/janchorowski/nn_assignments/blob/nn18/assignment1/Assignment1.ipynb)"
      ]
    },
    {
      "metadata": {
        "id": "P7IFJ5_Y33-8",
        "colab_type": "text"
      },
      "cell_type": "markdown",
      "source": [
        "# Assignment 1\n"
      ]
    },
    {
      "metadata": {
        "id": "goqGXGZT2DKK",
        "colab_type": "text"
      },
      "cell_type": "markdown",
      "source": [
        "## Important notes"
      ]
    },
    {
      "metadata": {
        "id": "-3FKET1A2GRK",
        "colab_type": "text"
      },
      "cell_type": "markdown",
      "source": [
        "**Submission deadline:**\n",
        "* **Problems 1-4: last lab session before or on Friday, 19.10.18**\n",
        "* **Problems 5-6: last lab session before or on Friday, 26.10.18**\n",
        "\n",
        "**Points: 10 + 4 bonus points**\n",
        "\n",
        "Please note: some of the assignments are tedious or boring if you are already a NumPy ninja. The bonus problems were designed to give you a more satisfying alternative.\n",
        "\n",
        "The assignment is in the form of a Jupyter notebook. We will be using [Google Colab](https://colab.research.google.com) to solve it. Below you will find a \"Setup\" section. Follow instructions from this paragraph to download the notebook and open it using [Google Colab](https://colab.research.google.com). \n",
        "\n",
        "Your goal is to solve problems posted below. Whenever possible, add your solutions to the notebook.\n",
        "\n",
        "Please email us about any problems with it - we will try to correct them quickly. Also, please do not hesitate to use GitHub’s pull requests to send us corrections!"
      ]
    },
    {
      "metadata": {
        "id": "1CMDOrsc2K-K",
        "colab_type": "text"
      },
      "cell_type": "markdown",
      "source": [
        "## Setup"
      ]
    },
    {
      "metadata": {
        "id": "tNjavUUC7yuM",
        "colab_type": "text"
      },
      "cell_type": "markdown",
      "source": [
        "### 1. Open the notebook using Google Colab\n",
        "\n",
        "1. From Github: Click on \"View in Colaboratory\", then save to your Google Drive.\n",
        "2. Alternatively upload manually to Drive:\n",
        "  1. Download the notebook or clone https://github.com/janchorowski/nn_assignments.\n",
        "  2. Go to  [Google Colab](https://colab.research.google.com).\n",
        "  3. Go to \"UPLOAD\" tab and select a local copy of the notebook that you downloaded in point 1.\n",
        "  \n",
        "Colab Tips:\n",
        "1. Set tab width to 4 spaces under `Tools -> Preferences`.\n",
        "  \n",
        "### 2. Open the notebook offline using Jupyter/IPython\n",
        "\n",
        "This notebook can be opened using Jupyter notebook. Simply install a scientific Python distribution on your computer (e.g. [Anaconda](https://www.anaconda.com/) or [WinPython](http://winpython.github.io/)), clone the repository https://github.com/janchorowski/nn_assignments and run `jupyter notebook`."
      ]
    },
    {
      "metadata": {
        "id": "zq_ZRu87C_OC",
        "colab_type": "text"
      },
      "cell_type": "markdown",
      "source": [
        "###   3. Install required dependencies, download data and import packages\n",
        "\n",
        "Run cells below. To run a cell either click it and click a run button or press \"shift + enter\"\n"
      ]
    },
    {
      "metadata": {
        "id": "onui8xrw5dKi",
        "colab_type": "code",
        "colab": {}
      },
      "cell_type": "code",
      "source": [
        "# Please note that this code needs only to be run in a fresh runtime.\n",
        "# However, it can be rerun afterwards too.\n",
        "!pip install -q gdown httpimport\n",
        "![ -e cifar.npz ] || gdown 'https://drive.google.com/uc?id=1oBzZdtg2zNTPGhbRy6DQ_wrf5L5OAhNR' -O cifar.npz\n",
        "![ -e mnist.npz ] || gdown 'https://drive.google.com/uc?id=1QPaC3IKB_5tX6yIZgRgkpcqFrfVqPTXU' -O mnist.npz"
      ],
      "execution_count": 0,
      "outputs": []
    },
    {
      "metadata": {
        "id": "YxzWq6iO2KPm",
        "colab_type": "code",
        "colab": {}
      },
      "cell_type": "code",
      "source": [
        "# Standard IPython notebook imports\n",
        "%matplotlib inline\n",
        "\n",
        "from __future__ import absolute_import\n",
        "from __future__ import division\n",
        "from __future__ import print_function\n",
        "\n",
        "import os\n",
        "\n",
        "import httpimport\n",
        "import matplotlib.pyplot as plt\n",
        "import numpy as np\n",
        "\n",
        "import seaborn as sns\n",
        "from sklearn import datasets\n",
        "\n",
        "# In this way we can import functions straight from github\n",
        "with httpimport.github_repo('janchorowski', 'nn_assignments', \n",
        "                            module='common', branch='nn18'):\n",
        "     from common.plotting import plot_mat\n",
        "\n",
        "sns.set_style('whitegrid')"
      ],
      "execution_count": 0,
      "outputs": []
    },
    {
      "metadata": {
        "id": "AfmjDoxi6JNA",
        "colab_type": "text"
      },
      "cell_type": "markdown",
      "source": [
        "### 4. Follow the notebook and solve problems posted below"
      ]
    },
    {
      "metadata": {
        "id": "3hr81V8T8ccB",
        "colab_type": "text"
      },
      "cell_type": "markdown",
      "source": [
        "## Problems"
      ]
    },
    {
      "metadata": {
        "id": "0eT1x_VG33_E",
        "colab_type": "text"
      },
      "cell_type": "markdown",
      "source": [
        "### Problem 0 [0p]\n",
        "\n",
        " \n",
        "1. To learn more about Jupyter,  read [Jupyter tutorial from Data Analysis in Biological Sciences course at Caltech](http://bebi103.caltech.edu/2015/tutorials/t0b_intro_to_jupyter_notebooks.html) (which itself can be downloaded as a Jupyter notebook). Feel free to skip the tutorial if you have some prior experience with Jupyter notebook.\n",
        "2. To learn more about basic Google Colab features, go to [Google Colab](https://colab.research.google.com) and select \"Overview of Colaboratory Features\" in \"EXAMPLES\" tab. To learn more about / set up useful keyboard shortcuts (e.g. to add a new cell without clicking \"\"+ code\"), go to \"Tools --> Keyboard shortcuts\""
      ]
    },
    {
      "metadata": {
        "id": "AsOC0voR33_F",
        "colab_type": "text"
      },
      "cell_type": "markdown",
      "source": [
        "### Problem 1 [2p]\n",
        "\n",
        "First, get familiar with Python at https://docs.python.org/2/tutorial/. Then, get\n",
        "to know the capabilities of NumPy, the prime numerical library of Python http://www.numpy.org/, for instance with the tutorial at http://wiki.scipy.org/Tentative_NumPy_Tutorial.\n",
        "\n",
        "You might also need:\n",
        "  1. another intro to NumPy,\n",
        "http://people.duke.edu/~ccc14/pcfb/numerics.html\n",
        "  2. a better interactive shell for Python,\n",
        "http://ipython.org/\n",
        "  3. access to IPython through an ordinary web browser,\n",
        "http://ipython.org/notebook.html\n",
        "  4. a plotting library for Python.\n",
        "http://matplotlib.org/\n",
        "\n",
        "**a) Declare variables:**\n",
        "1. $a=10$,\n",
        "2. $b=2.5\\times 10^{23}$,\n",
        "3. $c=2+3i$, where $i$ is an imaginary unit,\n",
        "4. $d=e^{i2\\pi/3}$, where $i$ is an imaginary unit, $e$ is the Euler's number (use `exp`, `pi`)."
      ]
    },
    {
      "metadata": {
        "id": "8sd7jJhd33_G",
        "colab_type": "code",
        "colab": {}
      },
      "cell_type": "code",
      "source": [
        "# TODO: Complete the declarations\n",
        "a = \n",
        "b = \n",
        "c = \n",
        "d = "
      ],
      "execution_count": 0,
      "outputs": []
    },
    {
      "metadata": {
        "id": "bP0hAHvN33_K",
        "colab_type": "text"
      },
      "cell_type": "markdown",
      "source": [
        "**b) Declare vectors:**\n",
        "1. $aVec=\\begin{bmatrix} 3.14 & 15 & 9 & 26 \\end{bmatrix}$,\n",
        "2. $bVec=\\begin{bmatrix} 2.71 & 8 & 28 & 182 \\end{bmatrix}^\\intercal$ (column vector),\n",
        "3. $cVec=\\begin{bmatrix} 5 & 4.8 & \\cdots & -4.8 & -5 \\end{bmatrix}$ (vector of numbers from $5$ to $-5$ decreasing by $0.2$),\n",
        "4. $dVec=\\begin{bmatrix} 10^0 & 10^{0.01} & \\cdots & 10^{0.99} & 10^1 \\end{bmatrix}$ (logarithmically spaced numbers from 1 to 10, use `logspace` and make sure, that the result has correct length!),\n",
        "5. $eVec=Hello$ ($eVec$ is a string of characters, thus a vector)."
      ]
    },
    {
      "metadata": {
        "id": "37RmkuW533_L",
        "colab_type": "code",
        "colab": {}
      },
      "cell_type": "code",
      "source": [
        "aVec = \n",
        "bVec = \n",
        "cVec = \n",
        "dVec = \n",
        "eVec = "
      ],
      "execution_count": 0,
      "outputs": []
    },
    {
      "metadata": {
        "id": "C58YJtEU33_O",
        "colab_type": "text"
      },
      "cell_type": "markdown",
      "source": [
        "**c) Declare matrices:**\n",
        "1. $aMat=\\begin{bmatrix}\n",
        "                    2      & \\cdots & 2 \\\\\n",
        "                    \\vdots & \\ddots & \\vdots \\\\\n",
        "                    2      & \\cdots & 2\n",
        "                \\end{bmatrix}$,\n",
        "<br/>\n",
        "matrix $9\\times 9$ filled with 2s (use `ones` or `zeros`),\n",
        "2. $bMat=\\begin{bmatrix}\n",
        "                    1      & 0      & \\cdots &        & 0      \\\\\n",
        "                    0      & \\ddots & 0      &        & 0      \\\\\n",
        "                    \\vdots & 0      & 5      & 0      & \\vdots \\\\\n",
        "                           &        & 0      & \\ddots & 0      \\\\\n",
        "                    0      &        & \\cdots & 0      & 1\n",
        "                \\end{bmatrix}$,\n",
        "<br/>\n",
        "matrix $9\\times 9$ filled with zeros, with $\\begin{bmatrix} 1 & 2 & 3 & 4 & 5 & 4 & 3 & 2 & 1 \\end{bmatrix}$ on its diagonal (use `zeros`, `diag`),\n",
        "3. $cMat=\\begin{bmatrix}\n",
        "                    1      & 11     & \\cdots & 91     \\\\\n",
        "                    2      & 12     & \\ddots & 92     \\\\\n",
        "                    \\vdots & \\vdots & \\ddots & \\vdots \\\\\n",
        "                    10     & 20     & \\cdots & 100\n",
        "                \\end{bmatrix}$,\n",
        "<br/>\n",
        "matrix $10\\times 10$, columns of which form the vector $1:100$ (use `reshape`),\n",
        "4. $dMat=\\begin{bmatrix}\n",
        "                    NaN & NaN & NaN & NaN \\\\\n",
        "                    NaN & NaN & NaN & NaN \\\\\n",
        "                    NaN & NaN & NaN & NaN\n",
        "                \\end{bmatrix}$,\n",
        "<br/>\n",
        "matrix $3\\times 4$ filled with `NaN`s (use... `NaN`),\n",
        "5. $eMat=\\begin{bmatrix}\n",
        "                    13  & -1  & 5  \\\\\n",
        "                    -22 & 10  & -87\n",
        "                \\end{bmatrix}$,\n",
        "<br/>\n",
        "6. $fMat$ filled with random natural numbers from $[-3,3]$ (use `rand` and `floor` or `ceil`)."
      ]
    },
    {
      "metadata": {
        "id": "Bdd1oUeI33_P",
        "colab_type": "code",
        "colab": {}
      },
      "cell_type": "code",
      "source": [
        "aMat = \n",
        "bMat = \n",
        "cMat = \n",
        "dMat = \n",
        "eMat = \n",
        "fMat = "
      ],
      "execution_count": 0,
      "outputs": []
    },
    {
      "metadata": {
        "id": "DqtKQi1Q33_T",
        "colab_type": "text"
      },
      "cell_type": "markdown",
      "source": [
        "** d) Declare a multiplication table ** as a $10\\times 10$ matrix `mulMat`. Use matrix/vector multiplication."
      ]
    },
    {
      "metadata": {
        "id": "OWqHq-vK33_U",
        "colab_type": "code",
        "colab": {}
      },
      "cell_type": "code",
      "source": [
        "mulMat = "
      ],
      "execution_count": 0,
      "outputs": []
    },
    {
      "metadata": {
        "id": "0xIm6lT133_Y",
        "colab_type": "text"
      },
      "cell_type": "markdown",
      "source": [
        "** e) Compute elemwise using values from b).**\n",
        "For instance, the first element of $xVec[0]$ should be equal to\n",
        "\n",
        "\\begin{equation}\n",
        "1/(\\sqrt{2\\pi2.5^2}) e^{-cVec[0]^2 / (2\\cdot\\pi 2.5^2)}.\n",
        "\\end{equation}\n",
        "\n",
        "1. $xVec=1/(\\sqrt{2\\pi2.5^2}) e^{-cVec^2 / (2\\cdot\\pi 2.5^2)}$\n",
        "2. $yVec=\\sqrt{(aVec^\\intercal)^2 + bVec^2}$\n",
        "3. $zVec=\\log_{10}(1/dVec)$, using `log10`"
      ]
    },
    {
      "metadata": {
        "id": "LtH-kSU733_Z",
        "colab_type": "code",
        "colab": {}
      },
      "cell_type": "code",
      "source": [
        "xVec = \n",
        "yVec = \n",
        "zVec = "
      ],
      "execution_count": 0,
      "outputs": []
    },
    {
      "metadata": {
        "id": "EBhf74F_33_d",
        "colab_type": "text"
      },
      "cell_type": "markdown",
      "source": [
        "** f) Compute with matrix/vector operations using values from c).**\n",
        "\n",
        "**NOTE:** Every multiplication (and power) in this subtask is a [matrix multiplication](https://en.wikipedia.org/wiki/Matrix_multiplication).\n",
        "1. $xMat=(aVec\\cdot bVec)aMat^2$,\n",
        "2. $yMat=bVec\\cdot aVec$\n",
        "<br/>\n",
        "(remember, that matrix multiplication is not commutative),\n",
        "4. $zMat=\\lvert cMat\\rvert (aMat\\cdot bMat)^\\intercal$, where $\\lvert A\\rvert$ denotes determinant of $A$ (use `det`)."
      ]
    },
    {
      "metadata": {
        "id": "UjdLR34u33_e",
        "colab_type": "code",
        "colab": {}
      },
      "cell_type": "code",
      "source": [
        "xMat = \n",
        "yMat = \n",
        "zMat = "
      ],
      "execution_count": 0,
      "outputs": []
    },
    {
      "metadata": {
        "id": "QJ3xTXgV33_i",
        "colab_type": "text"
      },
      "cell_type": "markdown",
      "source": [
        "** g) Declare `ismagic(A)` function ** which checks if matrix $A$ is a [magic square](https://en.wikipedia.org/wiki/Magic_square) and returns a boolean."
      ]
    },
    {
      "metadata": {
        "id": "uCNJUx_G33_j",
        "colab_type": "code",
        "colab": {}
      },
      "cell_type": "code",
      "source": [
        "def ismagic(A):\n",
        "    # TODO"
      ],
      "execution_count": 0,
      "outputs": []
    },
    {
      "metadata": {
        "id": "Es80_WJM33_n",
        "colab_type": "text"
      },
      "cell_type": "markdown",
      "source": [
        "### k-Nearest Neighbors\n",
        "\n",
        "The following excerpt of code loads the data describing iris flowers\n",
        "and shows relations between their length and petal width for three\n",
        "species (namely: setosa, versicolor, virginica)."
      ]
    },
    {
      "metadata": {
        "id": "hOvm2SEE33_q",
        "colab_type": "code",
        "colab": {
          "base_uri": "https://localhost:8080/",
          "height": 313
        },
        "outputId": "3b5eeae1-f4d9-44b1-bb70-a78723214b6d"
      },
      "cell_type": "code",
      "source": [
        "# sklearn is a large collection of machine learning algorithms\n",
        "# here we’ll use it only for the built-in iris dataset\n",
        "from sklearn import datasets\n",
        "\n",
        "iris = datasets.load_iris()\n",
        "\n",
        "print('Features: ', iris.feature_names)\n",
        "print('Targets: ', iris.target_names)\n",
        "\n",
        "petal_length = iris.data[:, iris.feature_names.index('petal length (cm)')]\n",
        "petal_width = iris.data[:, iris.feature_names.index('petal width (cm)')]\n",
        "\n",
        "for target in set(iris.target):\n",
        "    example_ids = target == iris.target\n",
        "    plt.scatter(petal_length[example_ids], petal_width[example_ids],\n",
        "                label=iris.target_names[target], color='bgr'[target],\n",
        "                marker='x', alpha=0.7)\n",
        "unknown = np.array([\n",
        "    [1.5, 0.3],\n",
        "    [4.5, 1.2],\n",
        "    [5.5, 2.3],\n",
        "    [5.1, 1.7]\n",
        "])\n",
        "plt.scatter(unknown[:, 0], unknown[:, 1], marker='v',\n",
        "            color='gray', s=50, label='??')\n",
        "plt.xlabel('petal length (cm)')\n",
        "plt.ylabel('petal width (cm)')\n",
        "plt.grid(True)\n",
        "plt.legend(loc='upper left');"
      ],
      "execution_count": 8,
      "outputs": [
        {
          "output_type": "stream",
          "text": [
            "Features:  ['sepal length (cm)', 'sepal width (cm)', 'petal length (cm)', 'petal width (cm)']\n",
            "Targets:  ['setosa' 'versicolor' 'virginica']\n"
          ],
          "name": "stdout"
        },
        {
          "output_type": "display_data",
          "data": {
            "image/png": "iVBORw0KGgoAAAANSUhEUgAAAYAAAAEGCAYAAABsLkJ6AAAABHNCSVQICAgIfAhkiAAAAAlwSFlz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\nFABBEISB8v8hOBrNMnuovAAAAABJRU5ErkJggg==\n",
            "text/plain": [
              "<matplotlib.figure.Figure at 0x7f8ce9a6ca90>"
            ]
          },
          "metadata": {
            "tags": []
          }
        }
      ]
    },
    {
      "metadata": {
        "id": "s2khewKZ33_w",
        "colab_type": "text"
      },
      "cell_type": "markdown",
      "source": [
        "Based on these two features, it is easy to distinguish iris setosa from the two remaining species. Yet iris versicolor and virginica remain mixed together. \n",
        "\n",
        "Looking closely at the plot, we might estimate the species of the selected unknown irises (gray triangles). For three of them the answer seems obvious – they belong in uniformly-colored areas covered by one species only. Yet unknown iris flower in (5.1, 1.7) is troublesome – it lays on the boundary of versicolor and virginica clusters. We can assume, that its species is the one of the closest one to it, coming from the training set (and so having a label). \n",
        "\n",
        "K-Nearest Neighbors method (http://en.wikipedia.org/wiki/K-nearest_neighbors_algorithm) solves the classification problem, i.e. sets class labels (species in case of irises) of a previously unseen sample by choosing the most common class among the top k neighbors of the sample in question (for instance according to the Euclidean distance). Thus, the k-Nearest Neighbors algorithm works as follows. For each unlabeled sample x:\n",
        "1. Find k nearest neighbors among the labeled samples.\n",
        "2. Set the most common label among them as label of x."
      ]
    },
    {
      "metadata": {
        "id": "8-G-sMUw33_x",
        "colab_type": "text"
      },
      "cell_type": "markdown",
      "source": [
        "#### Problem 2 [2p]\n",
        "\n",
        "1.  **[1p]** Load the iris data (in Python it’s built-in into machine learning libraries, use sklearn.datasets.load_iris), the data is also available on-line at https://archive.ics.uci.edu/ml/datasets/Iris\n",
        "\n",
        "2.  **[1p]** Irises are described with 4 attributes: petal and sepal widths and lengths. We often plot such data as matrices depicting relationships between pairs of attributes (the diagonal of which holds an ordinary histogram). Write code making a plot like the one below. Please pay attention to the details: make a proper legend and correctly label the axes.\n",
        "\n",
        "<img src=\"https://github.com/janchorowski/nn_assignments/blob/nn18/assignment1/iris4x4.png?raw=1\"/>"
      ]
    },
    {
      "metadata": {
        "id": "F6sG0bxf33_y",
        "colab_type": "text"
      },
      "cell_type": "markdown",
      "source": [
        "#### Problem 3 [2p]\n",
        "\n",
        "Implement the k-Nearest Neighbors algorithm. Try to\n",
        "take advantage of matrix calculus rather than using for loops.\n",
        "\n",
        "**Tip:** What is computed by \\begin{equation} \\sqrt{(X - Y)^T (X - Y)} \\end{equation} when both X and Y are vectors?\n",
        "\n",
        "**Tip:** Try to use broadcasting (NumPy: http://docs.scipy.org/doc/numpy/user/basics.broadcasting.html) and built-ins sort, numpy.sort, numpy.argsort (sorting), scipy.stats.mode (choosing the most common element of the set)."
      ]
    },
    {
      "metadata": {
        "id": "1iZtHs5A33_z",
        "colab_type": "text"
      },
      "cell_type": "markdown",
      "source": [
        "#### Problem 4 [2p]\n",
        "Consider the following experiment:\n",
        "1. We scramble the data and split it into two parts - training set (66.6% of all samples) and test set (33.4%).\n",
        "2. Based on the training set, we use the k-NN algorithm to predict the labels on the test set.\n",
        "3. We then check the number of errors and write it down.\n",
        "\n",
        "Do this 500 times for k ∈ {1, 3, 5, ..., 19}. Plot a function of the average number of errors\n",
        "as the function of k. It should be similar to the one below.\n",
        "\n",
        "<img src=\"https://github.com/janchorowski/nn_assignments/blob/nn18/assignment1/knn.png?raw=1\"/>"
      ]
    },
    {
      "metadata": {
        "id": "A86GnZpa33_0",
        "colab_type": "text"
      },
      "cell_type": "markdown",
      "source": [
        "#### Problem 5 [2p] \n",
        "\n",
        "Apply the K-Nearest Neighbors (K-NN) algorithm to the MNIST and CIFAR10 datasets. \n",
        "\n",
        "The MNIST (http://yann.lecun.com/exdb/mnist/) dataset consists of normalized (centered and stretched) scans of hand-written digits. Specifically, each element of the dataset is a 28 × 28 grayscale image, thus having 764 8-bit pixels. \n",
        "\n",
        "The CIFAR10 (http://www.cs.toronto.edu/~kriz/cifar.html) dataset consists of small, 32 by 32 pixels, RGB images belonging to 10 categories.\n",
        "\n",
        "1. **[1p]** Download and load the MNIST and CIFAR10 datasets. For both datasets, display a few objects from each of the classes, paying attention to aesthetics and clarity of your presentation. **Note:** You already downloaded the datasets in \"Setup\" section. Please use the code below to get started.\n",
        "\n",
        "2. **[2p]** Apply a k-NN classifier to the MNIST and CIFAR10 datasets. First, divide the training set into two parts, which we will call training and validation. On MNIST use the first 50000 samples for training and the last 10000 for validation. On CIFAR10, use 40000 to train and 10000 for validation. Then find the optimal number of neighbors by assessing the accuracy on the validation set. You do not need to repeat this experiment multiple times. Finally, compute the accuracy on the test set obtained with the best previously chosen number of neighbors. On MNIST you should get about 3% errors, while on CIFAR10 you should get about 70% errors. Why CIFAR10 is harder than MNIST? Pick a few mislabeled samples from the test dataset and plot them along with the correct ones. **Note:**\n",
        "  * MNIST and CIFAR10 are much larger than the Iris dataset. A good implementation may need a few minutes depending on your runtime type. Please optimize your algorithm:\n",
        "  * Compute the distances only once, then test for different values of k.\n",
        "  * Use vectorized expressions to compute the distance. It is possible to compute all distances between the training and testing points in one expression. Hint: think about the vectorized expression \\begin{equation}(X - Y)^T (X - Y)\\end{equation}.\n",
        "  * You can use single precision numbers in computation.\n",
        "  * If your code is taking a long time to execute, please save its results before the lab session.\n",
        "\n",
        "**Note:** in NumPy, matrices have its own data type (dtype), which is retained during\n",
        "calculations. Please pay attention to it. I particular, do not subtract values of data types not\n",
        "having the sign bit, do not divide integers, etc. Results of such operations will not be\n",
        "automatically casted to types having the required precision."
  {
   "cell_type": "markdown",
   "metadata": {
    "colab_type": "text",
    "id": "P7IFJ5_Y33-8"
   },
   "source": [
    "# Assignment 1\n"
   ]
  },
  {
   "cell_type": "markdown",
   "metadata": {
    "colab_type": "text",
    "id": "goqGXGZT2DKK"
   },
   "source": [
    "## Important notes"
   ]
  },
  {
   "cell_type": "markdown",
   "metadata": {
    "colab_type": "text",
    "id": "-3FKET1A2GRK"
   },
   "source": [
    "**Submission deadline:**\n",
    "* **Problems 1-4: last lab session before or on Friday, 19.10.18**\n",
    "* **Problems 5-6: last lab session before or on Friday, 26.10.18**\n",
    "\n",
    "**Points: 10 + 4 bonus points**\n",
    "\n",
    "Please note: some of the assignments are tedious or boring if you are already a NumPy ninja. The bonus problems were designed to give you a more satisfying alternative.\n",
    "\n",
    "The assignment is in the form of a Jupyter notebook. We will be using [Google Colab](https://colab.research.google.com) to solve it. Below you will find a \"Setup\" section. Follow instructions from this paragraph to download the notebook and open it using [Google Colab](https://colab.research.google.com). \n",
    "\n",
    "Your goal is to solve problems posted below. Whenever possible, add your solutions to the notebook.\n",
    "\n",
    "Please email us about any problems with it - we will try to correct them quickly. Also, please do not hesitate to use GitHub’s pull requests to send us corrections!"
   ]
  },
  {
   "cell_type": "markdown",
   "metadata": {
    "colab_type": "text",
    "id": "1CMDOrsc2K-K"
   },
   "source": [
    "## Setup"
   ]
  },
  {
   "cell_type": "markdown",
   "metadata": {
    "colab_type": "text",
    "id": "tNjavUUC7yuM"
   },
   "source": [
    "### 1. Open the notebook using Google Colab\n",
    "\n",
    "1. From Github: Click on \"View in Colaboratory\", then save to your Google Drive.\n",
    "2. Alternatively upload manually to Drive:\n",
    "  1. Download the notebook or clone https://github.com/janchorowski/nn_assignments.\n",
    "  2. Go to  [Google Colab](https://colab.research.google.com).\n",
    "  3. Go to \"UPLOAD\" tab and select a local copy of the notebook that you downloaded in point 1.\n",
    "  \n",
    "Colab Tips:\n",
    "1. Set tab width to 4 spaces under `Tools -> Prferences`.\n",
    "  \n",
    "### 2. Open th enotebook offline using Jupyter/IPython\n",
    "\n",
    "This notebook can be opened using Jupyter notebook. Simply install a scientific Python distribution on your computer (e.g. [Anaconda](https://www.anaconda.com/) or [WinPython](http://winpython.github.io/)), clone the repository https://github.com/janchorowski/nn_assignments and run `jupyter notebook`."
   ]
  },
  {
   "cell_type": "markdown",
   "metadata": {
    "colab_type": "text",
    "id": "zq_ZRu87C_OC"
   },
   "source": [
    "###   3. Install required dependencies, download data and import packages\n",
    "\n",
    "Run cells below. To run a cell either click it and click a run button or press \"shift + enter\"\n"
   ]
  },
  {
   "cell_type": "code",
   "execution_count": 9,
   "metadata": {
    "colab": {},
    "colab_type": "code",
    "id": "onui8xrw5dKi"
   },
   "outputs": [],
   "source": [
    "# Please note that this code needs only to be run in a fresh runtime.\n",
    "# However, it can be rerun afterwards too.\n",
    "# !pip install -q gdown httpimport\n",
    "# ![ -e cifar.npz ] || gdown 'https://drive.google.com/uc?id=1oBzZdtg2zNTPGhbRy6DQ_wrf5L5OAhNR' -O cifar.npz\n",
    "# ![ -e mnist.npz ] || gdown 'https://drive.google.com/uc?id=1QPaC3IKB_5tX6yIZgRgkpcqFrfVqPTXU' -O mnist.npz"
   ]
  },
  {
   "cell_type": "code",
   "execution_count": 2,
   "metadata": {
    "colab": {},
    "colab_type": "code",
    "id": "YxzWq6iO2KPm"
   },
   "outputs": [],
   "source": [
    "# Standard IPython notebook imports\n",
    "%matplotlib inline\n",
    "\n",
    "from __future__ import absolute_import\n",
    "from __future__ import division\n",
    "from __future__ import print_function\n",
    "\n",
    "import os\n",
    "\n",
    "import httpimport\n",
    "import matplotlib.pyplot as plt\n",
    "import numpy as np\n",
    "\n",
    "import seaborn as sns\n",
    "from sklearn import datasets\n",
    "\n",
    "# In this way we can import functions straight from github\n",
    "with httpimport.github_repo('janchorowski', 'nn_assignments', \n",
    "                            module='common', branch='nn18'):\n",
    "     from common.plotting import plot_mat\n",
    "\n",
    "sns.set_style('whitegrid')"
   ]
  },
  {
   "cell_type": "markdown",
   "metadata": {
    "colab_type": "text",
    "id": "AfmjDoxi6JNA"
   },
   "source": [
    "### 4. Follow the notebook and solve problems posted below"
   ]
  },
  {
   "cell_type": "markdown",
   "metadata": {
    "colab_type": "text",
    "id": "3hr81V8T8ccB"
   },
   "source": [
    "## Problems"
   ]
  },
  {
   "cell_type": "markdown",
   "metadata": {
    "colab_type": "text",
    "id": "0eT1x_VG33_E"
   },
   "source": [
    "### Problem 0 [0p]\n",
    "\n",
    " \n",
    "1. To learn more about Jupyter,  read [Jupyter tutorial from Data Analysis in Biological Sciences course at Caltech](http://bebi103.caltech.edu/2015/tutorials/t0b_intro_to_jupyter_notebooks.html) (which itself can be downloaded as a Jupyter notebook). Feel free to skip the tutorial if you have some prior experience with Jupyter notebook.\n",
    "2. To learn more about basic Google Colab features, go to [Google Colab](https://colab.research.google.com) and select \"Overview of Colaboratory Features\" in \"EXAMPLES\" tab. To learn more about / set up useful keyboard shortcuts (e.g. to add a new cell without clicking \"\"+ code\"), go to \"Tools --> Keyboard shortcuts\""
   ]
  },
  {
   "cell_type": "markdown",
   "metadata": {
    "colab_type": "text",
    "id": "AsOC0voR33_F"
   },
   "source": [
    "### Problem 1 [2p]\n",
    "\n",
    "First, get familiar with Python at https://docs.python.org/2/tutorial/. Then, get\n",
    "to know the capabilities of NumPy, the prime numerical library of Python http://www.numpy.org/, for instance with the tutorial at http://wiki.scipy.org/Tentative_NumPy_Tutorial.\n",
    "\n",
    "You might also need:\n",
    "  1. another intro to NumPy,\n",
    "http://people.duke.edu/~ccc14/pcfb/numerics.html\n",
    "  2. a better interactive shell for Python,\n",
    "http://ipython.org/\n",
    "  3. access to IPython through an ordinary web browser,\n",
    "http://ipython.org/notebook.html\n",
    "  4. a plotting library for Python.\n",
    "http://matplotlib.org/\n",
    "\n",
    "**a) Declare variables:**\n",
    "1. $a=10$,\n",
    "2. $b=2.5\\times 10^{23}$,\n",
    "3. $c=2+3i$, where $i$ is an imaginary unit,\n",
    "4. $d=e^{i2\\pi/3}$, where $i$ is an imaginary unit, $e$ is the Euler's number (use `exp`, `pi`)."
   ]
  },
  {
   "cell_type": "code",
   "execution_count": 3,
   "metadata": {},
   "outputs": [],
   "source": [
    "from numpy import pi"
   ]
  },
  {
   "cell_type": "code",
   "execution_count": 4,
   "metadata": {
    "colab": {},
    "colab_type": "code",
    "id": "8sd7jJhd33_G"
   },
   "outputs": [],
   "source": [
    "# TODO: Complete the declarations\n",
    "a = 10\n",
    "b = 2.5 * 10**23\n",
    "c = np.complex(2, 3)\n",
    "d = np.exp(np.complex(0, 2 * pi / 3))"
   ]
  },
  {
   "cell_type": "markdown",
   "metadata": {
    "colab_type": "text",
    "id": "bP0hAHvN33_K"
   },
   "source": [
    "**b) Declare vectors:**\n",
    "1. $aVec=\\begin{bmatrix} 3.14 & 15 & 9 & 26 \\end{bmatrix}$,\n",
    "2. $bVec=\\begin{bmatrix} 2.71 & 8 & 28 & 182 \\end{bmatrix}^\\intercal$ (column vector),\n",
    "3. $cVec=\\begin{bmatrix} 5 & 4.8 & \\cdots & -4.8 & -5 \\end{bmatrix}$ (vector of numbers from $5$ to $-5$ decreasing by $0.2$),\n",
    "4. $dVec=\\begin{bmatrix} 10^0 & 10^{0.01} & \\cdots & 10^{0.99} & 10^1 \\end{bmatrix}$ (logarithmically spaced numbers from 1 to 10, use `logspace` and make sure, that the result has correct length!),\n",
    "5. $eVec=Hello$ ($eVec$ is a string of characters, thus a vector)."
   ]
  },
  {
   "cell_type": "code",
   "execution_count": 5,
   "metadata": {
    "colab": {},
    "colab_type": "code",
    "id": "37RmkuW533_L"
   },
   "outputs": [],
   "source": [
    "aVec = np.array([3.14, 15, 9, 26]) \n",
    "bVec = np.transpose([[2.71, 8, 28, 182]])\n",
    "cVec = np.linspace(start=5, stop=-5, num=51)\n",
    "dVec = np.logspace(start=1, stop=10, num=101)\n",
    "eVec = np.chararray((1, 5))\n",
    "eVec = 'Hello'"
   ]
  },
  {
   "cell_type": "markdown",
   "metadata": {
    "colab_type": "text",
    "id": "C58YJtEU33_O"
   },
   "source": [
    "**c) Declare matrices:**\n",
    "1. $aMat=\\begin{bmatrix}\n",
    "                    2      & \\cdots & 2 \\\\\n",
    "                    \\vdots & \\ddots & \\vdots \\\\\n",
    "                    2      & \\cdots & 2\n",
    "                \\end{bmatrix}$,\n",
    "<br/>\n",
    "matrix $9\\times 9$ filled with 2s (use `ones` or `zeros`),\n",
    "2. $bMat=\\begin{bmatrix}\n",
    "                    1      & 0      & \\cdots &        & 0      \\\\\n",
    "                    0      & \\ddots & 0      &        & 0      \\\\\n",
    "                    \\vdots & 0      & 5      & 0      & \\vdots \\\\\n",
    "                           &        & 0      & \\ddots & 0      \\\\\n",
    "                    0      &        & \\cdots & 0      & 1\n",
    "                \\end{bmatrix}$,\n",
    "<br/>\n",
    "matrix $9\\times 9$ filled with zeros, with $\\begin{bmatrix} 1 & 2 & 3 & 4 & 5 & 4 & 3 & 2 & 1 \\end{bmatrix}$ on its diagonal (use `zeros`, `diag`),\n",
    "3. $cMat=\\begin{bmatrix}\n",
    "                    1      & 11     & \\cdots & 91     \\\\\n",
    "                    2      & 12     & \\ddots & 92     \\\\\n",
    "                    \\vdots & \\vdots & \\ddots & \\vdots \\\\\n",
    "                    10     & 20     & \\cdots & 100\n",
    "                \\end{bmatrix}$,\n",
    "<br/>\n",
    "matrix $10\\times 10$, columns of which form the vector $1:100$ (use `reshape`),\n",
    "4. $dMat=\\begin{bmatrix}\n",
    "                    NaN & NaN & NaN & NaN \\\\\n",
    "                    NaN & NaN & NaN & NaN \\\\\n",
    "                    NaN & NaN & NaN & NaN\n",
    "                \\end{bmatrix}$,\n",
    "<br/>\n",
    "matrix $3\\times 4$ filled with `NaN`s (use... `NaN`),\n",
    "5. $eMat=\\begin{bmatrix}\n",
    "                    13  & -1  & 5  \\\\\n",
    "                    -22 & 10  & -87\n",
    "                \\end{bmatrix}$,\n",
    "<br/>\n",
    "6. $fMat$ filled with random natural numbers from $[-3,3]$ (use `rand` and `floor` or `ceil`)."
   ]
  },
  {
   "cell_type": "code",
   "execution_count": 6,
   "metadata": {
    "colab": {},
    "colab_type": "code",
    "id": "Bdd1oUeI33_P"
   },
   "outputs": [],
   "source": [
    "aMat = np.full((9, 9), 2)\n",
    "bMat = np.diag(np.concatenate((np.arange(start=1, stop=5),\n",
    "                               np.arange(start=5, stop=0, step=-1))))\n",
    "cMat = np.transpose(np.arange(start=1, stop=101).reshape(10, 10))\n",
    "dMat = np.full((3, 4), np.nan)\n",
    "eMat = np.array([[13, -1, 5], [-22, 10, -87]])\n",
    "fMat = np.ceil(np.random.rand(10, 10) * 7 - 4)"
   ]
  },
  {
   "cell_type": "markdown",
   "metadata": {
    "colab_type": "text",
    "id": "DqtKQi1Q33_T"
   },
   "source": [
    "** d) Declare a multiplication table ** as a $10\\times 10$ matrix `mulMat`. Use matrix/vector multiplication."
   ]
  },
  {
   "cell_type": "code",
   "execution_count": 7,
   "metadata": {
    "colab": {},
    "colab_type": "code",
    "id": "OWqHq-vK33_U"
   },
   "outputs": [
    {
     "data": {
      "text/plain": [
       "array([[  1,   2,   3,   4,   5,   6,   7,   8,   9,  10],\n",
       "       [  2,   4,   6,   8,  10,  12,  14,  16,  18,  20],\n",
       "       [  3,   6,   9,  12,  15,  18,  21,  24,  27,  30],\n",
       "       [  4,   8,  12,  16,  20,  24,  28,  32,  36,  40],\n",
       "       [  5,  10,  15,  20,  25,  30,  35,  40,  45,  50],\n",
       "       [  6,  12,  18,  24,  30,  36,  42,  48,  54,  60],\n",
       "       [  7,  14,  21,  28,  35,  42,  49,  56,  63,  70],\n",
       "       [  8,  16,  24,  32,  40,  48,  56,  64,  72,  80],\n",
       "       [  9,  18,  27,  36,  45,  54,  63,  72,  81,  90],\n",
       "       [ 10,  20,  30,  40,  50,  60,  70,  80,  90, 100]])"
      ]
     },
     "execution_count": 7,
     "metadata": {},
     "output_type": "execute_result"
    }
   ],
   "source": [
    "mulMat = np.transpose([np.arange(start=1, stop=11)]) @ [np.arange(start=1, stop=11)]\n",
    "mulMat"
   ]
  },
  {
   "cell_type": "markdown",
   "metadata": {
    "colab_type": "text",
    "id": "0xIm6lT133_Y"
   },
   "source": [
    "** e) Compute elemwise using values from b).**\n",
    "For instance, the first element of $xVec[0]$ should be equal to\n",
    "\n",
    "\\begin{equation}\n",
    "1/(\\sqrt{2\\pi2.5^2}) e^{-cVec[0]^2 / (2\\cdot\\pi 2.5^2)}.\n",
    "\\end{equation}\n",
    "\n",
    "1. $xVec=1/(\\sqrt{2\\pi2.5^2}) e^{-cVec^2 / (2\\cdot\\pi 2.5^2)}$\n",
    "2. $yVec=\\sqrt{(aVec^\\intercal)^2 + bVec^2}$\n",
    "3. $zVec=\\log_{10}(1/dVec)$, using `log10`"
   ]
  },
  {
   "cell_type": "code",
   "execution_count": 8,
   "metadata": {
    "colab": {},
    "colab_type": "code",
    "id": "LtH-kSU733_Z"
   },
   "outputs": [
    {
     "data": {
      "text/plain": [
       "array([0.0844286 , 0.08874945, 0.09310157, 0.09746835, 0.10183228,\n",
       "       0.10617507, 0.11047778, 0.11472091, 0.11888457, 0.12294862,\n",
       "       0.12689283, 0.13069705, 0.13434136, 0.13780626, 0.14107285,\n",
       "       0.14412296, 0.14693938, 0.14950594, 0.15180777, 0.15383133,\n",
       "       0.15556462, 0.15699729, 0.1581207 , 0.15892806, 0.15941445,\n",
       "       0.15957691, 0.15941445, 0.15892806, 0.1581207 , 0.15699729,\n",
       "       0.15556462, 0.15383133, 0.15180777, 0.14950594, 0.14693938,\n",
       "       0.14412296, 0.14107285, 0.13780626, 0.13434136, 0.13069705,\n",
       "       0.12689283, 0.12294862, 0.11888457, 0.11472091, 0.11047778,\n",
       "       0.10617507, 0.10183228, 0.09746835, 0.09310157, 0.08874945,\n",
       "       0.0844286 ])"
      ]
     },
     "execution_count": 8,
     "metadata": {},
     "output_type": "execute_result"
    }
   ],
   "source": [
    "xVec = 1 / np.sqrt(2 * pi * 6.25) * np.exp(-cVec**2 / (2 * pi * 6.25))\n",
    "yVec = np.sqrt(np.transpose(aVec**2) + bVec**2)\n",
    "zVec = np.log10(1/dVec)\n",
    "xVec"
   ]
  },
  {
   "cell_type": "markdown",
   "metadata": {
    "colab_type": "text",
    "id": "EBhf74F_33_d"
   },
   "source": [
    "** f) Compute with matrix/vector operations using values from c).**\n",
    "\n",
    "**NOTE:** Every multiplication (and power) in this subtask is a [matrix multiplication](https://en.wikipedia.org/wiki/Matrix_multiplication).\n",
    "1. $xMat=(aVec\\cdot bVec)aMat^2$,\n",
    "2. $yMat=bVec\\cdot aVec$\n",
    "<br/>\n",
    "(remember, that matrix multiplication is not commutative),\n",
    "4. $zMat=\\lvert cMat\\rvert (aMat\\cdot bMat)^\\intercal$, where $\\lvert A\\rvert$ denotes determinant of $A$ (use `det`)."
   ]
  },
  {
   "cell_type": "code",
   "execution_count": 10,
   "metadata": {
    "colab": {},
    "colab_type": "code",
    "id": "UjdLR34u33_e"
   },
   "outputs": [],
   "source": [
    "xMat = aVec @ bVec * (aMat @ aMat)\n",
    "yMat = bVec @ [aVec]\n",
    "zMat = np.linalg.det(cMat) * np.transpose(aMat @ bMat)"
   ]
  },
  {
   "cell_type": "markdown",
   "metadata": {
    "colab_type": "text",
    "id": "QJ3xTXgV33_i"
   },
   "source": [
    "** g) Declare `ismagic(A)` function ** which checks if matrix $A$ is a [magic square](https://en.wikipedia.org/wiki/Magic_square) and returns a boolean."
   ]
  },
  {
   "cell_type": "code",
   "execution_count": 1,
   "metadata": {
    "colab": {},
    "colab_type": "code",
    "id": "uCNJUx_G33_j"
   },
   "outputs": [],
   "source": [
    "def ismagic(A):\n",
    "    \n",
    "    # Check if A could be a magic square\n",
    "    if A.shape[0] != A.shape[1] or len(A.shape) != 2:\n",
    "        return false\n",
    "    \n",
    "    # Calculate all sums of elements in columns,\n",
    "    # rows and diagonals\n",
    "    sums = np.hstack((np.sum(A, axis=0),\n",
    "                      np.sum(A, axis=1),\n",
    "                      np.sum(np.diag(A)),\n",
    "                      np.sum(np.diag(np.rot90(A)))))\n",
    "    \n",
    "    # Check if all are the same\n",
    "    return np.all(np.equal(sums, sums[0]))"
   ]
  },
  {
   "cell_type": "markdown",
   "metadata": {
    "colab_type": "text",
    "id": "Es80_WJM33_n"
   },
   "source": [
    "### k-Nearest Neighbors\n",
    "\n",
    "The following excerpt of code loads the data describing iris flowers\n",
    "and shows relations between their length and petal width for three\n",
    "species (namely: setosa, versicolor, virginica)."
   ]
  },
  {
   "cell_type": "code",
   "execution_count": 11,
   "metadata": {
    "colab": {
     "base_uri": "https://localhost:8080/",
     "height": 313
    },
    "colab_type": "code",
    "id": "hOvm2SEE33_q",
    "outputId": "3b5eeae1-f4d9-44b1-bb70-a78723214b6d"
   },
   "outputs": [
    {
     "name": "stdout",
     "output_type": "stream",
     "text": [
      "Features:  ['sepal length (cm)', 'sepal width (cm)', 'petal length (cm)', 'petal width (cm)']\n",
      "Targets:  ['setosa' 'versicolor' 'virginica']\n"
     ]
    },
    {
     "data": {
      "image/png": "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\n",
      "text/plain": [
       "<Figure size 432x288 with 1 Axes>"
      ]
     },
     "metadata": {},
     "output_type": "display_data"
    }
   ],
   "source": [
    "# sklearn is a large collection of machine learning algorithms\n",
    "# here we’ll use it only for the built-in iris dataset\n",
    "from sklearn import datasets\n",
    "\n",
    "iris = datasets.load_iris()\n",
    "\n",
    "print('Features: ', iris.feature_names)\n",
    "print('Targets: ', iris.target_names)\n",
    "\n",
    "petal_length = iris.data[:, iris.feature_names.index('petal length (cm)')]\n",
    "petal_width = iris.data[:, iris.feature_names.index('petal width (cm)')]\n",
    "\n",
    "for target in set(iris.target):\n",
    "    example_ids = target == iris.target\n",
    "    plt.scatter(petal_length[example_ids], petal_width[example_ids],\n",
    "                label=iris.target_names[target], color='bgr'[target],\n",
    "                marker='x', alpha=0.7)\n",
    "unknown = np.array([\n",
    "    [1.5, 0.3],\n",
    "    [4.5, 1.2],\n",
    "    [5.5, 2.3],\n",
    "    [5.1, 1.7]\n",
    "])\n",
    "plt.scatter(unknown[:, 0], unknown[:, 1], marker='v',\n",
    "            color='gray', s=50, label='??')\n",
    "plt.xlabel('petal length (cm)')\n",
    "plt.ylabel('petal width (cm)')\n",
    "plt.grid(True)\n",
    "plt.legend(loc='upper left');"
   ]
  },
  {
   "cell_type": "markdown",
   "metadata": {
    "colab_type": "text",
    "id": "s2khewKZ33_w"
   },
   "source": [
    "Based on these two features, it is easy to distinguish iris setosa from the two remaining species. Yet iris versicolor and virginica remain mixed together. \n",
    "\n",
    "Looking closely at the plot, we might estimate the species of the selected unknown irises (gray triangles). For three of them the answer seems obvious – they belong in uniformly-colored areas covered by one species only. Yet unknown iris flower in (5.1, 1.7) is troublesome – it lays on the boundary of versicolor and virginica clusters. We can assume, that its species is the one of the closest one to it, coming from the training set (and so having a label). \n",
    "\n",
    "K-Nearest Neighbors method (http://en.wikipedia.org/wiki/K-nearest_neighbors_algorithm) solves the classification problem, i.e. sets class labels (species in case of irises) of a previously unseen sample by choosing the most common class among the top k neighbors of the sample in question (for instance according to the Euclidean distance). Thus, the k-Nearest Neighbors algorithm works as follows. For each unlabeled sample x:\n",
    "1. Find k nearest neighbors among the labeled samples.\n",
    "2. Set the most common label among them as label of x."
   ]
  },
  {
   "cell_type": "markdown",
   "metadata": {
    "colab_type": "text",
    "id": "8-G-sMUw33_x"
   },
   "source": [
    "#### Problem 2 [2p]\n",
    "\n",
    "1.  **[1p]** Load the iris data (in Python it’s built-in into machine learning libraries, use sklearn.datasets.load_iris), the data is also available on-line at https://archive.ics.uci.edu/ml/datasets/Iris\n",
    "\n",
    "2.  **[1p]** Irises are described with 4 attributes: petal and sepal widths and lengths. We often plot such data as matrices depicting relationships between pairs of attributes (the diagonal of which holds an ordinary histogram). Write code making a plot like the one below. Please pay attention to the details: make a proper legend and correctly label the axes.\n",
    "\n",
    "<img src=\"https://github.com/janchorowski/nn_assignments/blob/nn18/assignment1/iris4x4.png?raw=1\"/>"
   ]
  },
  {
   "cell_type": "code",
   "execution_count": 12,
   "metadata": {},
   "outputs": [],
   "source": [
    "from sklearn import datasets\n",
    "from itertools import product\n",
    "from itertools import cycle"
   ]
  },
  {
   "cell_type": "code",
   "execution_count": 13,
   "metadata": {},
   "outputs": [],
   "source": [
    "iris = datasets.load_iris()"
   ]
  },
  {
   "cell_type": "markdown",
   "metadata": {},
   "source": [
    "#### Plot two chosen features"
   ]
  },
  {
   "cell_type": "code",
   "execution_count": 14,
   "metadata": {},
   "outputs": [],
   "source": [
    "def plot_two_features(features: tuple,\n",
    "                      plot: plt=plt,\n",
    "                      data: np.array=iris.data,\n",
    "                      marker_size: int=15,\n",
    "                      colors: cycle=cycle(('blue', 'green', 'red'))) -> plt:\n",
    "    \n",
    "    n_labels = np.unique(iris.target).size\n",
    "    \n",
    "    for label in range(n_labels):\n",
    "        \n",
    "        # Array of examples satysfying equality with actual label\n",
    "        to_plot = iris.target == label\n",
    "        \n",
    "        # Disable grid\n",
    "        plot.grid(False)\n",
    "\n",
    "        # Iterate over colors\n",
    "        color = next(colors)\n",
    "        \n",
    "        # Plot exemples satysfying equality with actual label\n",
    "        plot.scatter(data[to_plot, features[0]], data[to_plot, features[1]],\n",
    "                     s=marker_size, color=color)"
   ]
  },
  {
   "cell_type": "code",
   "execution_count": 15,
   "metadata": {},
   "outputs": [
    {
     "data": {
      "image/png": "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\n",
      "text/plain": [
       "<Figure size 432x288 with 1 Axes>"
      ]
     },
     "metadata": {},
     "output_type": "display_data"
    }
   ],
   "source": [
    "plot_two_features((0, 1))"
   ]
  },
  {
   "cell_type": "markdown",
   "metadata": {},
   "source": [
    "####  Plot distribution of the feature"
   ]
  },
  {
   "cell_type": "code",
   "execution_count": 16,
   "metadata": {},
   "outputs": [],
   "source": [
    "def hist_feature(feature: int,\n",
    "                 plot: plt=plt,\n",
    "                 data: np.array=iris.data,\n",
    "                 n_bins=10,\n",
    "                 color='blue') -> plt:\n",
    "    \n",
    "    # Disable grid\n",
    "    plot.grid(False)\n",
    "    \n",
    "    # Plot histogram of a single feature\n",
    "    plot.hist(data[:, feature], bins=n_bins, color=color)"
   ]
  },
  {
   "cell_type": "code",
   "execution_count": 17,
   "metadata": {},
   "outputs": [
    {
     "data": {
      "image/png": "iVBORw0KGgoAAAANSUhEUgAAAW4AAAD1CAYAAABwdB+7AAAABHNCSVQICAgIfAhkiAAAAAlwSFlzAAALEgAACxIB0t1+/AAAADl0RVh0U29mdHdhcmUAbWF0cGxvdGxpYiB2ZXJzaW9uIDIuMi4yLCBodHRwOi8vbWF0cGxvdGxpYi5vcmcvhp/UCwAADOdJREFUeJzt3X+snfVdwPH3kaIRxhyTDGohdpvkE5G4QheGNiHdqstAQrfIttY4C+KGBpwzSwzyh1uWmGBkP8hmMEA7WmUMZCB1qQTFP+YSJXK7CcTmkyCrrFBbBjhQp7Pj+Md5Wk4P9/zoPefccz7l/Uqanvs8T8/98KW873Of85xLq91uI0mq44dmPYAk6dgYbkkqxnBLUjGGW5KKMdySVIzhlqRiVkzzyRcWFrzXUJKWYO3ata1++6Ya7uaTT/tTSNJxZWFhYeB+L5VIUjGGW5KKMdySVIzhlqRiDLckFWO4JakYwy1JxRhuSSpm6m/AUQ2tvu/Rmi7/Px7SsfOMW5KKMdySVIzhlqRiDLckFWO4JakYwy1JxRhuSSrG+7j1muW966rKM25JKsZwS1IxhluSihl6jTsizgJ2AGcALwO3ZOZNEfFJ4MPAs82h12fmrmkNKknqGOXFyUPAxzNzd0ScAixExN80+z6bmTdObzxJUq+h4c7M/cD+5vFLEbEHWDXtwSRJizuma9wRsRo4D3i42XRtRDwaEdsi4tRJDydJerWRwx0RrwO+AnwsM18EbgbeCqyhc0b+6alMKEk6ykhvwImIE+lE+47MvBcgMw907b8V+OpUJpQkHWXoGXdEtICtwJ7M/EzX9pVdh70PeHzy40mSeo1yxr0O+BDwWER8s9l2PbA5ItYAbWAvcPVUJpQkHWWUu0q+Diz2Ux28Z1uSZsB3TkpSMYZbkoox3JJUjOGWpGIMtyQVY7glqRjDLUnFGG5JKsZwS1IxhluSihnppwO+1rQWe4P/Mmm3Z/e5JdXgGbckFWO4JakYwy1JxRhuSSrGcEtSMYZbkoox3JJUjOGWpGIMtyQVY7glqRjDLUnFGG5JKsZwS1IxhluSijHcklSM4ZakYgy3JBVjuCWpmKH/67KIOAvYAZwBvAzckpk3RcQbgbuA1cBe4AOZ+cL0RpUkwWhn3IeAj2fmTwMXAtdExDnAdcBDmXk28FDzsSRpyoaGOzP3Z+bu5vFLwB5gFbAR2N4cth1477SGlCS94piucUfEauA84GHg9MzcD524A2+a+HSSpFcZOdwR8TrgK8DHMvPF6Y0kSRpkpHBHxIl0on1HZt7bbD4QESub/SuBg9MZUZLUbWi4I6IFbAX2ZOZnunbtBLY0j7cA909+PElSr6G3AwLrgA8Bj0XEN5tt1wM3AHdHxFXAU8D7pzOiJKnb0HBn5teBVp/dGyY7jiRpGN85KUnFGG5JKsZwS1IxhluSijHcklSM4ZakYgy3JBVjuCWpGMMtScUYbkkqZpSfVSJpglr9foDEMmi3Z/e5NTmecUtSMYZbkoox3JJUjOGWpGIMtyQVY7glqRjDLUnFGG5JKsZwS1IxhluSijHcklSM4ZakYgy3JBVjuCWpGMMtScX487g1U7P82dRSVZ5xS1IxhluSijHcklTM0GvcEbENuBQ4mJnnNts+CXwYeLY57PrM3DWtISVJrxjlxcnbgS8AO3q2fzYzb5z4RJKkgYZeKsnMrwHPL8MskqQRjHON+9qIeDQitkXEqRObSJI00FLDfTPwVmANsB/49MQmkiQNtKQ34GTmgcOPI+JW4KsTm0iSNNCSzrgjYmXXh+8DHp/MOJKkYUa5HfBOYD1wWkTsAz4BrI+INUAb2AtcPcUZJUldhoY7MzcvsnnrFGaRJI3Ad05KUjGGW5KK8ce6zhl/zKmkYTzjlqRiDLckFWO4JakYwy1JxRhuSSrGcEtSMYZbkoox3JJUjOGWpGIMtyQVY7glqRjDLUnFGG5JKsZwS1IxhluSijHcklSM4ZakYgy3JBVjuCWpGMMtScUYbkkqxnBLUjGGW5KKMdySVIzhlqRiDLckFbNi2AERsQ24FDiYmec2294I3AWsBvYCH8jMF6Y3piTpsFHOuG8H3tOz7Trgocw8G3io+ViStAyGhjszvwY837N5I7C9ebwdeO+E55Ik9bHUa9ynZ+Z+gOb3N01uJEnSIL44KUnFLDXcByJiJUDz+8HJjSRJGmSp4d4JbGkebwHun8w4kqRhRrkd8E5gPXBaROwDPgHcANwdEVcBTwHvn+aQkqRXDA13Zm7us2vDhGeRJI3AFyclqRjDLUnFDL1UMkut1qwnkKT54xm3JBVjuCWpGMMtScUYbkkqxnBLUjGGW5KKMdySVIzhlqRiDLckFWO4JakYwy1JxRhuSSrGcEtSMYZbkoox3JJUjOGWpGIMtyQVY7glqRjDLUnFGG5JKsZwS1IxhluSilkx6wEkLZ9Wazaft92ezeeF4/Of2TNuSSrGcEtSMYZbkooZ6xp3ROwFXgJ+ABzKzLdPYCZJ0gCTeHHynZn5nQk8jyRpBF4qkaRixg13G3gwIhYi4iOTGEiSNNi44V6XmecDFwPXRMRFE5hJ0nGm1Zrdr+PRWOHOzGea3w8C9wEXTGIoSVJ/Sw53RJwcEaccfgy8G3h8UoNJkhY3zl0lpwP3RcTh5/lSZj4wkakkSX0tOdyZ+STwtgnOIkkagbcDSlIxhluSijHcklSM4ZakYgy3JBVjuCWpGMMtScUYbkkqxnBLUjGGW5KKMdySVIzhlqRiDLckFWO4JakYwy1JxRhuSSrGcEtSMYZbkoox3JJUjOGWpGIMtyQVY7glqRjDLUnFGG5JKsZwS1IxhluSijHcklSM4ZakYgy3JBVjuCWpmBXj/OGIeA9wE3ACcFtm3jCRqSRJfS35jDsiTgD+BLgYOAfYHBHnTGowSdLixrlUcgHwRGY+mZnfB74MbJzMWJKkfsa5VLIK+HbXx/uAd/QetLCwsORP8MgjS/6jkjRTY6RvqHHC3VpkW7v7g7Vr1y52jCRpDONcKtkHnNX18ZnAM+ONI0kaZpwz7n8Czo6INwNPA5uAX5nIVJKkvlrtdnv4UX1ExCXA5+jcDrgtM/9wUoMtYZYTgEeApzPz0p59VwB/TOcLDMAXMvO25Z3wyCx7gZeAHwCHMvPtPftbdG6xvAT4b+CKzNy9zGOOMud64H7gW82mezPzU8s44uE53gDcBpxL51Ldr2fmP3Ttn5f1HDbneuZjPQO4q2vTW4A/yMzPdR0z8zUdcc71zMea/i7wG3T+vT8GXJmZ/9O1/0eAHcBa4Dngg5m5d9BzjnUfd2buAnaN8xwT9DvAHuD1ffbflZnXLuM8g7wzM7/TZ9/FwNnNr3cAN7PIi77LZNCcAH/f+0VyBm4CHsjMyyPih4GTevbPy3oOmxPmYD0zM4E1cORk6Gngvp7DZr6mI84JM17TiFgFfBQ4JzO/FxF307k6cXvXYVcBL2TmT0XEJuCPgA8Oet7j4p2TEXEm8Et0zmiq2wjsyMx2Zv4j8IaIWDnroeZRRLweuAjYCpCZ38/M/+g5bObrOeKc82gD8K+Z+W8922e+pj36zTkvVgA/GhEr6HzB7n0tcCOwvXl8D7Ch+a6mr+Mi3HQu1/we8PKAY345Ih6NiHsi4qwBx01bG3gwIhYi4iOL7F/sNstVyzLZ0YbNCfBzEfHPEfHXEfEzyzlc4y3As8AXI+IbEXFbRJzcc8w8rOcoc8Ls17PXJuDORbbPw5p26zcnzHhNM/Np4EbgKWA/8N3MfLDnsCPrmZmHgO8CPz7oecuHOyIuBQ5m5qC7Jv8KWJ2ZPwv8La98dZuFdZl5Pp1vN6+JiIt69g+9zXKZDJtzN/CTmfk24PPAXy73gHTOZM4Hbs7M84D/Aq7rOWYe1nOUOedhPY9oLudcBvzFIrvnYU2BoXPOfE0j4lQ6Z9RvBn4CODkifrXnsGNez/LhBtYBlzUvpn0ZeFdE/Hn3AZn5XGb+b/PhrXReBJiJzHym+f0gnWtyF/QcMhe3WQ6bMzNfzMz/bB7vAk6MiNOWecx9wL7MfLj5+B46gew9ZtbrOXTOOVnPbhcDuzPzwCL75mFND+s755ys6S8A38rMZzPz/4B7gZ/vOebIejaXU34MeH7Qk5YPd2b+fmaemZmr6XzL9HeZedRXtJ7rb5fReRFz2UXEyRFxyuHHwLuBx3sO2wn8WkS0IuJCOt9a7Z+3OSPijMPX4SLiAjp/l55bzjkz89+Bbzd3GEDnWue/9Bw28/UcZc55WM8em+l/+WHma9ql75xzsqZPARdGxEnNLBt4dX92Aluax5fTadjAM+6x7iqZZxHxKeCRzNwJfDQiLgMO0flKdsWMxjoduK/573cF8KXMfCAifhMgM/+Uzl06lwBP0LnV6so5nfNy4Lci4hDwPWDTsL9sU/LbwB3Nt8xPAlfO4XqOMue8rCcRcRLwi8DVXdvmbk1HmHPma5qZD0fEPXQu2xwCvgHc0tOnrcCfRcQTdPq0adjzjnUftyRp+ZW/VCJJrzWGW5KKMdySVIzhlqRiDLckFWO4JakYwy1JxRhuSSrm/wHEaKG8drc22wAAAABJRU5ErkJggg==\n",
      "text/plain": [
       "<Figure size 432x288 with 1 Axes>"
      ]
     },
     "metadata": {},
     "output_type": "display_data"
    }
   ],
   "source": [
    "hist_feature(0)"
   ]
  },
  {
   "cell_type": "markdown",
   "metadata": {},
   "source": [
    "#### All possible subplots and histograms of iris features"
   ]
  },
  {
   "cell_type": "code",
   "execution_count": 18,
   "metadata": {},
   "outputs": [],
   "source": [
    "# Create markers for legend\n",
    "lo1 = plt.scatter([],[], color='blue', marker='o')\n",
    "lo2 = plt.scatter([],[], color='green', marker='o')\n",
    "lo3 = plt.scatter([],[], color='red', marker='o')\n",
    "\n",
    "# Prevent unnecessary plotting\n",
    "plt.close()"
   ]
  },
  {
   "cell_type": "code",
   "execution_count": 19,
   "metadata": {},
   "outputs": [
    {
     "data": {
      "image/png": "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\n",
      "text/plain": [
       "<Figure size 576x576 with 16 Axes>"
      ]
     },
     "metadata": {},
     "output_type": "display_data"
    }
   ],
   "source": [
    "# Create grid of subplots\n",
    "fig, axes = plt.subplots(nrows=4, ncols=4, figsize=(8, 8))\n",
    "\n",
    "# Fill all the subplots\n",
    "for coeffs in (product(range(4), repeat=2)):\n",
    "    \n",
    "    # Increase density of tick labels\n",
    "    axes[coeffs].locator_params(nbins=10)\n",
    "    \n",
    "    if coeffs[0] == coeffs[1]:\n",
    "        hist_feature(coeffs[0], plot=axes[coeffs])\n",
    "    else:\n",
    "        plot_two_features(list(reversed(coeffs)), plot=axes[coeffs])\n",
    "    \n",
    "# Create proper legend   \n",
    "plt.figlegend(ncol=3, handles=(lo1,lo2,lo3),\n",
    "              labels=('setosa', 'versicolor', 'virginica'),\n",
    "              loc=(0.29,0.97), scatterpoints=3, frameon=True)\n",
    "\n",
    "# Set label titles\n",
    "for index in range(4):\n",
    "    axes[3][index].set_xlabel(iris.feature_names[index])\n",
    "    axes[index][0].set_ylabel(iris.feature_names[index])\n",
    "\n",
    "plt.tight_layout()"
   ]
  },
  {
   "cell_type": "markdown",
   "metadata": {
    "colab_type": "text",
    "id": "F6sG0bxf33_y"
   },
   "source": [
    "#### Problem 3 [2p]\n",
    "\n",
    "Implement the k-Nearest Neighbors algorithm. Try to\n",
    "take advantage of matrix calculus rather than using for loops.\n",
    "\n",
    "**Tip:** What is computed by \\begin{equation} \\sqrt{(X - Y)^T (X - Y)} \\end{equation} when both X and Y are vectors?\n",
    "\n",
    "**Tip:** Try to use broadcasting (NumPy: http://docs.scipy.org/doc/numpy/user/basics.broadcasting.html) and built-ins sort, numpy.sort, numpy.argsort (sorting), scipy.stats.mode (choosing the most common element of the set)."
   ]
  },
  {
   "cell_type": "markdown",
   "metadata": {},
   "source": [
    "#### KNN function "
   ]
  },
  {
   "cell_type": "code",
   "execution_count": 20,
   "metadata": {},
   "outputs": [],
   "source": [
    "from scipy import stats"
   ]
  },
  {
   "cell_type": "code",
   "execution_count": 21,
   "metadata": {},
   "outputs": [],
   "source": [
    "def knn(train_data: np.array, train_target: np.array,\n",
    "        test_data: np.array, k: int=5):\n",
    "    \n",
    "    \"\"\"\n",
    "    Calculate knn in efficient way by calculating all the\n",
    "    coefficients squares at once\n",
    "    \"\"\"\n",
    "\n",
    "    # Coeffs squares\n",
    "    test_data_sums = np.array([np.sum(test_data ** 2, axis=1)])\n",
    "    train_data_sums = np.array([np.sum(train_data ** 2, axis=1)])\n",
    "    \n",
    "    # Negate doubled matrix multiplication\n",
    "    mult = np.array(-2 * test_data.dot(np.transpose(train_data)))\n",
    "    \n",
    "    # Calculate distances from all samples of the train_data to the test data\n",
    "    distances = np.array(np.transpose(test_data_sums) + train_data_sums + mult)\n",
    "\n",
    "    # Find k nearest ones\n",
    "    nearest = train_target[distances.argsort()[:, :k]]\n",
    "\n",
    "    # Choose the best class\n",
    "    test_target = np.concatenate(stats.mode(nearest, axis=1)[0])\n",
    "    \n",
    "    return test_target "
   ]
  },
  {
   "cell_type": "code",
   "execution_count": 22,
   "metadata": {},
   "outputs": [
    {
     "data": {
      "text/plain": [
       "array([1, 1, 2, 1, 1, 2, 1, 1, 1, 2, 2, 2, 1, 1, 1, 2, 2, 2, 1, 1, 1, 1,\n",
       "       1, 1, 1, 1, 1, 1, 1, 1])"
      ]
     },
     "execution_count": 22,
     "metadata": {},
     "output_type": "execute_result"
    }
   ],
   "source": [
    "knn(iris.data[:120, :2], iris.target[:120], iris.data[120:, :2])"
   ]
  },
  {
   "cell_type": "markdown",
   "metadata": {},
   "source": [
    "#### Test KNN with splitted iris data"
   ]
  },
  {
   "cell_type": "code",
   "execution_count": 23,
   "metadata": {},
   "outputs": [],
   "source": [
    "def plot_knn_result(train_data: np.array, train_target: np.array,\n",
    "                    test_data: np.array, feature_1, feature_2,\n",
    "                    colors: tuple=cycle(('red', 'green', 'blue'))):\n",
    "\n",
    "        \"\"\"\n",
    "        Check results of the knn function\n",
    "        \"\"\"\n",
    "\n",
    "        # All possible labels\n",
    "        labels = np.unique(train_target)\n",
    "        \n",
    "        # Results of the knn function\n",
    "        test_target = knn(train_data, train_target, test_data, k=1)\n",
    "\n",
    "        for label in labels:\n",
    "            color = next(colors)\n",
    "\n",
    "            # Plot train data\n",
    "            indexes = np.where(train_target == label)\n",
    "\n",
    "            x = train_data[indexes][:, feature_1]\n",
    "            y = train_data[indexes][:, feature_2]\n",
    "\n",
    "            plt.scatter(x, y, color=color, marker='o', s=10)\n",
    "\n",
    "            # Plot test data\n",
    "            new_indexes = np.where(test_target == label)\n",
    "\n",
    "            x = test_data[new_indexes][:, feature_1]\n",
    "            y = test_data[new_indexes][:, feature_2]\n",
    "\n",
    "            plt.scatter(x, y, color=color, marker='x', s=50)"
   ]
  },
  {
   "cell_type": "code",
   "execution_count": 24,
   "metadata": {},
   "outputs": [
    {
     "data": {
      "image/png": "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\n",
      "text/plain": [
       "<Figure size 432x288 with 1 Axes>"
      ]
     },
     "metadata": {},
     "output_type": "display_data"
    }
   ],
   "source": [
    "plot_knn_result(iris.data[:135, :2], iris.target[:135], iris.data[135:, :2], 0, 1)"
   ]
  },
  {
   "cell_type": "markdown",
   "metadata": {
    "colab_type": "text",
    "id": "1iZtHs5A33_z"
   },
   "source": [
    "#### Problem 4 [2p]\n",
    "Consider the following experiment:\n",
    "1. We scramble the data and split it into two parts - training set (66.6% of all samples) and test set (33.4%).\n",
    "2. Based on the training set, we use the k-NN algorithm to predict the labels on the test set.\n",
    "3. We then check the number of errors and write it down.\n",
    "\n",
    "Do this 500 times for k ∈ {1, 3, 5, ..., 19}. Plot a function of the average number of errors\n",
    "as the function of k. It should be similar to the one below.\n",
    "\n",
    "<img src=\"https://github.com/janchorowski/nn_assignments/blob/nn18/assignment1/knn.png?raw=1\"/>"
   ]
  },
  {
   "cell_type": "markdown",
   "metadata": {},
   "source": [
    "####  Check efficiency of KNN for a particular k"
   ]
  },
  {
   "cell_type": "code",
   "execution_count": 32,
   "metadata": {},
   "outputs": [],
   "source": [
    "from sklearn.neighbors import KNeighborsClassifier\n",
    "from sklearn.model_selection import train_test_split\n",
    "from sklearn.metrics import accuracy_score"
   ]
  },
  {
   "cell_type": "markdown",
   "metadata": {},
   "source": [
    "##### Once-splitted data knn score"
   ]
  },
  {
   "cell_type": "code",
   "execution_count": 43,
   "metadata": {
    "scrolled": true
   },
   "outputs": [],
   "source": [
    "def knn_split_score(k: int=3,\n",
    "                    data: np.array=iris.data,\n",
    "                    target: np.array=iris.target,\n",
    "                    test_size=0.33) -> float:\n",
    "    \n",
    "    # Split the data and the target\n",
    "    train_data, test_data, train_target, test_target = \\\n",
    "        train_test_split(data, target, test_size=test_size)\n",
    "\n",
    "    # Calculate knn score\n",
    "    knn = KNeighborsClassifier(n_neighbors=k)\n",
    "    knn.fit(train_data, train_target)\n",
    "    score = knn.score(test_data, test_target)\n",
    "    \n",
    "    return score"
   ]
  },
  {
   "cell_type": "code",
   "execution_count": 78,
   "metadata": {},
   "outputs": [
    {
     "data": {
      "text/plain": [
       "0.98"
      ]
     },
     "execution_count": 78,
     "metadata": {},
     "output_type": "execute_result"
    }
   ],
   "source": [
    "knn_split_score()"
   ]
  },
  {
   "cell_type": "markdown",
   "metadata": {},
   "source": [
    "##### 500 times splitted data knn scores and errors "
   ]
  },
  {
   "cell_type": "code",
   "execution_count": 93,
   "metadata": {},
   "outputs": [],
   "source": [
    "def knn_500_times_score_single_k(k: int=3) -> np.array:    \n",
    "    \n",
    "    average_score = np.mean(np.array([knn_split_score(k=k) \n",
    "                                      for _ in range(500)]))\n",
    "    \n",
    "    return average_score"
   ]
  },
  {
   "cell_type": "code",
   "execution_count": 94,
   "metadata": {},
   "outputs": [
    {
     "data": {
      "text/plain": [
       "0.96096"
      ]
     },
     "execution_count": 94,
     "metadata": {},
     "output_type": "execute_result"
    }
   ],
   "source": [
    "knn_500_times_score_single_k()"
   ]
  },
  {
   "cell_type": "code",
   "execution_count": 96,
   "metadata": {},
   "outputs": [],
   "source": [
    "def knn_500_errors_k_in_range() -> np.array:\n",
    "    \n",
    "    errors_k_in_range = np.array([1 - knn_500_times_score_single_k(k)\n",
    "                                  for k in range(1, 20, 2)])\n",
    "    \n",
    "    return errors_k_in_range"
   ]
  },
  {
   "cell_type": "code",
   "execution_count": 97,
   "metadata": {},
   "outputs": [
    {
     "data": {
      "text/plain": [
       "array([0.04588, 0.04056, 0.03648, 0.03616, 0.03624, 0.03448, 0.03964,\n",
       "       0.04124, 0.04276, 0.04772])"
      ]
     },
     "execution_count": 97,
     "metadata": {},
     "output_type": "execute_result"
    }
   ],
   "source": [
    "knn_500_errors_k_in_range()"
   ]
  },
  {
   "cell_type": "markdown",
   "metadata": {},
   "source": [
    "##### Plot of average errors"
   ]
  },
  {
   "cell_type": "code",
   "execution_count": 102,
   "metadata": {},
   "outputs": [
    {
     "data": {
      "image/png": "iVBORw0KGgoAAAANSUhEUgAAAYsAAAEGCAYAAACUzrmNAAAABHNCSVQICAgIfAhkiAAAAAlwSFlzAAALEgAACxIB0t1+/AAAADl0RVh0U29mdHdhcmUAbWF0cGxvdGxpYiB2ZXJzaW9uIDIuMi4yLCBodHRwOi8vbWF0cGxvdGxpYi5vcmcvhp/UCwAAIABJREFUeJzt3Xl8FPX9x/HX5iAQ7vvIBQh8DKgg4VTwQvEoggcKeKHi0XpX26qtVbTtr9baIq1oVfAADxRFRYviLYgHEAQUwocjBAggV7gChFz7+2M2dF2T7IDZK/k8H488sjvzndn3LiGfzHxnvl+P1+vFGGOMqU5cpAMYY4yJflYsjDHGBGXFwhhjTFBWLIwxxgRlxcIYY0xQViyMMcYElRDKnYvIOcBEIB6YrKoPB6xPAqYCWcBOYJSq5vmtTwdWAONV9VHfsl8D1wFe4DvgGlUtCuX7MMaYui5kRxYiEg9MAs4FugNjRKR7QLNxwC5V7QJMAP4WsH4C8J7fPlOA24A+qnocThEaHZp3YIwxpkIoT0P1A9aoaq6qFgPTgREBbUYAL/gevw4MEREPgIhcAOQCywO2SQAaiEgCkAxsDlF+Y4wxPqE8DZUCbPR7ng/0r6qNqpaKyB6gpYgcBO4GzgJ+U9FYVTeJyKPABuAg8IGqfhD4wtnZ2XZbujHGHIWsrCxPZctDWSwqe8HAX+JVtXkQmKCqhSJyeIWINMc5GukE7AZmiMgVqvpi4E6Sk5OPNndYFBUVUb9+/UjHCMpy1qxYyQmxk9Vy1pwDBw5UuS6UxSIfSPN7nspPTxlVtMn3nVZqChTgHIGMFJFHgGZAuYgUAVuBdaq6HUBEZgInAT8pFpmZmTX7bmpYTk5O1GcEy1nTYiUnxE5Wy1lzsrOzq1wXymKxEOgqIp2ATTgd0ZcFtJkFjAW+AkYCn6iqFxhc0UBExgOFqvq4iPQHBohIMs5pqCHAohC+B2OMMYSwg1tVS4FbgDlADvCaqi4XkYdEZLiv2RScPoo1wJ3APUH2+Q1OR/hinMtm44CnQ/QWjDHG+IT0PgtVnQ3MDlh2v9/jIuCSIPsYH/D8AeCBmktpjDEmGLuD2xhjTFBWLIwxxgRlxcIYY0xQViyMMaYWWL11H6f+/VMWb9gVkv1bsTDGmBi352AJ109dxP5DZaQ2bxCS17BiYYwxMays3Mvt078lf9dBnryiN20ah+YucSsWxhgTw/75ofKZbueB4T3o27FFyF7HioUxxsSo977bwqRP1zKqTxpX9E8P6WtZsTDGmBikP+zjrhlLOTG9GQ9d0AOPp9LBYmuMFQtjjIkxew6UcMO0RTRMSuA/V2SRlBAf8te0YmGMMTGkrNzLbdO/ZfPug/znit60bRKeYc9DOjaUMcaYmvWPD5TPV23nLxceR1ZG6Dq0A9mRhTHGxIjZ323hic/WMqZfGpf3zwjra1uxMMaYGKA/7OM3M5bSO70Z44f3CPvrW7Ewxpgo59+h/WSYOrQDWbEwxpgoVlbu5dYIdGgHsg5uY4yJYo9+oMxdtZ3/u/D4sHZoB7IjC2OMiVL/XbaFJz9by5h+6VwW4ju0g7FiYYwxUShny16/Du3ukY5jxcIYY6LN7gPF3DBtEY3rh+8O7WCsz8IYY6JIWbmXW1/5lh/2FDH9hoG0iVCHdiArFsYYE0UembOSeat38NeLjicro3mk4xxmp6GMMSZKvLN0M099nstl/dMZ0y+yHdqBrFgYY0wUWLF5L797fRlZGc0Zf37479AOxoqFMcZE2K79xdz44iKaNEjgyct7Uy8h+n41V9lnISJu7v4oV9Xd1ezjHGAiEA9MVtWHA9YnAVOBLGAnMEpV8/zWpwMrgPGq+qhvWTNgMnAc4AWuVdWvXGQ1xpioU1pWzm3Tv2XrnkNMv3FA1HRoB6qufG0GFgHZ1Xwtq2pjEYkHJgHnAt2BMSISeLHwOGCXqnYBJgB/C1g/AXgvYNlE4H1VPRboCeRU8x6MMSaq/X2OMm/1Dh4a0YPe6dHToR2ouquhclT1xOo2FpFvq1ndD1ijqrm+ttOBEThHChVGAON9j18HHhcRj6p6ReQCIBfY7/d6TYBTgKsBVLUYKK4uozHGRKtZSzfz1NxcrhiQzugo69AOVN2RxUAX21fXJgXY6Pc837es0jaqWgrsAVqKSEPgbuDBgPadge3AcyLyrYhM9rU1xpiY4nRoL6Vvx+bcPyz6OrQDVXlkoapF/s9FpD5wBdAAeFlVdwa2CVDZ7OFel20eBCaoaqGIBObtDdyqqt+IyETgHuCPgTvJyYnus1NFRUVRnxEsZ02LlZwQO1ljMefeojJu++8mGiZ6uKNfY9au1ginC+5IbsqbCCwGioC3gMFB2ucDaX7PU3H6QSprky8iCUBToADoD4wUkUeAZkC5iBThnKrKV9VvfNu/jlMsfiIzM9Pl24qMnJycqM8IlrOmxUpOiJ2ssZaztKycq59byK6D5bx64wBOjKJ+iuzs7CrXVXc11MvAH1V1rW9RC+Al3+PbXbzuQqCriHQCNgGjgcsC2swCxgJfASOBT1TVi18hEpHxQKGqPu57vlFERFUVGMKP+0CMMSaqPTJH+WLNDh65+ISoKhTBVHdkcR/wZxHZDPwJeBTnl3t9/tcpXSVVLRWRW4A5OJfOPquqy0XkIWCRqs4CpgDTRGQNzhHFaBeZbwVeEpF6OB3g17jYxhhjIu7tJZt4em4uVw7I4NK+acE3iCLV9VnkApeJyCDgVeC/wFmqWuZ256o6G5gdsOx+v8dFwCVB9jE+4PkSoI/bDMYYEw3WFhzi7veX0bdjc/44LPJDjh+pKq+GEpHmInIzzj0Sl+JcqTRHRIaFK5wxxtQGBfuLeeiTrTRrUI8nLs+Kyju0g6ku8VvAIZzTTtNUdSpwPpAlIrPCEc4YY2JdaVk5t7y8mF0Hy/jPlVm0bpwU6UhHpbo+i5bAyziXyl4FoKoHgQdFpH0YshljTMx7+L2VfLl2J78+qTW90ppFOs5Rq65YPAB8CJQRcHmqqm4JZShjjKkN3l6yiclfrOOqgRkM7Rr52e5+juo6uN8A3ghjFmOMqTW+37SH372+jH4dW/DHYd1Zsyr6b7yrTnUd3OODbeymjTHG1DUF+4u5cVo2LRrWY9LlvUmMj70O7UDVnYa6TkT2VrPeg3NfxPgaTWSMMTGsokN7e+EhZtw4MGY7tANVVyyeARoH2f6ZGsxijDEx76++Du2/jzyBnjHcoR2ouj6LwBFfjTHGVOPNb/OZ8sU6xg7M4JI+sXWHdjCxfyLNGGOiwPeb9nDPG9/Rr1ML7ovBO7SDsWJhjDE/087CQ4c7tJ+oJR3agap9RyISLyK/DlcYY4yJNV6vlzteXcL2wkM8dWUWrRrVjg7tQNUWC9+ggSPClMUYY2LOovW7mLd6B787WzghtfZ0aAdyM/nRfBF5HGfk2cPzYavq4pClMsaYGPH03FyaJydyef+MSEcJKTfF4iTf94f8lnmBM2o+jjHGxI612wv5KGcrt57ehQb1Yns4j2CCFgtVPT0cQYwxJtZMnreOxPg4rhzYMdJRQi5osRCRpjiDCp7iW/Q58JCq7gllMGOMiWY7Cg/xxuJ8Lu6dWmvu0q6Om+u7ngX24UyAdCmwF3gulKGMMSbaTf0yj5Kycq4b3CnSUcLCTZ/FMap6sd/zB0VkSagCGWNMtDtYXMbUr9dzZmZbjmndKNJxwsLNkcVB3zzcAIjIycDB0EWKnJU/7GX8rOWUlpVHOooxJorNyN7I7gMl3HBK50hHCRs3Rxa/BKb6+i4AdgFjQxcpcvILDvL8l3kM7tqKIZltIx3HGBOFysq9TJ63jl5pzeiT0TzSccIm2B3ccYCoak/gBOAEVT1RVZeFJV2YnSqtadUoiVcWbIx0FGNMlPpg+Q9sKDjAjad0xuPxRDpO2AS7g7scuMX3eK+qVje/RcxLjI9jZFYqn+o2tu4tinQcY0yU8Xq9PDU3l4yWyQzt0S7SccLKTZ/FhyLyGxFJE5EWFV8hTxYho/umUVbuZcYiO7owxvzYovW7WLJxN9cN6kR8XN05qgB3fRbX+r7f7LfMCwTt2RGRc4CJQDwwWVUfDlifBEwFsoCdwChVzfNbnw6sAMar6qN+y+OBRcAmVR3m4j241rFVQwZ2bsmrizZy02ldiKtjPxDGmKo99bkztMfIrNo1V4UbbvosrlDVTgFfbgpFPDAJOBfoDowRkcBB3scBu1S1CzAB+FvA+gnAe5Xs/nYgJ1iGozW6XxobCw4yf+2OUL2EMSbGVAztceWAjFo/tEdl3PRZPFpdm2r0A9aoaq6qFgPT+ekItiOAF3yPXweGiIgHQEQuAHKB5f4biEgq8Atg8lHmCursHu1olpzIdOvoNsb4TJ63jnoJcVx1UsdIR4kIN30WH4jIxRW/xI9ACuD/2zbft6zSNqpaCuwBWopIQ+BuoLKpXR8DfgeE7GaI+onxXHRiKh+s+IGdhYdC9TLGmBixfd//hvaorfNVBOOmz+JOoCFQJiIHAQ/gVdUmQbarrLh4XbZ5EJigqoUicniFiAwDtqlqtoicVt2L5+T8vLNU/VqW8GyZlyfeW8zI42p+jPqioqKfnTEcLGfNipWcEDtZw5Fz6rcFlJSWc0aH8qN+rVj5PKviZtTZxke573zAvxcoFdhcRZt8EUkAmgIFQH9gpIg8AjQDykWkCOdIZLiInAfUB5qIyIuqekXgi2dmZh5lbN/2QO8lhXy64RD3jTy2xq+nzsnJ+dkZw8Fy1qxYyQmxkzXUOQ8Ul/LejE84s3tbzhrQ86j3EwufZ3Z2dpXr3Iw66wEuBzqp6p9EJA1or6oLgmy6EOgqIp2ATcBo4LKANrNw7gb/ChgJfKKqXmCw3+uPBwpV9XHfont9y08DflNZoagpo/ul87vXl7FgXQH9O7cM1csYY6LY69n5dW5oj8q46bN4AhjI/37RF+Jc5VQtXx/ELcAcnCuXXlPV5SLykIgM9zWbgtNHsQbndNc9R5g/pIad0J7GSQlMX2gd3cbURRVDe5yYXreG9qiMmz6L/qraW0S+BVDVXSJSz83OVXU2MDtg2f1+j4uAS4LsY3wVyz8DPnOT42gl10tgeK8OvJ6dz/jze9A0OTGUL2eMiTJzfEN73HtuzZ+KjjVujixKfPdMeAFEpDUhvBIp2ozpl86h0nLeWrIp0lGMMWFUl4f2qIybYvEv4E2gjYj8BfgC+L+Qpooix6U05biUJryyYANeb+DFXMaY2mph3i6W1tGhPSoTtFio6ks49zX8FdgCXKCqM0IdLJqM7pvOyh/2sTTfZpI1pq54em7dHdqjMm76LFDVlcDKEGeJWiN6deAv/81h+oIN9Eqr+XsujDHRpWJoj9uGdK2TQ3tUxs1pqDqvcf1Ehp3QnllLN1N4qDTScYwxITZ5Xi5JCXFcNTAj0lGihhULl0b3S+dAcRnvLA28r9AYU5s4Q3ts4uKsuju0R2WsWLjUO70Z3do2YvqCDZGOYowJoalf5VFSVs51gzpFOkpUcXMH90U4Q4e3wRnLye3YULWKx+NhdN90Hnp3BSs276V7hzr19o2pEw4UlzLt6/WcldmWzq0bRTpOVHFzZPEIMFxVm6pqE1VtXNcKRYWLeqdQLyGO6Qvt6MKY2siG9qiam2KxVVVjd6jEGtQsuR7nHteON7/dxMHiskjHMcbUIP+hPbLq+NAelXFz6ewiEXkVeAs4PLmDqs4MWaooNrpvOm8v2czs77ZwcVZqpOMYY2pIxdAevz/PhvaojJsjiybAAWAocL7vq0bnvY4lAzq3oFOrhnYqyphapGJoj44tkzmruw3tURk381lcE44gscLj8TCqbxoPv7eSNdv20aXN0U73YYyJFhVDe/zpguNsaI8qBD2yEJFUEXlTRLaJyFYRecM3D3addXHvVBLiPDZHtzG1xOGhPXrX6V9t1XJzGuo5nEmKOuDMVPeOb1md1bpxEmdmtmXmt5s4VGod3cbEsjXbnKE9rhzY0Yb2qIabYtFaVZ9T1VLf1/NA6xDninqj+6VRsL+YD1dsjXQUY8zPMOULG9rDDTdXQ+0QkSuAV3zPxwA7QxcpNgzu2pqUZg2YvmAjw07oEOk4xpijUDG0x0gb2iMoN0cW1wKXAj/gDFE+0resTouP83BpnzS+WLODDTsPRDqOMeYo2NAe7rm5GmoDMDxYu7ro0r6pTPx4Fa8u2sBvzz420nGMMUfAhvY4MlUWCxH5nao+IiL/xjelqj9VvS2kyWJA+6YNOE3aMGNRPr8+sxsJ8TYuozGxYsYiG9rjSFT3261iiI9FQHYlXwYY3TeNbfsO8cnKbZGOYoxxqazcy+Qvcumd3ow+HVtEOk5MqPLIQlXf8T08EDiNqohcEtJUMeSMY9vQpnES0xdutEndjYkR73//AxsLDvKH8zIjHSVmuDlvcq/LZXVSQnwcl/RJ5TPdxpY9ByMdxxgThNfr5em5a21ojyNUXZ/FucB5QIqI/MtvVRPA5hb1M6pPOpM+XctrC/O5/cyukY5jjKnGwrxdLM3fY0N7HKHqjiw24/RXFPHjvopZwNmhjxY70lsmM6hLK15btJGy8p9cC2CMiSJPz11Li4b1bGiPI1Rdn8VSYKmIvKyqJUezcxE5B5gIxAOTVfXhgPVJwFQgC+dGv1Gqmue3Ph1YAYxX1UdFJM3Xvh1QDjytqhOPJltNG90vjVte/pZ5q7dzmrSJdBxjTCWcoT22cfuQrja0xxFy02fRUUReF5EVIpJb8RVsIxGJByYB5wLdgTEi0j2g2Thgl6p2ASbgTN/qbwLwnt/zUuAuVc0EBgA3V7LPiDire1taNKxngwsaE8Umz7OhPY6W24EEn8T5RX06zl/201xs1w9Yo6q5qloMTAdGBLQZAbzge/w6MEREPAAicgGQCyyvaKyqW1R1se/xPpzLe1NcZAm5pIR4Lu6dwkc5W9m+71DwDYwxYbVtXxEzfUN7tLShPY6Ym2LRQFU/Bjyqul5VxwNnuNguBfD/Mzufn/5iP9xGVUuBPUBLEWkI3A08WNXORaQjcCLwjYssYTGqbzql5V7eWJwf6SjGmADTvlpPSXk542xoj6PiZiDBIhGJA1aLyC3AJsDNSfnKLjMI7P2tqs2DwARVLRSRnzQQkUbAG8Adqrq3shfPyYnMtOHHtanPtPlrOaX1oWqnZiwqKopYxiNhOWtWrOSE2MnqJmdRSTnPz9/AgNRkDu3YSM6OMIXzzxAjn2dV3BSLO4Bk4DbgTzinosa62C4fSPN7nopzhVVlbfJFJAFoChQA/YGRIvII0AwoF5EiVX1cRBJxCsVL1c0DnpkZmZttrj3YmDtfW8qepLYMPKZlle1ycnIilvFIWM6aFSs5IXayusn5wpd57DtUzm+G9SQzIzJ3bMfC55mdXfXgHG4GElzoe1gIHMkUqwuBriLSCedoZDRwWUCbWTiF5yuc0Ww/UVUvMLiigYiMBwp9hcIDTAFyVPWfR5AlbM49rj0PzFrO9IUbqi0WxpjwKC0rPzy0R1aECkVt4GZa1Q9FpJnf8+YiMifYdr4+iFuAOTgd0a+p6nIReUhEKkaxnYLTR7EGuBO4J8huTwauBM4QkSW+r/OCZQmnBvXiufDEFN77/gd2HyiOdBxj6rw5y7eyseAgN5xyTKSjxDQ3p6FaqeruiiequkvE3Y0EqjobmB2w7H6/x0VAteNM+TrUKx5/QeX9HFFldN90pn61npmLN3GtdaYZEzE/HtqjbaTjxDQ3V0OV+26OA0BEMqhkyHLzP907NKFnalOmL9yA12sflTGRsmBdAUvz9zBucGcb2uNnclMs/gB8ISLTRGQaMBcbSDCo0f3SWbW1kMUbdgdvbIwJiWfm5drQHjUkaLFQ1feB3sCrwGtAlqoG7bOo687v2YHkevFMX7Ah0lGMqZPWbNvHRznbuHJAhg3tUQOqLBYicqzve28gHeey101Aum+ZqUajpASG9+zAu8u2sK/oqIbWMsb8DJPnrbOhPWpQdR3cdwI3AP+oZJ0Xd3dx12mj+6UzfeFG3l6ymSsG2A+sMeFSMbTHJX1saI+aUl2x+ND3fZyqBh040PxUz9SmHNuuMdMXbrBiYUwYTf3SGdrjusE2v3ZNqa7PoqIT+/VwBKmNPB4PY/ql8/2mvXy/aU+k4xhTJxwoLmXa1+sZ2r0tnVo1jHScWqO6I4udIvIp0ElEZgWuVNXhlWxjAlzQK4X/m53DKws28JcLj490HGNqvdcWbmTPwRJuOMWOKmpSdcXiFzhXQU2j8n4L40LT5ER+cXx7Zi3ZzB9+kUlyPTf3QRpjjkZpWTlT5q8jK6O5De1Rw6qbKa8Y+FpETlLV7WHMVOuM7pfOzG838d9lW7ikT1rwDYwxR+X95T+wseAgfzgvKuZEq1WqLBYi8piq3gE8KyI/uQ3ZTkO517djc45p3ZDpCzdasTAmRLxeL8/MzaVTq4Y2tEcIVHdOpGI2vEfDEaQ283g8jO6bzl9m57Bq6z66tW0c6UjG1DoVQ3v8+YLjbGiPEKjyaihVzfZ9/7ziC1iGM2f25+EKWFtc1DuFxHiPzdFtTIg8Pdc3tEeWDe0RCm6GKP9MRJqISAtgKfCciETlXBLRrGWjJIb2aMfMb/MpKimLdBxjapU12/bx8cptXDUwg/qJNrRHKLgZSLCpb+rSi4DnVDULODO0sWqnMX3T2X2ghDnLf4h0FGNqlWfmOkN7XGk3v4aMm2KRICLtgUuBd0Ocp1Y76ZiWpLVoYKeijKlBBQdLefNbG9oj1NwUi4dwZrtbo6oLRaQzsDq0sWqnuDgPo/qk8VXuTjbvtcEFjakJ7+TspaS8nHGD7Ca8UHIzB/cMYIbf81zg4lCGqs0u6ZPGhI9W8/7qvQzpH+k0xsS2/YdKeVf32tAeYRC0WIjII8CfgYPA+0BP4A5VfTHE2Wqltk3qc7q04aM1OygpKycx3s3BnTGmMjMWbaSwuNzm1w4DN7+phvo6uIcB+UA34LchTVXLjemXxq6iMj7O2RrpKMbErKKSMp6em0v31klkZTSPdJxaz02xSPR9Pw94RVULQpinTji1W2taJsfzinV0G3PUpi/YwOY9RVxxoo0BFQ5uisU7IrIS6AN8LCKtgaLQxqrdEuLjGNqlMXNXbyd/14FIxzEm5hwsLuPxT9fSv1MLerWrH+k4dYKbObjvAQYCfVS1BNgPjAh1sNru7K7OkB8zFuVHOIkxsWfa13nsKDzEXUMFj8eG9ggHt72rKcDFInIVMBIYGrpIdUPbRokM7tqaGYs2Ulb+k3EajTFVKDxUypOfreWUbq3p18lOQYWLm6uhHgBOA7oDs4FzgS+AqS62PQeYCMQDk1X14YD1Sb79ZAE7gVGqmue3Ph1YAYxX1Ufd7DOWjOmbxq9eWszcVds5/dg2kY5jTEx47ot17DpQwl1ndYt0lDrFzZHFSGAI8IOqXoNz6WzQ2yRFJB6YhFNcugNjRCRwkPlxOAMTdgEmAH8LWD8BeO8I9xkzhmS2pVWjeryyYEOkoxgTE/YcKOHpebmc1b0tPdOaRTpOneKmWBxU1XKgVESaANsAN7dK9sO56zvXN5HSdH7a1zECeMH3+HVgiIh4AETkAiAXWH6E+4wZ9RLiuDgrlY9XbmPbXrtmwJhgnpmXy76iUu60o4qwc1MsFolIM+AZIBtYDCxwsV0K4H9taL5vWaVtVLUU2AO0FJGGwN3Ag0exz5gyum86ZeVeZmRbR7cx1dlZeIhn569j2AntyWzfJNJx6hw3w33c5Hv4HxF5H2iiqstc7LuySxQCe3KravMgMEFVC0XkSPcJQE5OjouIkVNUVHQ44wnt6jNt/lpOa1tMXJRd2eGfM5pZzpoXbVknL9pJUUkZwzvH/yhXtOWsSqzkrEp106r2rm6dqi4Osu98wH8O0VRgcxVt8kUkAWgKFAD9gZG+oUaaAeUiUoRzZBNsnwBkZmYGiRdZOTk5hzOOO9SE26cvYXe9NpzcpVWEk/2Yf85oZjlrXjRl3ba3iHdfyuOCE1MYOqDnj9ZFU87qxELO7OzsKtdVd2Txj2rWeYEzgrzuQqCriHQCNgGjgcsC2swCxgJf4XSkf6KqXmBwRQMRGQ8UqurjvoISbJ8x5+we7WiWnMgrCzZEXbEwJhpM+nQNZeVebh/SNdJR6qwqi4Wqnv5zdqyqpSJyC87w5vHAs6q6XEQeAhap6ixgCjBNRNbgHFGMPpp9/pyc0aB+YjwXnpjCS19voGB/MS0a1ot0JGOiRv6uA7y8YAOX9Ekjo6WNLBspbu6zuBl4SVV3+543B8ao6hPBtlXV2Tj3Zvgvu9/vcRFwSZB9jA+2z9pgdN90npufx8zF+Vw32MblN6bC45+swYOHW8/oEukodZqbq6GurygUAKq6C7g+dJHqJmnXmBPTm/HKgg14vXZHtzEAeTv2MyM7n8v6p9OhWYNIx6nT3BSLuIp7H+DwjXF2niQExvRNZ+32/SxavyvSUYyJCv/6eDWJ8R5uOt3mq4g0N8ViDvCaiAwRkTOAV3AmQTI1bFjP9jRKSrA7uo0BVm/dx5tLNjF2YEfaNLaRZSPNTbG4G/gY+BVws+/x70IZqq5KrpfA8F4dmP3dFvYctDm6Td322EerSU6M58ZT7agiGri5Ka8c+I/vy4TYmL7pvPzNBmYt2cSVAztGOo4xEbF88x7++90Wbjuji10dGCWCFgsTXsenNqVHhyY8+M4K/vXJGprUT6Bx/UQa10+gScX3Bok0Tkqgsf+6Bj9u0ygpgQSb39vEqAkfrqJJ/QTG2ZWBUcOKRRR6+KITmLV0E/uKStlXVMreohL2FZWyefdB9haVsq+ohKKS8qD7aVgv/nAxqSgsFUXlR8XncJsfF55G9ezHw4Tftxt28VHONn57ttC0QWLwDUxYuP5tICINVXV/KMMYx/GpTTk+tWm1bYpLyyk85BSOvQd9332FxL/A7Dv8vZRdB4rZUHDgcNvi0uoLjscDA1KTeapTF5rUt/+0Jjz++eEqWjSsx9UndYx0FOPHzU15JwGTgUZAuoj0BG70G2DQREC9hDhaJNT7WedzD5WWOYXl4P8Kin+x2bKniOfnr+MaU/yXAAAYpElEQVSiJ75kytg+dvesCblvcncyb/UO/nBeJg2T7Mg2mrj515gAnI0zjhOqulRETglpKhMWSQnxJDWKp1Wjquey6tawiL/O28GISfN58vIsBh7TMowJTV3i9Xr5xweraNM4iSsGZEQ6jgngqgdUVTcGLCoLQRYThU5o14C3bjqZVo2SuHLKN3YPiAmZL9bsYEFeAbec0YUG9eIjHccEcFMsNvpORXlFpJ6I/AaI3UHZzRHr2KohM286iZO7tOLemd/x4DvLKS0L3sFujFter5dHP1hFSrMGjOqbFnwDE3ZuisUvcW7GS8GZf6KX77mpQ5rUT2TK2D5ce3Innpufx7UvLGJvkd04aGrGxznbWLpxN7cN6UJSgh1VRCM3N+XtAC4PQxYT5RLi47j//O50a9uI+976ngsnzWfK2L50bGUd3+bolZd7+eeHq+jYMpmLeqdGOo6pgpurof5VyeI9OHNSvF3zkUy0G90vnY6tGvKrF7O54In5PHF5b046xiZtMkfn/eU/sGLLXiaM6kmi3Ugatdz8y9THOfW02vd1AtACGCcij4Uwm4liAzq35O2bB9G6URJXTVnAS9+sj3QkE4PKfEcVXdo0YnjPlEjHMdVwUyy6AGeo6r9V9d/AmUAmcCEwNJThTHRLb5nMzJtOYlDXVvzhze8ZP8s6vs2RmbV0E2u2FXLnWd2Ij/ME38BEjJtikQL4n5RuCHRQ1TLgUEhSmZjRuH4iU8b25bpBnXj+yzyueX6hjZhrXCkpK+exj1bTvX0TzunRLtJxTBBuisUjwBIReU5Enge+BR4VkYbAR6EMZ2JDfJyH+4Z1528XH8/XuTu58In5rNthI8OY6s1cnM/6nQe4a2g34uyoIuoFLRaqOgU4CXjL9zVIVSer6n5V/W2oA5rYMapvOi+O68+u/cVcMGk+X67ZEelIJkodKi3jXx+voVdaM844tk2k4xgX3F56UARsAQqALjbch6lK/84tmXXLINo2SeLKZxcw7Wvr+DY/9erCjWzafZC7hnbD47GjilgQtFiIyHXAXJzpVR/0fR8f2lgmlqW1SOaNX53Eqd1a88e3vuf+t7+3jm9z2MHiMv79yRr6dWrBoC52yXWscHNkcTvQF1ivqqcDJwLbQ5rKxLzG9RN55qo+XD+4E1O/Ws/Vzy1kzwHr+Dbw4tfr2b7vEHedZUcVscRNsShS1SIAEUlS1ZWAhDaWqQ3i4zz84RfdeWTkCXyzzun4zt1eGOlYJoIKD5Xy5OdrGdy1Ff072wjGscRNscgXkWY4ndsfisjbwObQxjK1yaV90nj5+gHsPljCBZPm88Vq6/iuq174Mo+C/cXcNdT+3ow1bsaGutD3cLyIfAo0Bd53s3MROQeYCMQDk1X14YD1ScBUIAvYCYxS1TwR6Qc87WvmAcar6pu+bX4NXAd4ge+AayqOfEz06tuxBW/ffDLXvbCIsc8tYPz53blyYMdIxzJhtOdgCU99vpYzM9vSK61ZpOOYI1TtkYWIxInI9xXPVfVzVZ2lqsXBdiwi8cAk4FygOzBGRLoHNBsH7FLVLjiTLP3Nt/x7oI+q9gLOAZ4SkQQRSQFu8607DqcIjXbzRk3kpbVI5o2bTuK0bq3549vLue+t7yixju86Y8q8XPYWlXLnWd0iHcUchWqLhaqWA0tFJP0o9t0PWKOqub7iMh0YEdBmBPCC7/HrwBAR8ajqAVUt9S2vj3MUUSEBaCAiCUAydkospjRKSuDpq/pw4ymdefHrDVz93AJ2Hwj6t4eJcQX7i5nyxTp+cXx7undoEuk45ii4mVa1PbBcRBYAh2/LVdXhQbZLAfxn2MsH+lfVRlVLRWQP0BLYISL9gWeBDOBKX/HYJCKPAhuAg8AHqvqBi/dgokh8nId7z8ukS5tG/OHN77nwiS+ZPLYPx7RuFOloJkSe+nwtB0vK+PVZXSMdxRwlN8XiwaPcd2XXxHndtlHVb4AeIpIJvCAi7wENcI5GOgG7gRkicoWqvhi4k5yc6J7Mr6ioKOozQmhzHtcQ/m9oO/706Q8M/9c87j21DVkpyUe1L/s8a15NZS04WMrz8zdyeqdGlOzMJ2dnDYTzEyufaazkrIqbDu7PRSQD6KqqH4lIMk5fQTD5gP/8iKn89JRRRZt832mlpjh3ifu/fo6I7AeOwykS61R1O4CIzMQZiuQnxSIzM9NFxMjJycmJ+owQ+pyZmdD/+ANcP3URD3yylfuHdeeqgRlHfP29fZ41r6ayjp+1nFIv3H9xHzJa1vxEWbHymcZCzuzs7CrXubmD+3qc/oSnfItScC6jDWYh0FVEOolIPZyO6FkBbWYBY32PRwKfqKrXt02C7/UzcO7ryMM5/TRARJJFxAMMweYDj3lpLZJ5/Vcncbq04YFZy7nvre+t47uW2Lz7IC9/s4FL+6SGpFCY8HFzn8XNwMnAXgBVXQ0EHfnL18dwC87wIDnAa6q6XEQeEpGK/o4pQEsRWQPcCdzjWz4Ip2N9CfAmcJOq7vCdmnodWIxz2Wwc/7vE1sSwRkkJPHVlFr889Rhe+mYDY5+1ju/a4N+frAHgljOsryLWuemzOKSqxSLOTTS+v/gD+x4qpaqzgdkBy+73e1wEXFLJdtOAaVXs8wHgATevb2JLfJyHe849lq5tGnHvzO+4YNJ8Jo/tS5c21vEdi9bv3M+MRRu5vH86Kc0aRDqO+ZncHFl8LiK/x7lc9SxgBvBOaGOZuuzirFReuaE/hYdKufCJ+Xy+yoYii0UTP15NfJyHm0/vEukopga4KRb34Awc+B1wI86Rwn2hDGVMVkYL3rr5ZFKaNeCa5xYw6dM1lJW7OqA1UWDNtkLe+nYTY0/qSJsm9SMdx9QAN6ehRgBTVfWZUIcxxl9qc2eo89+9sYy/z1E+XbmNf17ai/SWR3d5rQmfxz5aRYPEeG48pXOko5ga4ubIYjiwSkSmicgvKq5SMiYcGiYl8PiYE3lsVC906z7OmTiX6Qs24PXaUUa0ytmyl3eXbeHaQZ1o2Sgp0nFMDXEzreo1QBecvorLgLUiMjnUwYyp4PF4uODEFObccQq90ppxz8zvuH7qIrbvOxTpaKYS//xwFU3qJ3DdYDuqqE1cTauqqiXAezjjO2Xz0zGejAm5Ds0a8OK4/vxxWHfmrt7BOY/NZc7yHyIdy/hZunE3H67Yyg2ndKZpg8RIxzE1yM1NeeeIyPPAGpwb5ybjjBdlTNjFxXkYN6gT7946iHZN63PjtGx+O2Mp+4vtJr5o8I8PV9E8OZGrT+4U6Simhrnpf7ga54jiRlW1434TFbq1bcybN53MxI9X8eRna5mrCfyrcTubfS2CFuYVMHfVdn5/3rE0SrKuzdrGTZ/FaFV9q6JQiMjJIjIp9NGMqV69hDh+e/axzPjlQDzA6Ge+5q/v5XCotCzS0eocr9fLo3OU1o2TuHJAx0jHMSHgqvyLSC+czu1LgXXAzFCGMuZIZGW04InhqcxYU85Tn+fyuW5nwqheZLa3eRPC5cu1O/lmXQEPDu9Bg3puxhk1sabKYiEi3XAG/xuDM+Xpq4BHVU8PUzZjXGuQGMdfL+rBmZltuPuN7xjx+HzuGtqN6wZ3Jj7uyEawNUfG6/Xy6AdKh6b1Gd0vLfgGJiZVdxpqJc6oruer6iBV/Tdgx/cmqg3JbMucOwZz+rGt+et7KxnzzNdsLDgQ6Vi12qe6jW837Oa2IV1JSrCjitqqumJxMfAD8KmIPCMiQ6h8siJjokrLRkn854osHr2kJys27+XcifOYsWij3cgXAuXlXv7xwSrSWyRzcVZqpOOYEKqyWKjqm6o6CjgW+Az4NdBWRJ4UkaFhymfMUfF4PIzMSuW92wfTvUMTfvv6Mn75YjY7C+2Cvpo0Z/kPLN+8lzvO7EpivKvbtkyMcnM11H5VfUlVh+HMdreE/807YUxUS2uRzCvXD+D35x3Lpyu3c/Zj8/g4Z2ukY9UKZeVeJny0imNaN2REr5RIxzEhdkR/Cqhqgao+papnhCqQMTUtPs7DDaccw9u3nEyrRvUY98Ii7p25jP2HSiMdLaa9u2wzq7YWcudZYhcR1AF23GjqjMz2TXj7lpO58dTOTF+4kXMnziN7fUHwDc1PlJaVM+HDVWS2b8K5x7WLdBwTBlYsTJ2SlBDPvedmMv36AZR7vVzyn6/4+5yVFJfacCFu7Sw8xJ/eXUHezgPcdVY34uyook6we/JNndS/c0veu30wf3p3BZM+Xctnvhv5urVtHOloUWvdjv08My+XN7LzOVRazsW9UxmS2SbSsUyYWLEwdVbj+ok8MrInZ2a25d6Z3zHs319w9znHcs1JHe2vZT/Z63fx9Ny1fLBiK4nxcVzcO4Vxgzrb3Oh1jBULU+cN7dGOE9Obc+/MZfzp3RV8nLOVv1/Sk5RmDSIdLWLKy718uWE/9332Jdnrd9G0QSK3nN6FqwZ2pHVjm9CoLrJiYQzQunESz1zVh1cXbuShd1dwzmNzeWhEDy7olYLHU3eOMopKynhjcT6T561j3Y79pDZvwPjzu3Np3zSS69mvi7rM/vWN8fF4PIzul87AY1py52tL+fWrS/loxTb+fMFxNG9YL9LxQmrX/mKmfb2eF77MY+f+Yk5Ibcq9p7Zh3NAsEuxmO4MVC2N+IqNlQ167cSBPzV3LhA9XsTCvgEdGnsBpUvs6czfsPMDkL3J5bdFGikrKOePYNlw/uDMDOrdg5cqVVijMYSEtFiJyDjARiAcmq+rDAeuTgKlAFs7ItqNUNU9E+gFP+5p5gPGq+qZvm2Y4s/UdB3iBa1X1q1C+D1P3xMd5uOm0LpzStTW/fnUJVz+3kMv7p3PlwAy6tWkc8x3gSzbu5um5a3n/+x9IiIvjghM7cN3gznY1mKlSyIqFiMQDk4CzgHxgoYjMUtUVfs3GAbtUtYuIjAb+BowCvgf6qGqpiLQHlorIO6pailN83lfVkSJSD0gO1Xsw5riUprxz6yAenaNM/mIdL32zgaYNEumT0Zy+nVrQt2MLjk9pSr2E6P8LvLzcyycrt/H0vFwWrCugcf0Ebjz1GK45qSNtmtSPdDwT5UJ5ZNEPWKOquQAiMh0YAfgXixHAeN/j14HHRcSjqv5jStfHOYJARJoAp+BM9YqqFgPFoXsLxkD9xHjuG9adq0/uyDe5BSzMK2BBXgEfr9wGQFJCHL3SmtHPVzx6ZzSPqmlFi0rKeHvJJp6Zt4412wpJadaAPw7rzqi+aVGV00S3UP6kpAAb/Z7nA/2rauM7itgDtAR2iEh/4FkgA7jSt74zsB14TkR6AtnA7aq6P4TvwxgAUpsnk5r1v6G4dxQeYlFeAQvW7WJhXgGTPl1DuRfiPNCjQ1P6dmxB347OEUirRuG/3HTPgRJe/GY9z83PY0fhIbq3b8LE0b047/j2NkKsOWKhLBaVndQNnFCgyjaq+g3QQ0QygRdE5D2cvL2BW1X1GxGZiDMC7h8Dd5KTk/NzsodcUVFR1GcEyxlMRjxkdPFwSZeWHChpzsrtRXy/tYjl24p48es8np2/DoCUJokc17Y+3ZrHs2XfMto1SgjZJblbC0t4c8Ue5qzeR1Gplz4pDbjzpPb0alcfj2cva1btdbUf+7evWbGSsyqhLBb5gP8ci6nA5ira5ItIAtAU+NHIbqqaIyL7cTq084F8XyEB59RVpcOlZ2Zm/uw3EEo5OTlRnxEs55HK8ntcXFrOd5v2sDCvgEV5BXydt4s5q0tgwW7aNknyHXk4X8e2+/md5t9v2sNTc3OZ/d0WPMDwXh244ZTOHNvu6OYij5bPNBjLWXOys7OrXBfKYrEQ6CoinYBNOPN5XxbQZhYwFvgKGAl8oqpe3zYbfaeeMgAB8lR1h4hsFBFRVcWZ9nUFxkSheglxZGU0JyujOZx6DOXlXuZ8vYwdcc1YuM7p+3h32RYAGtdPONxp3q9jC45PbepqilKv18tnq7bz9Oe5fJW7k8ZJCVw3qBNXn9yR9k3r7h3opuaFrFj4ftHfAszBuXT2WVVdLiIPAYtUdRYwBZgmImtwjihG+zYfBNwjIiVAOXCTqu7wrbsVeMl3JVQucE2o3oMxNSkuzkPH5vU4NzODKwdk4PV6yd91kEXr/9fv8akq4BSaXmnNnD6Pji3IymhO4/qJh/dVXFru67TOZdXWQto1qc/vzzuW0f3SaeLXzpiaEtJLIVR1NjA7YNn9fo+LgEsq2W4aMK2KfS4B+tRsUmPCz+PxkNYimbQWyVx4otNpXrC/mIV5Bc6Rx/pd/OfzXCZ9upY4jzMfR9+OLWieXI+XF6xn695DHNuuMf+8tCfDTugQE5fvmthl180ZE0VaNKzH2T3acXYPZ0KhA8WlfLthNwt8p61eXbiRgyVlDOrSir+P7Mngrq3q1NhVJnKsWBgTxZLrJXByl1ac3KUVACVl5ezaX2w30Zmws+NWY2JIYnycFQoTEVYsjDHGBGXFwhhjTFBWLIwxxgRlxcIYY0xQViyMMcYEZcXCGGNMUFYsjDHGBOXxegNHDY992dnZte9NGWNMGGRlZVU6JECtLBbGGGNqlp2GMsYYE5QVC2OMMUHZQIIhIiJpwFSgHc6cHE+r6sSANqcBbwPrfItmqupD4czplyUP2AeUAaWq2idgvQeYCJwHHACuVtXFYc4owKt+izoD96vqY35tTiNCn6mIPAsMA7ap6nG+ZS18mTsCecClqrqrkm3HAvf5nv5ZVV8Ic86/A+cDxcBa4BpV3V3JtnlU83MShpzjgeuB7b5mv/dNhRC47Tk4P6/xwGRVfTjMOV/FmbQNoBmwW1V7VbJtHmH6PH8uKxahUwrcpaqLRaQxkC0iH6pq4Mx+81R1WATyVeZ0v0mmAp0LdPV99Qee9H0PG9/siL0ARCQeZwbGNytpGqnP9HngcZw/EircA3ysqg+LyD2+53f7b+QrKA/gzNPixflZmVVZUQlhzg+Be32Tlv0NuDcwp5/qfk5q0vP8NCfABFV9tKqNfD8bk4CzcKZiXuj7PEM1q+ZPcqrqKL88/wD2VLN9uD7Pn8VOQ4WIqm6p+MtbVfcBOUBKZFP9LCOAqarqVdWvgWYi0j6CeYYAa1V1fQQz/IiqziVgDnmcz63iKOEF4IJKNj0b+FBVC3wF4kPgnHDmVNUPVLXU9/RrIDVUr+9WFZ+nG/2ANaqaq6rFwHScf4eQqC6n74j8UuCVUL1+uFixCAMR6QicCHxTyeqBIrJURN4TkR7hTfYjXuADEckWkRsqWZ8CbPR7nk9ki99oqv4PGC2fKUBbVd0Czh8QQJtK2kTbZ3st8F4V64L9nITDLSKyTESeFZHmlayPps9zMLBVVVdXsT4aPk9XrFiEmIg0At4A7lDVvQGrFwMZqtoT+DfwVrjz+TlZVXvjnG66WUROCVhf2bXXEbnu2jf/+nBgRiWro+kzdSuaPts/4JxCfamKJsF+TkLtSeAYnNORW4B/VNImaj5PYAzVH1VE+vN0zYpFCIlIIk6heElVZwauV9W9qlroezwbSBSRVmGOWZFls+/7Npx+gH4BTfKBNL/nqcDm8KT7iXOBxaq6NXBFNH2mPlsrTtf5vm+rpE1UfLa+TvZhwOWqWukvVxc/JyGlqltVtUxVy4Fnqnj9aPk8E4CL+PFFGT8S6c/zSFixCBHfucopQI6q/rOKNu187RCRfjj/HjvDl/Jwjoa+TnhEpCEwFPg+oNks4CoR8YjIAGBPxemVCKjyr7Vo+Uz9zALG+h6PxblSK9AcYKiINPedVhnqWxY2vquH7gaGq+qBKtq4+TkJqYB+sgureP2FQFcR6eQ7Ch2N8+8QbmcCK1U1v7KV0fB5Hgm7Gip0TgauBL4TkSW+Zb8H0gFU9T/ASOBXIlIKHARGV/UXXYi1Bd50rkwlAXhZVd8XkV/6ZZ2Nc9nsGpxLZ6+JQE5EJBnnKpcb/Zb554zYZyoirwCnAa1EJB/nCqeHgddEZBywAbjE17YP8EtVvU5VC0TkTzi/5AAeUtWj6dj9OTnvBZKAD30/B1+r6i9FpAPOpafnUcXPSZhzniYivXBOK+Xh+znwz+m7ousWnIIbDzyrqsvDmVNVp1BJv1okP8+fy4b7MMYYE5SdhjLGGBOUFQtjjDFBWbEwxhgTlBULY4wxQVmxMMYYE5QVC2PCQEQK/R6fJyKrRSQ9kpmMORJ2n4UxYSQiQ3CGIRmqqhsinccYt6xYGBMmIjIYZ4iK81R1baTzGHMkrFgYEx5JOEN9nKaqKyMdxpgjZX0WxoRHCfAlMC7SQYw5GlYsjAmPcpxJcPqKyO8jHcaYI2XFwpgw8Y3mOgy43DewoDExw4qFMWHkG032HOA+EQnZVJ/G1DQbddYYY0xQdmRhjDEmKCsWxhhjgrJiYYwxJigrFsYYY4KyYmGMMSYoKxbGGGOCsmJhjDEmKCsWxhhjgvp/hYUg5xSusgMAAAAASUVORK5CYII=\n",
      "text/plain": [
       "<Figure size 432x288 with 1 Axes>"
      ]
     },
     "metadata": {},
     "output_type": "display_data"
    }
   ],
   "source": [
    "plt.plot(range(1, 20, 2), knn_500_errors_k_in_range())\n",
    "plt.xlabel('K')\n",
    "plt.ylabel('Average classification error [%]')\n",
    "plt.show()"
   ]
  },
  {
   "cell_type": "markdown",
   "metadata": {
    "colab_type": "text",
    "id": "A86GnZpa33_0"
   },
   "source": [
    "#### Problem 5 [2p] \n",
    "\n",
    "Apply the K-Nearest Neighbors (K-NN) algorithm to the MNIST and CIFAR10 datasets. \n",
    "\n",
    "The MNIST (http://yann.lecun.com/exdb/mnist/) dataset consists of normalized (centered and stretched) scans of hand-written digits. Specifically, each element of the dataset is a 28 × 28 grayscale image, thus having 764 8-bit pixels. \n",
    "\n",
    "The CIFAR10 (http://www.cs.toronto.edu/~kriz/cifar.html) dataset consists of small, 32 by 32 pixels, RGB images belonging to 10 categories.\n",
    "\n",
    "1. **[1p]** Download and load the MNIST and CIFAR10 datasets. For both datasets, display a few objects from each of the classes, paying attention to aesthetics and clarity of your presentation. **Note:** You already downloaded the datasets in \"Setup\" section. Please use the code below to get started.\n",
    "\n",
    "2. **[2p]** Apply a k-NN classifier to the MNIST and CIFAR10 datasets. First, divide the training set into two parts, which we will call training and validation. On MNIST use the first 50000 samples for training and the last 10000 for validation. On CIFAR10, use 40000 to train and 10000 for validation. Then find the optimal number of neighbors by assessing the accuracy on the validation set. You do not need to repeat this experiment multiple times. Finally, compute the accuracy on the test set obtained with the best previously chosen number of neighbors. On MNIST you should get about 3% errors, while on CIFAR10 you should get about 70% errors. Why CIFAR10 is harder than MNIST? Pick a few mislabeled samples from the test dataset and plot them along with the correct ones. **Note:**\n",
    "  * MNIST and CIFAR10 are much larger than the Iris dataset. A good implementation may need a few minutes depending on your runtime type. Please optimize your algorithm:\n",
    "  * Compute the distances only once, then test for different values of k.\n",
    "  * Use vectorized expressions to compute the distance. It is possible to compute all distances between the training and testing points in one expression. Hint: think about the vectorized expression \\begin{equation}(X - Y)^T (X - Y)\\end{equation}.\n",
    "  * You can use single precision numbers in computation.\n",
    "  * If your code is taking a long time to execute, please save its results before the lab session.\n",
    "\n",
    "**Note:** in NumPy, matrices have its own data type (dtype), which is retained during\n",
    "calculations. Please pay attention to it. I particular, do not subtract values of data types not\n",
    "having the sign bit, do not divide integers, etc. Results of such operations will not be\n",
    "automatically casted to types having the required precision."
   ]
  },
  {
   "cell_type": "code",
   "execution_count": null,
   "metadata": {},
   "outputs": [],
   "source": []
  },
  {
   "cell_type": "code",
   "execution_count": null,
   "metadata": {
    "colab": {},
    "colab_type": "code",
    "id": "3AvAeiDN33_1"
   },
   "outputs": [],
   "source": [
    "with np.load('mnist.npz') as data:\n",
    "    mnist_full_train_data_uint8 = data['train_data']\n",
    "    mnist_full_train_labels_int64 = data['train_labels']\n",
    "    mnist_test_data_uint8 = data['test_data']\n",
    "    mnist_test_labels_int64 = data['test_labels']\n",
    "        \n",
    "# Split train data into train and validation sets\n",
    "mnist_train_data_uint8 = mnist_full_train_data_uint8[:50000]\n",
    "mnist_train_labels_int64 = mnist_full_train_labels_int64[:50000]\n",
    "mnist_valid_data_uint8 = mnist_full_train_data_uint8[50000:]\n",
    "mnist_valid_labels_int64 = mnist_full_train_labels_int64[50000:]"
   ]
  },
  {
   "cell_type": "code",
   "execution_count": null,
   "metadata": {
    "colab": {
     "base_uri": "https://localhost:8080/",
     "height": 268
    },
    "colab_type": "code",
    "id": "aenFc3L633_4",
    "outputId": "8da070dc-d6d9-4431-ae08-0aaa66a0a836"
   },
   "outputs": [],
   "source": [
    "plot_mat(mnist_train_data_uint8[:20, None], cmap='gray')"
   ]
  },
  {
   "cell_type": "code",
   "execution_count": null,
   "metadata": {
    "colab": {},
    "colab_type": "code",
    "id": "Wwii9AQN33_8"
   },
   "outputs": [],
   "source": [
    "with np.load('cifar.npz') as data:\n",
    "    cifar_full_train_data_uint8 = data['train_data']\n",
    "    cifar_full_train_labels_int64 = data['train_labels']\n",
    "    cifar_test_data_uint8 = data['test_data']\n",
    "    cifar_test_labels_int64 = data['test_labels']"
   ]
  },
  {
   "cell_type": "code",
   "execution_count": null,
   "metadata": {
    "colab": {},
    "colab_type": "code",
    "id": "Jut2P5Rj34AD"
   },
   "outputs": [],
   "source": [
    "#\n",
    "# TODO: plot an example of each class on MNIST and on CIFAR-10\n",
    "#"
   ]
  },
  {
   "cell_type": "code",
   "execution_count": null,
   "metadata": {
    "colab": {},
    "colab_type": "code",
    "id": "-cREkeVz34AH"
   },
   "outputs": [],
   "source": [
    "from scipy.stats import mode\n",
    "\n",
    "\n",
    "def KNN(train_X, train_Y, test_X, test_Y, ks, batch_size=200):\n",
    "    \"\"\"\n",
    "    Compute error rate for various \n",
    "    \"\"\"\n",
    "    errs = np.zeros((len(ks),))\n",
    "    for i in xrange(0, test_Y.shape[0], batch_size):\n",
    "        batch_X = test_X[i:i + batch_size]\n",
    "        batch_Y = test_Y[i:i + batch_size]\n",
    "        print(\"Examples %d:%d Computing distances... \" %\n",
    "              (i, i + batch_size), end='')\n",
    "\n",
    "        #\n",
    "        # TODO: fill in an efficient distance matrix computation\n",
    "        #\n",
    "        dists = TODO\n",
    "\n",
    "        print(\"Sorting... \", end='')\n",
    "        closest = np.argsort(dists, 0)\n",
    "\n",
    "        print(\"Computing errors...\")\n",
    "        targets = train_Y[closest]\n",
    "\n",
    "        for ki, k in enumerate(ks):\n",
    "            predictions, unused_counts = mode(targets[:k, :], axis=0)\n",
    "            predictions = predictions.ravel()\n",
    "            #\n",
    "            # TODO: fill in error count computation\n",
    "            #\n",
    "            errs[ki] += TODO\n",
    "\n",
    "    errs /= test_Y.shape\n",
    "    return np.vstack((ks, errs))"
   ]
  },
  {
   "cell_type": "code",
   "execution_count": null,
   "metadata": {
    "colab": {},
    "colab_type": "code",
    "id": "FTuX5ql334AO"
   },
   "outputs": [],
   "source": [
    "# Now find the best k on the validation set\n",
    "\n",
    "mnist_validation_errs = KNN(\n",
    "    mnist_train_data_uint8, mnist_train_labels_int64,\n",
    "    mnist_valid_data_uint8, mnist_valid_labels_int64,\n",
    "    [1, 3, 5, 7, 9])\n",
    "\n",
    "plot(mnist_validation_errs[0, :], mnist_validation_errs[1, :])"
   ]
  },
  {
   "cell_type": "code",
   "execution_count": null,
   "metadata": {
    "colab": {},
    "colab_type": "code",
    "id": "l5j4eGVN34AR"
   },
   "outputs": [],
   "source": [
    "# Now use the best k to compute the test error\n",
    "\n",
    "best_K = TODO\n",
    "\n",
    "mnist_full_train_data_uint8 = mnist_train_dataset.train_data.numpy()\n",
    "mnist_full_train_labels_int64 = mnist_train_dataset.train_labels.numpy()\n",
    "\n",
    "mnist_test_errs = KNN(mnist_full_train_data_uint8, \n",
    "                      mnist_full_train_labels_int64,\n",
    "                      mnist_test_data_uint8, \n",
    "                      mnist_test_labels_int64, [best_K])\n",
    "print(\"When k=%d the test error rate is %.1f%%\" %\n",
    "      (mnist_test_errs[0, 0], mnist_test_errs[1, 0] * 100.0))"
   ]
  },
  {
   "cell_type": "code",
   "execution_count": null,
   "metadata": {
    "colab": {},
    "colab_type": "code",
    "id": "g88neUhM34AU"
   },
   "outputs": [],
   "source": [
    "#\n",
    "# Now repeat the k-NN training for CIFAR10\n",
    "#"
   ]
  },
  {
   "cell_type": "markdown",
   "metadata": {
    "colab_type": "text",
    "id": "1qq8XLOt34AX"
   },
   "source": [
    "### Locality sensitive hashing\n",
    "\n",
    "Problem 5 was about speeding up the inference using loops implicitly present in matrix multiplication instead of explicit loops in Python. In this problem, we will explore a strategy to truly reduce the total number of computations required to find nearest neighbors without sacrificing too much accuracy.\n",
    "\n",
    "To speed up nearest neighbor search we will employ *Locality Sensitive Hashing (LSH)* functions. For a given distance metric, the locality sensitive hash should put items that are similar into the same bucket. Notice that this is essentially a design choice opposite to traditional cryptographic hash functions that should amplify the difference of similar inputs (typically we want that small perturbations of data result in large changes to the hash value).\n",
    "\n",
    "One of the simplest implementations of LSH approximates the cosine distance. Let $x\\in \\mathbb{R}^N$ and $y\\in \\mathbb{R}^N$ be two vectors. Their cosine distance is defined as:\n",
    "\n",
    "\\begin{equation}\n",
    "    d_\\text{cos}(x,y) = \\frac{x \\cdot y}{\\|x\\| \\|y\\|} = \\cos\\left(\\theta(x,y)\\right),\n",
    "\\end{equation}\n",
    "where $\\theta(x,y)$ is the unsigned angle between $x$ and $y$.\n",
    "\n",
    "We will construct a family $H$ of hash functions that are an LSH for angle distances (an approximation to cosine distance). Assume $p\\in \\mathbb{R}^N$ is a random vector (components are sampled from the normal distribution) of length 1. Then define the hash function $h(x) = \\text{sgn}(x\\cdot p)$, where $\\text{sgn()}$ is the sign function. It can be proven that:\n",
    "\n",
    "\\begin{equation}\n",
    "    p_{h\\in H}[h(x)=h(y)] = 1 - \\frac{\\theta(x,y)}{\\pi}.\n",
    "\\end{equation}\n",
    "\n",
    "The equation means that the probability of a hash collision grows as the the angle between two vectors gets smaller. Therefore, vectors that are close according to the cosine distance will be put with high probability into the same bin (we use the fact that for small $\\theta$ we can approximate $\\cos(\\theta) = 1 - \\theta/\\pi$.\n",
    "\n",
    "We will say that a family of randomly chosen hash functions $H$ is $(d_1, d_2, p_1, p_2)$-sensitive with respect to a distance metric $d$ if for any $x$ and $y$:\n",
    "1. If $d(x,y) \\leq d_1$ then $p_{h\\in H}[h(x)=h(y)] \\geq p_1$.\n",
    "2. If $d(x,y) \\geq d_2$ then $p_{h\\in H}[h(x)=h(y)] \\leq p_2$.\n",
    "\n",
    "For example, our family of randomly chosen hyperplanes is $(d_1, d_2, (1-d_1)/\\pi, (1-d_2)/\\pi)$-sensitive.\n",
    "\n",
    "Ideally, vectors should be placed into the same bin with a high probability if their distance is smaller than a threshold, and with a low probability if their distance is larger that the threshold. By combining hashing functions we can get closer to this ideal sensitivity.\n",
    "\n",
    "Given a family of hash functions $H$ with sensitivity $(d_1, d_3, p_1, p_2)$ we can construct a new family $H'$ by combining $r$ functions from $H$:\n",
    "1. AND: let $h=[h_1, h_2, \\ldots, h_r] \\in H'$ and $h(x)=h(y)$ if and only if $\\forall_i h_i(x)=h_i(y)$. Then $H'$ is $(d_1, d_2, (p_1)^r, (p_2)^r)$-sensitive.\n",
    "2. OR: let $h=[h_1, h_2, \\ldots, h_r] \\in H'$ and $h(x)=h(y)$ if and only if $\\exists_i h_i(x)=h_i(y)$. Then $H'$ is $(d_1, d_2, 1-(1-p_1)^r, 1-(1-p_2)^r)$-sensitive.\n",
    "\n",
    "AND makes all probabilities shrink, but properly choosing $r$ we can make the lower probability approach 0 while the higher does not. Conversely, OR makes all probabilities grow, we can make the upper probability approach 1 while the lower does not."
   ]
  },
  {
   "cell_type": "markdown",
   "metadata": {
    "colab_type": "text",
    "id": "OutHmcfp8zLo"
   },
   "source": [
    "#### Problem 6 [2-4p bonus] \n",
    "\n",
    "1. **[1bp]** **Note:** you can show sketches of proofs for this assignment.\n",
    "    1. Show that angle between vectors is a metric (https://en.wikipedia.org/wiki/Metric_(mathematics)).\n",
    "    \n",
    "    2. Show that $p_{h\\in H}[h(x)=h(y)] = 1 - \\frac{\\theta(x,y)}{\\pi}$ for $h$ computed using a randomly chosen hyperplane.\n",
    "\n",
    "    3. Show the properties of either AND or OR boosting of LSH.\n",
    "\n",
    "3. **[1-3bp]** Reimplement k-Nearest Neighbors for MNIST classification using the cosine distance instead of the Euclidean distance. Choose a sensible value of $k$. Use Locality Sensitive Hashing to achieve an error rate no greater than $150\\%$ of the original error rate with at least a $90\\%$ speedup (i.e., by considering on average at most 5000 training samples per query image). For a few settings plot the speedup-vs-accuracy relation.\n",
    "\n",
    "  **Note:** points will be awarded based on ingenuity of your solution. Feel free to explore your own ideas!\n"
   ]
  }
 ],
 "metadata": {
  "colab": {
   "collapsed_sections": [],
   "include_colab_link": true,
   "name": "Assignment1.ipynb",
   "provenance": [],
   "toc_visible": true,
   "version": "0.3.2"
  },
  "kernelspec": {
   "display_name": "Python 3",
   "language": "python",
   "name": "python3"
  },
  "language_info": {
   "codemirror_mode": {
    "name": "ipython",
    "version": 3
   },
   "file_extension": ".py",
   "mimetype": "text/x-python",
   "name": "python",
   "nbconvert_exporter": "python",
   "pygments_lexer": "ipython3",
   "version": "3.6.5"
  }
 },
 "nbformat": 4,
 "nbformat_minor": 1
}
