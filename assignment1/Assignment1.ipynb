{
 "cells": [
  {
   "cell_type": "markdown",
   "metadata": {
    "colab_type": "text",
    "id": "view-in-github"
   },
   "source": [
    "[View in Colaboratory](https://colab.research.google.com/github/janchorowski/nn_assignments/blob/nn18/assignment1/Assignment1.ipynb)"
   ]
  },
  "cells": [
    {
      "cell_type": "markdown",
      "metadata": {
        "id": "view-in-github",
        "colab_type": "text"
      },
      "source": [
        "[View in Colaboratory](https://colab.research.google.com/github/janchorowski/nn_assignments/blob/nn18/assignment1/Assignment1.ipynb)"
      ]
    },
    {
      "metadata": {
        "id": "P7IFJ5_Y33-8",
        "colab_type": "text"
      },
      "cell_type": "markdown",
      "source": [
        "# Assignment 1\n"
      ]
    },
    {
      "metadata": {
        "id": "goqGXGZT2DKK",
        "colab_type": "text"
      },
      "cell_type": "markdown",
      "source": [
        "## Important notes"
      ]
    },
    {
      "metadata": {
        "id": "-3FKET1A2GRK",
        "colab_type": "text"
      },
      "cell_type": "markdown",
      "source": [
        "**Submission deadline:**\n",
        "* **Problems 1-4: last lab session before or on Friday, 19.10.18**\n",
        "* **Problems 5-6: last lab session before or on Friday, 26.10.18**\n",
        "\n",
        "**Points: 10 + 4 bonus points**\n",
        "\n",
        "Please note: some of the assignments are tedious or boring if you are already a NumPy ninja. The bonus problems were designed to give you a more satisfying alternative.\n",
        "\n",
        "The assignment is in the form of a Jupyter notebook. We will be using [Google Colab](https://colab.research.google.com) to solve it. Below you will find a \"Setup\" section. Follow instructions from this paragraph to download the notebook and open it using [Google Colab](https://colab.research.google.com). \n",
        "\n",
        "Your goal is to solve problems posted below. Whenever possible, add your solutions to the notebook.\n",
        "\n",
        "Please email us about any problems with it - we will try to correct them quickly. Also, please do not hesitate to use GitHub’s pull requests to send us corrections!"
      ]
    },
    {
      "metadata": {
        "id": "1CMDOrsc2K-K",
        "colab_type": "text"
      },
      "cell_type": "markdown",
      "source": [
        "## Setup"
      ]
    },
    {
      "metadata": {
        "id": "tNjavUUC7yuM",
        "colab_type": "text"
      },
      "cell_type": "markdown",
      "source": [
        "### 1. Open the notebook using Google Colab\n",
        "\n",
        "1. From Github: Click on \"View in Colaboratory\", then save to your Google Drive.\n",
        "2. Alternatively upload manually to Drive:\n",
        "  1. Download the notebook or clone https://github.com/janchorowski/nn_assignments.\n",
        "  2. Go to  [Google Colab](https://colab.research.google.com).\n",
        "  3. Go to \"UPLOAD\" tab and select a local copy of the notebook that you downloaded in point 1.\n",
        "  \n",
        "Colab Tips:\n",
        "1. Set tab width to 4 spaces under `Tools -> Preferences`.\n",
        "  \n",
        "### 2. Open the notebook offline using Jupyter/IPython\n",
        "\n",
        "This notebook can be opened using Jupyter notebook. Simply install a scientific Python distribution on your computer (e.g. [Anaconda](https://www.anaconda.com/) or [WinPython](http://winpython.github.io/)), clone the repository https://github.com/janchorowski/nn_assignments and run `jupyter notebook`."
      ]
    },
    {
      "metadata": {
        "id": "zq_ZRu87C_OC",
        "colab_type": "text"
      },
      "cell_type": "markdown",
      "source": [
        "###   3. Install required dependencies, download data and import packages\n",
        "\n",
        "Run cells below. To run a cell either click it and click a run button or press \"shift + enter\"\n"
      ]
    },
    {
      "metadata": {
        "id": "onui8xrw5dKi",
        "colab_type": "code",
        "colab": {}
      },
      "cell_type": "code",
      "source": [
        "# Please note that this code needs only to be run in a fresh runtime.\n",
        "# However, it can be rerun afterwards too.\n",
        "!pip install -q gdown httpimport\n",
        "![ -e cifar.npz ] || gdown 'https://drive.google.com/uc?id=1oBzZdtg2zNTPGhbRy6DQ_wrf5L5OAhNR' -O cifar.npz\n",
        "![ -e mnist.npz ] || gdown 'https://drive.google.com/uc?id=1QPaC3IKB_5tX6yIZgRgkpcqFrfVqPTXU' -O mnist.npz"
      ],
      "execution_count": 0,
      "outputs": []
    },
    {
      "metadata": {
        "id": "YxzWq6iO2KPm",
        "colab_type": "code",
        "colab": {}
      },
      "cell_type": "code",
      "source": [
        "# Standard IPython notebook imports\n",
        "%matplotlib inline\n",
        "\n",
        "from __future__ import absolute_import\n",
        "from __future__ import division\n",
        "from __future__ import print_function\n",
        "\n",
        "import os\n",
        "\n",
        "import httpimport\n",
        "import matplotlib.pyplot as plt\n",
        "import numpy as np\n",
        "\n",
        "import seaborn as sns\n",
        "from sklearn import datasets\n",
        "\n",
        "# In this way we can import functions straight from github\n",
        "with httpimport.github_repo('janchorowski', 'nn_assignments', \n",
        "                            module='common', branch='nn18'):\n",
        "     from common.plotting import plot_mat\n",
        "\n",
        "sns.set_style('whitegrid')"
      ],
      "execution_count": 0,
      "outputs": []
    },
    {
      "metadata": {
        "id": "AfmjDoxi6JNA",
        "colab_type": "text"
      },
      "cell_type": "markdown",
      "source": [
        "### 4. Follow the notebook and solve problems posted below"
      ]
    },
    {
      "metadata": {
        "id": "3hr81V8T8ccB",
        "colab_type": "text"
      },
      "cell_type": "markdown",
      "source": [
        "## Problems"
      ]
    },
    {
      "metadata": {
        "id": "0eT1x_VG33_E",
        "colab_type": "text"
      },
      "cell_type": "markdown",
      "source": [
        "### Problem 0 [0p]\n",
        "\n",
        " \n",
        "1. To learn more about Jupyter,  read [Jupyter tutorial from Data Analysis in Biological Sciences course at Caltech](http://bebi103.caltech.edu/2015/tutorials/t0b_intro_to_jupyter_notebooks.html) (which itself can be downloaded as a Jupyter notebook). Feel free to skip the tutorial if you have some prior experience with Jupyter notebook.\n",
        "2. To learn more about basic Google Colab features, go to [Google Colab](https://colab.research.google.com) and select \"Overview of Colaboratory Features\" in \"EXAMPLES\" tab. To learn more about / set up useful keyboard shortcuts (e.g. to add a new cell without clicking \"\"+ code\"), go to \"Tools --> Keyboard shortcuts\""
      ]
    },
    {
      "metadata": {
        "id": "AsOC0voR33_F",
        "colab_type": "text"
      },
      "cell_type": "markdown",
      "source": [
        "### Problem 1 [2p]\n",
        "\n",
        "First, get familiar with Python at https://docs.python.org/2/tutorial/. Then, get\n",
        "to know the capabilities of NumPy, the prime numerical library of Python http://www.numpy.org/, for instance with the tutorial at http://wiki.scipy.org/Tentative_NumPy_Tutorial.\n",
        "\n",
        "You might also need:\n",
        "  1. another intro to NumPy,\n",
        "http://people.duke.edu/~ccc14/pcfb/numerics.html\n",
        "  2. a better interactive shell for Python,\n",
        "http://ipython.org/\n",
        "  3. access to IPython through an ordinary web browser,\n",
        "http://ipython.org/notebook.html\n",
        "  4. a plotting library for Python.\n",
        "http://matplotlib.org/\n",
        "\n",
        "**a) Declare variables:**\n",
        "1. $a=10$,\n",
        "2. $b=2.5\\times 10^{23}$,\n",
        "3. $c=2+3i$, where $i$ is an imaginary unit,\n",
        "4. $d=e^{i2\\pi/3}$, where $i$ is an imaginary unit, $e$ is the Euler's number (use `exp`, `pi`)."
      ]
    },
    {
      "metadata": {
        "id": "8sd7jJhd33_G",
        "colab_type": "code",
        "colab": {}
      },
      "cell_type": "code",
      "source": [
        "# TODO: Complete the declarations\n",
        "a = \n",
        "b = \n",
        "c = \n",
        "d = "
      ],
      "execution_count": 0,
      "outputs": []
    },
    {
      "metadata": {
        "id": "bP0hAHvN33_K",
        "colab_type": "text"
      },
      "cell_type": "markdown",
      "source": [
        "**b) Declare vectors:**\n",
        "1. $aVec=\\begin{bmatrix} 3.14 & 15 & 9 & 26 \\end{bmatrix}$,\n",
        "2. $bVec=\\begin{bmatrix} 2.71 & 8 & 28 & 182 \\end{bmatrix}^\\intercal$ (column vector),\n",
        "3. $cVec=\\begin{bmatrix} 5 & 4.8 & \\cdots & -4.8 & -5 \\end{bmatrix}$ (vector of numbers from $5$ to $-5$ decreasing by $0.2$),\n",
        "4. $dVec=\\begin{bmatrix} 10^0 & 10^{0.01} & \\cdots & 10^{0.99} & 10^1 \\end{bmatrix}$ (logarithmically spaced numbers from 1 to 10, use `logspace` and make sure, that the result has correct length!),\n",
        "5. $eVec=Hello$ ($eVec$ is a string of characters, thus a vector)."
      ]
    },
    {
      "metadata": {
        "id": "37RmkuW533_L",
        "colab_type": "code",
        "colab": {}
      },
      "cell_type": "code",
      "source": [
        "aVec = \n",
        "bVec = \n",
        "cVec = \n",
        "dVec = \n",
        "eVec = "
      ],
      "execution_count": 0,
      "outputs": []
    },
    {
      "metadata": {
        "id": "C58YJtEU33_O",
        "colab_type": "text"
      },
      "cell_type": "markdown",
      "source": [
        "**c) Declare matrices:**\n",
        "1. $aMat=\\begin{bmatrix}\n",
        "                    2      & \\cdots & 2 \\\\\n",
        "                    \\vdots & \\ddots & \\vdots \\\\\n",
        "                    2      & \\cdots & 2\n",
        "                \\end{bmatrix}$,\n",
        "<br/>\n",
        "matrix $9\\times 9$ filled with 2s (use `ones` or `zeros`),\n",
        "2. $bMat=\\begin{bmatrix}\n",
        "                    1      & 0      & \\cdots &        & 0      \\\\\n",
        "                    0      & \\ddots & 0      &        & 0      \\\\\n",
        "                    \\vdots & 0      & 5      & 0      & \\vdots \\\\\n",
        "                           &        & 0      & \\ddots & 0      \\\\\n",
        "                    0      &        & \\cdots & 0      & 1\n",
        "                \\end{bmatrix}$,\n",
        "<br/>\n",
        "matrix $9\\times 9$ filled with zeros, with $\\begin{bmatrix} 1 & 2 & 3 & 4 & 5 & 4 & 3 & 2 & 1 \\end{bmatrix}$ on its diagonal (use `zeros`, `diag`),\n",
        "3. $cMat=\\begin{bmatrix}\n",
        "                    1      & 11     & \\cdots & 91     \\\\\n",
        "                    2      & 12     & \\ddots & 92     \\\\\n",
        "                    \\vdots & \\vdots & \\ddots & \\vdots \\\\\n",
        "                    10     & 20     & \\cdots & 100\n",
        "                \\end{bmatrix}$,\n",
        "<br/>\n",
        "matrix $10\\times 10$, columns of which form the vector $1:100$ (use `reshape`),\n",
        "4. $dMat=\\begin{bmatrix}\n",
        "                    NaN & NaN & NaN & NaN \\\\\n",
        "                    NaN & NaN & NaN & NaN \\\\\n",
        "                    NaN & NaN & NaN & NaN\n",
        "                \\end{bmatrix}$,\n",
        "<br/>\n",
        "matrix $3\\times 4$ filled with `NaN`s (use... `NaN`),\n",
        "5. $eMat=\\begin{bmatrix}\n",
        "                    13  & -1  & 5  \\\\\n",
        "                    -22 & 10  & -87\n",
        "                \\end{bmatrix}$,\n",
        "<br/>\n",
        "6. $fMat$ filled with random natural numbers from $[-3,3]$ (use `rand` and `floor` or `ceil`)."
      ]
    },
    {
      "metadata": {
        "id": "Bdd1oUeI33_P",
        "colab_type": "code",
        "colab": {}
      },
      "cell_type": "code",
      "source": [
        "aMat = \n",
        "bMat = \n",
        "cMat = \n",
        "dMat = \n",
        "eMat = \n",
        "fMat = "
      ],
      "execution_count": 0,
      "outputs": []
    },
    {
      "metadata": {
        "id": "DqtKQi1Q33_T",
        "colab_type": "text"
      },
      "cell_type": "markdown",
      "source": [
        "** d) Declare a multiplication table ** as a $10\\times 10$ matrix `mulMat`. Use matrix/vector multiplication."
      ]
    },
    {
      "metadata": {
        "id": "OWqHq-vK33_U",
        "colab_type": "code",
        "colab": {}
      },
      "cell_type": "code",
      "source": [
        "mulMat = "
      ],
      "execution_count": 0,
      "outputs": []
    },
    {
      "metadata": {
        "id": "0xIm6lT133_Y",
        "colab_type": "text"
      },
      "cell_type": "markdown",
      "source": [
        "** e) Compute elemwise using values from b).**\n",
        "For instance, the first element of $xVec[0]$ should be equal to\n",
        "\n",
        "\\begin{equation}\n",
        "1/(\\sqrt{2\\pi2.5^2}) e^{-cVec[0]^2 / (2\\cdot\\pi 2.5^2)}.\n",
        "\\end{equation}\n",
        "\n",
        "1. $xVec=1/(\\sqrt{2\\pi2.5^2}) e^{-cVec^2 / (2\\cdot\\pi 2.5^2)}$\n",
        "2. $yVec=\\sqrt{(aVec^\\intercal)^2 + bVec^2}$\n",
        "3. $zVec=\\log_{10}(1/dVec)$, using `log10`"
      ]
    },
    {
      "metadata": {
        "id": "LtH-kSU733_Z",
        "colab_type": "code",
        "colab": {}
      },
      "cell_type": "code",
      "source": [
        "xVec = \n",
        "yVec = \n",
        "zVec = "
      ],
      "execution_count": 0,
      "outputs": []
    },
    {
      "metadata": {
        "id": "EBhf74F_33_d",
        "colab_type": "text"
      },
      "cell_type": "markdown",
      "source": [
        "** f) Compute with matrix/vector operations using values from c).**\n",
        "\n",
        "**NOTE:** Every multiplication (and power) in this subtask is a [matrix multiplication](https://en.wikipedia.org/wiki/Matrix_multiplication).\n",
        "1. $xMat=(aVec\\cdot bVec)aMat^2$,\n",
        "2. $yMat=bVec\\cdot aVec$\n",
        "<br/>\n",
        "(remember, that matrix multiplication is not commutative),\n",
        "4. $zMat=\\lvert cMat\\rvert (aMat\\cdot bMat)^\\intercal$, where $\\lvert A\\rvert$ denotes determinant of $A$ (use `det`)."
      ]
    },
    {
      "metadata": {
        "id": "UjdLR34u33_e",
        "colab_type": "code",
        "colab": {}
      },
      "cell_type": "code",
      "source": [
        "xMat = \n",
        "yMat = \n",
        "zMat = "
      ],
      "execution_count": 0,
      "outputs": []
    },
    {
      "metadata": {
        "id": "QJ3xTXgV33_i",
        "colab_type": "text"
      },
      "cell_type": "markdown",
      "source": [
        "** g) Declare `ismagic(A)` function ** which checks if matrix $A$ is a [magic square](https://en.wikipedia.org/wiki/Magic_square) and returns a boolean."
      ]
    },
    {
      "metadata": {
        "id": "uCNJUx_G33_j",
        "colab_type": "code",
        "colab": {}
      },
      "cell_type": "code",
      "source": [
        "def ismagic(A):\n",
        "    # TODO"
      ],
      "execution_count": 0,
      "outputs": []
    },
    {
      "metadata": {
        "id": "Es80_WJM33_n",
        "colab_type": "text"
      },
      "cell_type": "markdown",
      "source": [
        "### k-Nearest Neighbors\n",
        "\n",
        "The following excerpt of code loads the data describing iris flowers\n",
        "and shows relations between their length and petal width for three\n",
        "species (namely: setosa, versicolor, virginica)."
      ]
    },
    {
      "metadata": {
        "id": "hOvm2SEE33_q",
        "colab_type": "code",
        "colab": {
          "base_uri": "https://localhost:8080/",
          "height": 313
        },
        "outputId": "3b5eeae1-f4d9-44b1-bb70-a78723214b6d"
      },
      "cell_type": "code",
      "source": [
        "# sklearn is a large collection of machine learning algorithms\n",
        "# here we’ll use it only for the built-in iris dataset\n",
        "from sklearn import datasets\n",
        "\n",
        "iris = datasets.load_iris()\n",
        "\n",
        "print('Features: ', iris.feature_names)\n",
        "print('Targets: ', iris.target_names)\n",
        "\n",
        "petal_length = iris.data[:, iris.feature_names.index('petal length (cm)')]\n",
        "petal_width = iris.data[:, iris.feature_names.index('petal width (cm)')]\n",
        "\n",
        "for target in set(iris.target):\n",
        "    example_ids = target == iris.target\n",
        "    plt.scatter(petal_length[example_ids], petal_width[example_ids],\n",
        "                label=iris.target_names[target], color='bgr'[target],\n",
        "                marker='x', alpha=0.7)\n",
        "unknown = np.array([\n",
        "    [1.5, 0.3],\n",
        "    [4.5, 1.2],\n",
        "    [5.5, 2.3],\n",
        "    [5.1, 1.7]\n",
        "])\n",
        "plt.scatter(unknown[:, 0], unknown[:, 1], marker='v',\n",
        "            color='gray', s=50, label='??')\n",
        "plt.xlabel('petal length (cm)')\n",
        "plt.ylabel('petal width (cm)')\n",
        "plt.grid(True)\n",
        "plt.legend(loc='upper left');"
      ],
      "execution_count": 8,
      "outputs": [
        {
          "output_type": "stream",
          "text": [
            "Features:  ['sepal length (cm)', 'sepal width (cm)', 'petal length (cm)', 'petal width (cm)']\n",
            "Targets:  ['setosa' 'versicolor' 'virginica']\n"
          ],
          "name": "stdout"
        },
        {
          "output_type": "display_data",
          "data": {
            "image/png": "iVBORw0KGgoAAAANSUhEUgAAAYAAAAEGCAYAAABsLkJ6AAAABHNCSVQICAgIfAhkiAAAAAlwSFlz\nAAALEgAACxIB0t1+/AAAADl0RVh0U29mdHdhcmUAbWF0cGxvdGxpYiB2ZXJzaW9uIDIuMS4yLCBo\ndHRwOi8vbWF0cGxvdGxpYi5vcmcvNQv5yAAAIABJREFUeJztnXlclNX+xz8jMG6jIBDivuduymLK\nJqJYWnrVVBBEr7neqzcp6CdipVcJ1FDJpVRIKy3FsFwKLyqBEosI4QauqYW4AIrIPizP74+neYaB\nZ5iBWWG+79drXjDnOec83zMw5/ucc76LgGEYBgRBEITB0UrXAhAEQRC6gRQAQRCEgUIKgCAIwkAh\nBUAQBGGgkAIgCIIwUIx1LYCypKen61oEgiCIZomtrS1vebNRAID8QShDenq6Su31CRqLfkJj0U8M\nfSwNPTzTFhBBEISBQgqAIAjCQCEFQBAEYaCQAiAIgjBQSAEQBEEYKKQACIIgDBRSAARBEAYKKQCC\nIPST+HhALJYtE4vZ8qa0PXuWfTWlvxaKRh3BtmzZgvT0dFRVVWHZsmWYNGkSd83NzQ3W1tYwMjIC\nAISGhqJz586aFEdn3Lx5E61bt0afPn10LQpBNA/i44GtW4Hz54E1awChkJ2sQ0KAtDS2jqurcm0B\nduJfuZL9fdcuwN1d+f5aMBpbAaSkpODOnTuIjIxEREQEgoOD69UJDw/HwYMHcfDgQY1P/mlpoiY/\nTKjK2bNn8eDBA83fiCBaCg4OgJ0dOzmHhAAlJdLJ2s6Ova5k21ZlZcCFC9LrCQmN668Fo7EVgL29\nPUaMGAEA6NixI8rKylBdXc098WuT+Hjgu+8648mTxj9MNMSjR4/w4YcfolWrVqiursZnn32G3bt3\nIzs7G1VVVXjvvfdgbm6OI0eOwNzcHBYWFigrK8P27dthbGyMzp07IyQkBPn5+fX6MTU1hZ+fH0pL\nS1FeXo6PP/6Y+zwJosUjFLJfVsmX1NOTLbezk36JlWzbJzYWMDUF5swBBAIgI6Nx/bVgBNpICRkZ\nGYm0tDR89tlnXJmbmxtsbGyQk5MDW1tb+Pn5QSAQyO1DlWBwlZUCHDhgjRs32mHw4FL4+DzFwYOd\nufcLFz6BiUnjP4ZffvkFFRUVmDlzJu7fv4+MjAxUVVVhzpw5ePnyJT799FNs3rwZe/bswejRo2Fj\nYwM/Pz8EBgbCwsICBw4cQJ8+fVBSUiLTT1VVFUQiER4+fAh7e3tkZmbizJkzeP/995v8GRBEc6RV\nWRn6BAZy7+8HB6OmbdsmtwXQ5P6aMzoLBnfu3DlERUVh//79MuXvvfcenJ2dYWpqihUrViAmJgZv\nvvlmg32pFtDpd8TE2CAtzQybN3cFAEyYAKxZYwahsGuTeuzQoQNWrlyJDh064I033sC1a9dw5coV\nhIWFAQBatWqF4cOHw8LCAv3790e/fv3Qtm1b7iwkPz8fly5dgqenp0w/o0aNQlFRETZs2IDz589D\nLBajXbt23PgNPbiVvkJjUTOSZbqpKVc0KjZWuSf2Wm1fFBbCzNQUo2Ji2BVAU/rTE5pVMLiEhATs\n2bMH4eHh6NChg8y16dOnw8LCAsbGxnBxccHt27c1KQpMTBj4+8uW+fur9nd/9dVXceLECdjZ2WHb\ntm1ISEjA8uXLuXONM2fOQFjrBgKBALUXXJWVlRAIBPX6OX78OL755ht07twZhw8fxvr165suJEE0\nR2rv0drZAUeOyJ4J1D3Qa6Dt/eBgYORI4OhRIDISGDWqcf21YDSmAIqKirBlyxbs3bsXZmZm9a4t\nWrQI4r8/9EuXLmHAgAGaEgUAuw0UGipbFhqq2t/9l19+wZ07dzBx4kSsWrUKJiYmiI2NBQA8e/YM\n27ZtA8BO/NXV1TA1NYVAIMCjR48AAKmpqRg2bFi9fq5fv46CggL07NkTALuKqqysbLqgBNHcSEqS\nTv5r1gDt27M/JZN2UpLSbWvatgVcXKTXnZ0b118LRmNbQNHR0SgoKICvry9X9vrrr2PgwIFwd3eH\ni4sLPDw80Lp1awwZMkTh9o8qiMXAgQPWePSI/Xv7+7OTv0T5N3UF2Lt3b6xbtw7t2rWDkZERduzY\ngW+//Raenp6orq7Gyr/Nzuzs7BAUFIT27dtj48aN8PPzg7GxMXr06IG33noLt27dkunno48+QklJ\nCVavXo3//e9/8Pb2xs8//4xjx47hnXfeUfOnQxANEB/PWsjU/oKIxeyEqU6zybAwYPFiQCRi37u6\nAmVlQGam9N6Sw11F95Zcqy23uztr/in5vTH9tWSYZkJaWlqT28bFMYyzcwGzfj3DVFSwZRUVDLN+\nPcO8/TZ7vTmhymehb9BY9JO0tDT2i/H224zGvzjbtzOMlRXDuLoyTFERW1ZUxL63smKvq0CL+7uo\nsY1BeAK7ugLe3k9lnvQlyt/Pz3CVP0E0iCq2+I1h8WJgyBAgKwuYOhXIzWV/ZmWx5YsXq+c+RD0M\nQgEAgJ1dcb1tHqGQJn+CkIvkKUmiBDw9Zffl1WU5IxIBp05JlcDw4dLJ/9Qp6bYQoXYMRgEQBNEE\nhEKo3XyOD5GItdCpTWQkTf4ahhQAQRDyEYuhdvM5PoqLAQ8P2TIPD7ac0BikAAiC4EcVW/zGUFws\nu+d/7ZrsmQApAY1BCoAgCH5UscVvDBERsnv+VlayZwIREeq5D1EPUgB6wI8//oizdeOUK8DHx0fj\n3tOEgePqysZL8fOTNZ/z8wN69apvBcQXb79OWVVVFR7ev4+HJ07g4cOH7GvWLDz88EM83LsXVW3a\nsBVFIuDDD9lXLV8i3hC+yuYNUCW/gLbQsowajwWkL6Tlp2F49XAIjaSHV+JqMZKyk+Da21V3ggGY\nOXOmTu9PELzExwOxsUBhoWwY3ZUrgdOnWbPQvXvZcr54+zxlTEUFfvz2WxQAwOXLMrczj4nB8uXL\npff+8kt2tSEWyw/hq0zegA4dVMsvoC2UHYsaMYgVQPyDeHx37zuEJIRAXM1qV3G1GCEJIdiavBXx\nD+Kb1O+MGTO4sA45OTmYPn06AgMD4ePjg7lz5yI5ORkA+7S+YcMGbNiwAVlZWfDw8ICPjw8WLVqE\nly9fYufOnTh06BAAICgoCHPmzMHcuXO5J/wtW7bA09MTs2fPxvHjx2VkKCoqwooVK7h7ZmZmAgAm\nTZoEX19f/PDDD00aG0HI9QPIy2O3Z3JzpeUJCdJ2Fy6wZTwx+E1CQzEiJ4f3dsOHD4eJiUnD967r\ng6DuerpEBzIaxArAoYcDBpsNRtrjNIQkhMDfwR+hSaFIe5wGuy52cOjRtA924sSJiIuLg7e3N2Jj\nYzFx4kRUVlYiODgYz58/x4IFC3Dq1CkAwIABAzB37lwEBQVh7ty5mD59OpKTk5GXl8f1l5SUhCdP\nnuDo0aO4dOkSoqOjUVhYiDt37uDIkSMoLS3FtGnTZILDffPNN3jttdewdOlSXLt2DSEhITh06BCy\ns7Oxe/dujcdYIlow8mLyjx7NbgNt3Spb7uEBMAz7ZC8p44nB72hnh0wLC+Q/e8bdytLSEo6Ojorv\nXdcHQd31dIkOZDSIFYDQSIiF/RfCrosd0h6nwfOYJzf5r3FeI7Mt1BgmTZqEX3/9FQAQGxuLy5cv\nIzY2Fj4+Pli1ahUqKiq4gHeSZC4TJkzAl19+ibCwMFhYWKBfv35cf5mZmbCxsQHAJtTx9fXF9evX\nYW9vDwBo164d+vfvjydPnnBtrl+/jtdffx0A+wT1559/AgDatm1Lkz+hOvL8AESi+uWrVwMBAbJl\nAQFseS1M/P0xdNgwmbKhQ4dKn/4V3ZvPo1Od9XSJlmU0CAUAACatTODvIPvB+jv4N3nyB9in+tzc\nXDx+/BhFRUXo3bu33HDQkn/usWPHIioqCn379kVAQABSUlK4/oyMjFBTUyNzj7pJciQhpGtfZ2qF\nmJa0r/dlIoimIM8PoLi4fvnmzcCmTbJlmzax5XXaO9rbw9LSEgDP07+ie/Mdkqqzni7RsowGowAq\nayoRmiT7wYYmhXJnAk3F1dUV27dvh5ubG1577TXecNC1OXToEF68eIFp06ZhwYIFuHHjBndt+PDh\nuHjxIgAgKysL//3vfzFs2DCurKSkBH/99Resra1521y+fJme+gn1Ic8PIDWVtc9PTZWWjxrFeu4e\nPcrG3j9ypMEY/CahoRg6aBAAOU//yvogqLueLtGBjAahAMTVYhy4e4Db9jnyzhFuO6j2wXBTcHd3\nx88//4w333wTkydPRrt27eDp6Ynly5fzZu7p2bMnVq1ahQULFuDnn3/G1KlTuWv29vbo168fvLy8\nEBQUBE9PT9jZ2WHYsGHw9vbGu+++Cz8/P7SRmMoBmD9/PjIzMzF//nxs3boVa9eubfJYCEIGeX4A\nr7zC2udbWUnLnZ2l7Vxc2DIFMfgdAXTp0oX/6V9ZHwR119MlupBRhcikWkWlcND34xjnL5yZ9XHr\nmYoqNqxtRVUFsz5uPfP2928zcffj1CSldjD08Lb6SoscS1ycNBS0hIoKNkRz3fIzZ9iXorKKCi6U\ndIWkD777KNufgnsoHIs24sEre28F9dQdDtogrIBce7vCu683Fjov5Pb8hUZCrHFeoxd+AASht/DZ\nxguFss5ZEiSJVhSV1QrDKxQK5du/S56ITUykNv87drBPxOPGya9X5x4Kx6Jp+//G+CBoWUaD2AIC\nADtLu3oHvkIjIU3+BKFrWpItPx96LLfBKACCIPQUZfMOaCs/gbrRY7lJARAEoXtaki0/H3oqNykA\ngiB0T0uy5edDT+UmBUAQhG5pSbb8fOix3KQA1MiFCxfw/fffq6Xuvn37kJGRoS7RCEJ/aUm2/Hzo\nsdwGYQYKAKK0NDbZdO09N4kJmZpMrFxqO76oWHfp0qWqikMQuic+nrVyqf29k+QHkJiIurqyE+GQ\nIbIHvvb27GRZ20SyslJ6XfLTwYF91f4eq/m73Sjqjlme3GvW6E7GvzEMBRAfj87ffQc8eaLWWOAz\nZszA7t270bVrV+Tk5GDmzJmYOXMmvL298eGHH6Jdu3aYN28eCgsL8dVXX8Ha2hqdOnXCmDFjAAB3\n7tyBt7c3AgIC0KNHD9y6dQuDBw/Gp59+ioCAALzxxhtwcnJCQEAAcnJy0Lp1a2zZsgWlpaVYtmwZ\nSktLUV5ejo8//pgLNkcQegOf/bu8vAHh4WyZiYm07P332bLXXmPLGuMboMEY+o0ec2N8FbSMYWwB\nOTigdPBgtdvhSsJBA2w00IULF3LXbty4gdDQUIwbNw7btm3DgQMH8PnnnyNN8k9Zi8zMTHzwwQeI\niorC+fPn8fLlS+7a8ePHYWlpiSNHjmDOnDmIjY1FYWEhZs+ejYMHD+KDDz5AuOTLQxD6BJ/9u5J5\nA3jrNQffAH2TRwGGsQIQCvFk4UJ0jYlRa5ztSZMmYdOmTVw+gClTpqCwsBAA0KNHD3Tq1AnPnj2D\nSCTiIh+OHTu2Xj89e/bEK6+8AgCwsrJCUVERdy0zM5Nr89ZbbwEAEhIScPLkSXz11VcQi8Vo165d\nk+QnCI0iL769knkDeOvpe5x/fZNHAYaxAgDAmJio3Q63bjjo2hENJb8zDINWraQfc93wzgAbBlpG\n1lrhnflCRJ8+fRqdO3fG4cOHZZLDEITewWf/rmTeAN56zcE3QN/kaQCDUQCCykqN2OHWDgfNh5mZ\nGV68eIHCwkKUl5cjNTW1Uf0PHz6cyxkQFxeHPXv2oKioCD179gQAnDt3DpWSAyaC0Df47N+VzRvA\nV685+AbomzwNYBgKQCyG9YEDGrHDrR0Omg9jY2P861//gre3N/z8/DBs2DCZFYEipkyZgrKyMsyb\nNw/ffPMNZsyYAWdnZxw4cADvvvsuRowYgby8PBw7dqzJYyAIjcBn/65s3gC+es3BN0Df5FFEo2OL\n6giVQu3GxTEFzs4Ms369NNRqRQX7/u23NR4O9vTp00xBQQHDMAzz7rvvMunp6Sr11yLDDrcAaCx1\niItjv1+1v3dnzjDMq6+yL0kIZ2XL+L6zfPeoU0+rfxcl5FEFdYeDNgwFwDDMzT17dBYL/KeffmKm\nTZvGeHh4MOvXr1e5P5po9JNmNRYF8fe5sciLtc+XD0DZ+PZqivPf4D1UjKHPiyox/ZUdiwKaVT6A\nLVu2ID09HVVVVVi2bBkmTZrEXUtKSsK2bdtgZGQEFxcXrFixQpOioNjOjv/wSAt2uNOnT8f06dM1\nfh+CUApl7PPNzflt9sViYOlS4PRp4MoVYO/exse3VzZvgIJcAhzaiKGvSkx/ZXwVdOQPoLEzgJSU\nFNy5cweRkZGIiIhAcHCwzPWgoCDs3LkThw8fRmJiIu7evaspUQiCqI0S9vmtysrk2+Ln5bFeu7m5\nzcLWXS2oYt+vx74BGlsB2Nvbc96pHTt2RFlZGaqrq2FkZITs7GyYmpqiS5cuAIBx48YhOTkZ/fv3\n15Q4BEFIUMI+v8/584CpKb8t/ujRgJ8f+0TcDGzd1YIq9v167BugMQVgZGTEOShFRUXBxcWFs3fP\ny8uDubk5V9fc3BzZ2dkK+0xPT1dJJlXb6xM0Fv2kOY2l1YQJ6BMby72///cWbZ/z5wEALwoL65UB\nwP0JE1Bz61b99hMmoObaNW2I3mjU9XdRZczq+rzU+T+mcU/gc+fOISoqCvv371e5L1tb2ya3TU9P\nV6m9PkFj0U+a1Vgke9CmplzRqDNn2Kd9U1O8KCyEmampTBlXLzZWugKoW66HKwC1/V34PjNlx6xK\n21o0ZSwNKQyN+gEkJCRgz549CA8PR4daAZmsrKyQn5/PvX/69CmsrKw0KYrGqK6uxrp16+Dt7Y05\nc+YgOjoaGRkZ8PLygo+PD1asWCET24cgdI4S9vn3g4Pl2+KnpgJTp7I/m4OtuzpQxb5fj30DNKYA\nioqKsGXLFuzduxdmZmYy17p3747i4mI8fPgQVVVViIuLg6Ojo6ZEQVVVFQoKCvDw4UPeV1VVVZP7\nPnHiBIyNjfHdd99h//79CA0Nhb+/P7Zu3YqDBw/itddewzfffKPG0RCEivDFp3d2ll53cUFN27b1\nyrg49q+8AmRlAVZWehffXmOoEtPfEPMBREdHo6CgAL6+vlzZ66+/joEDB8Ld3R3r16+Hn58fANbb\ntU+fPpoSBQzDICMjA4mJifWumZubY/ny5U3ue/jw4XBycgIAiEQimJmZISAggDvgHjBgAE6fPt3k\n/glC7UhMDmvHrHd3B5YsYa173N2B9HT257hxQK9eUpNMoRDYtg0oLJSagErK9S0uf134chMoKx/f\nZ6ZsTH9V2moYjSkADw8PeHh4yL1ub2+PyMhITd1eBhMTE3Tr1g137typd2348OEyQdway4ABA7jf\nL126hNLSUm6PrqqqCt999x3efvvtJvdPEBqBz1b9/HnWRHHiRLYsNBT4/nugTRvAxgaYPBkoLgbe\neYddAXzxBSB5wNNjW3dOPmXt+OWhir+BNnwVmoBhxAIC0L9/fy4kswRLS0u1bT1dvXoV69atwxdf\nfMFZO/n5+WHQoEHkBEboP3Vs1VuVlQEFBezkX17OBmXLzWX3/rOy2JXC4sVy2+uTrXuzkE9HGIwC\nMDIywtChQ2XKhg4dqtLTf2127NiB0NBQ9O3bFwBw5coViMVi+NcNC0sQ+ohkS+LvSbJPYCBw9Sqw\nbBlgawvcvMmmVJVM/qdOASKR3Pbw9JTd99a1ZZC+y6cjDEYBAICjoyO3ClDn0z8AfPzxxxgyZAj3\nvl+/fggKClJb/wShcfji2AcGAj/8IFsWGSk7+TfUXp/i4Ou7fDrAoBSAiYkJtwpQ59M/AISFhaG8\nvJx7//vvvyMmJkZt/ROExuGLYx8cDMyeLVvm4cGeBSjTXp/i4Ou7fDrAoBQAwK4CunTponaz0+3b\nt6NNmzbcexcXF3h5ean1HgShMerYqt8PDgZGjGAtfdLTgUGDgGvX2O2frCz2LKC2EtBjW/dmIZ+O\nMDgFYGJign/+859qffoniGZPHVv1mrZtgU6d2APgNm3Y1IxWVuzev0QJRETIba9Ptu7NQj4dYXAK\nAACEBrznRxgedz9ZCXHhc5myquAg3F29VFrg6gr8+9/sxCj5fvj7Az4+wP79rAkowO79HzvGbgvV\n8vGBqysbHoIvYbufn6y5Y1hY/S2k6Oj62zNiMWu+WZv4eP6UkIrquboC773Hb4tfV77G3KeZo/FY\nQARB6I67n6yExefhyDn1C7rFp0Noao6q4CBg3Tr0YhjcBdB/8z52Qt6yhX2yNzZmvYDj44GHD4GM\nDODNN6W28zt3An/+yV6vPXEqY+seFsZuuZw4IbUkio4G5s9nVxsAq3j4bPSVteWvWw+QOnylpQEm\nJlKZ+Gzx1eEz0EwwyBUAQRgKPf024EXfrjC79wg5rrYoeXgfD4+Eg2EYCAQC9EnMkm/frwnb+cWL\nZc8RcnPZ5O+Srabnz+XfR1l5+HwaGiO3AfkM0AqAIFowQlNzdItPR46rLczuPYJ46CCYAsgZ0gM9\nOvaA0Z07rH0/UN++XxNx7EUi9h4ShSO5t60t4OjIHjTLu4+y8tSp1yc2lo3Cqazcehy/X93QCoAg\nWjhCU3NYnfpVpuyV6HgY/fijbEU++35N2M6LROy9avPDD8DatYrvo6w8qsptID4DpAAIooUjLnyO\n3KluMmV5U1xRPXOmbEU++35N2M4XF7P3qs3s2cCnnyq+j7LyqCq3gfgMkAIgiBaMuPA5t/3zom9X\nCDNvorCXNbplZYO5mIzqAQPk2/drwna+uFj2vOHaNdbHID0d2LeP3RKSdx9l5eHzaWiM3AbkM6CU\nAsjPz8fVq1dx9epVmUQuBEHoN39t/YSb/LvFp6N99z7o7rkEAoEADMPgvuMQ+fb9mrCdj4iQjSdk\nZQWsXi0NOmduLv8+ysrD59PQGLkNyGegwUPg6Oho7Nu3D3l5ebC2tgYAPH78GJ07d8bSpUsxWWIb\nTBCEZmliLPv+G3bhLlhrIKEpm4fbOPAjVAH4s/Av1gQUAEQiXNj5IRxismDs6wukp6PKyQkPC57h\namfAJjdX2un8+cDIkbB2cmq8FYnEd2DxYul5w5QpwLffsopBsu/OFy9f2bj6qsbf1+P4/epG7t8v\nICAAVVVV2LRpEwYNGiRz7ebNm4iIiMD58+exadMmjQtJEAaNinbp/TfsqldmHPgR+te+xYN4bL32\nJexs7bCmmt3iqKiqwDe3rwNXgQxcl2lvbm6O5QzTtPHUdiCTMGUK+6oNn42+snH1VY2/r6fx+9WN\n3C2giRMnIjQ0tN7kDwCDBg1CaGgoJkoSRxAEoTm0YJfu0MMBdl3skPY4DSEJISirKkNoSihy2uXw\n1lc1kRKhH8hdAUgm96dPnyImJgZFRUVgamn8lStXkgIgCG2gBbt0oZEQa5zXICQhBGmP0xD7Iham\nZqawG2IHixsWePbsGVdX3aHUCd2h8BB4yZIluHHjBiorK1FVVcW9CILQIlqwSxcaCeHvIHsPf2d/\nDBs2TKZM3aHUCd2h8AzHzMwMISEh2pCFIAh5yLNLV6NnqrhajNAk2XuEJoXCf4w/MjMzkZ+fT0//\nLQyFKwB3d3ecPHkS2dnZePToEfciCEJLaMEuXVwt5rZ/7LrYIdgmmDsTCE0JxaDB7FkgPf23LBSu\nAG7duoVTp07BzMyMKxMIBIhvYWFRCUJvqWuXXvdMQA2miUnZSdzkv8Z5Da5dviZzJuBk76SRREqE\nblGoAK5cuYJLly5RDH2C0BWurrj85DKG/GOx9HsoFEL8f37IOhGBkbUm//gH8XDo4QChkfT7Kq4W\nIyk7Ca69XSEPybXabYVGQjj0cIBDDwdM6DcBzj2dYWJiolR/GqOJ/hAEPwq3gIYNG4aKigptyEIQ\nBA/xD+LxMROLkItbIf7bRl9cLUbIxa34mIlF/IN4rt7W5K0ISQiRrZcQgq3JW7l68nDt7SqjOOIf\nxGNH6g4kZSdBXC2GUChsVH9qR+IPwRf2YevWFpesRRsoVABPnz6Fm5sbPD094e3tDS8vL3h7e2tD\nNoIgUN9Gv0RcIrNf79DDoVH11H1frWFAcfq1hcItoOXLl2tDDoIg5FDXRt/zGOsHINmvr71lo0w9\ndd9XaxhQnH5toXAF0Lt3b9y8eROjR4/G6NGjkZiYiF69emlDNoIg/obXRt/Bv94krGw9dd9XaxhI\nnH5toVABrFmzBpaWltz7gQMHIjAwUKNCEQQhizwbfclef2Prqfu+WsNA4vRrC4UKQCwWY0qtIE1T\npkyBmD5sgtAadW30j7xzRGZvvu6Br6J66r6v1jCgOP3aQql8ABcuXEB5eTlKS0sRExMDgUCgabkI\ngvibujb67YXtscZ5DTcZJ2UnNaqeuu+rNQwoTr+2UHgIHBQUhHXr1mHVqlVo1aoVRo0ahY0bN2pD\nNoIgIN9Gf43zGhl7fGXrqfu+WsOA4vRrC7krgOzsbABAr1698PXXXyMjIwPp6emIiIjgDoEldeRx\n+/ZtTJw4EYcOHap3zc3NDV5eXvDx8YGPjw+ePn2qyjgIQq+JfxDPu1+vrC39R79+hCfFT2TKjmUe\nQ+A52fO4yupKnH9wXmF/YSlhKBbL5v8tO3saOxJk99dd71RC+Ktsf8JqwPWBUmKrH1dX/gTwNPk3\niQYTwvzjH//AzJkzYWwsW626uhrHjh3DyZMneSd3ACgtLcXGjRsxduxYuTcPDw9H+/btmyg6QTQP\nJA5a5x+c58wna++vA2jwadppvxMSsxMxcOdA3PrPLfQ07YnDVw9j3vF5qGFq4BDhgKTFSTj7x1ms\njF4JCIBdk3fBvZ87733CUsIQ8lsITtw8gVNepyASilB29jQyPvRBuVU5dnwMOLYbD5w9C6xcyQqx\naxfg7t6oRDSE/iN3BRAeHo6bN2/C1dUVvr6+2Lx5MzZv3oxVq1bB1dUVt27dwr59++R2LBQKER4e\nDisrK40IThDNBVUdqr5/53u0MWqD8upyDNw5EJdyLmHhyYWoYWrQStAKY7qNQYm4BBf+vAAIADBA\nwl8Jcu+z2GYxhlgOQVZ+FqZ+PxW5xbmY9ucm/GZVDqfcNlh2tgCtysqACxekQiQkkONVC0TAMA3n\ndXv+/DmSk5Px+PFjAECXLl3g97n7AAAgAElEQVQwduxYmJubK3WDnTt3olOnTpg3b55MuZubG2xs\nbJCTkwNbW1v4+fk1eLicnp4OW1tbpe6pifb6BI1FP2loLHWfxIHGOVT9VfgXBu4ciPLqcq6stVFr\n/Nv237jz4g5XNrLzSAgEAmQ8yWjwPsXiYkz9fiqy8rO4shFmg/DzX05onXEVLwoLYWZqCowcCQgE\nQIa0v+bmeGUo/2NNaaNQAaiKPAVw/PhxODs7w9TUFCtWrMCMGTPw5ptvyu0nPT1dk2IShMYpqypD\n4O/SPftgm2C0NW6rdPvMgkwsSFzAvf/G8Rv07dC3Xp8AlLrP8/Ln8Lzgyb0/4nIElkxb9Knl53M/\nmO2vbllNW+XlJnSPPAWg0ApIU0yfPp373cXFBbdv325QAQDyB6EMhv4UoK8YylgkKwBTM1OuLLYs\ntlErgGU7l8mULU1Zin/b/lumz5gS1kxb0X0kKwBjE+kUsOVGELsCMDXlVgCjYmLYFYCptL9RsbG0\nAtARTV0ByEMpPwB1U1RUhEWLFnEOZZcuXcKAAQN0IQpBaBxVHapqb/+0MWqD1MWpaG3UGhXVFfj8\n0ucYYDYAR945gpGdR+Jo1lFEXo/EKOtRcu9Te/tniOUQXFt+DSPMBsH9aDrST+5FxagR7JP/yJHA\n0aNAZCQwahQ5XrVAlFIAhYWFyM7Olnkp4vr16/Dx8cFPP/2Eb7/9Fj4+Pjhw4ADOnj2LDh06wMXF\nBR4eHvD09IS5ubnCp3+CaK6o6lDldcyLm/xv/ecW7LvZ48C0A2glaIUapgYpOSloL2wPl14uAANA\nADj3dJZ7n4jfI7jJ/5TXKViJrHCyVwCcctvgN6ty7HXvxG7xuLhIhXB2JserlgijgA0bNjCjRo1i\n3NzcmPHjxzPjx49n3NzcFDVTO2lpaTptr0/QWHRD3P04pqKqQqasoqqCibsfxzBMw2NR1LY225O3\nM0UVRTJlY/aNYT4695FM2UfnPmJe3/e6TNmS40uYjfEbZcpO3DjBLD+1XKbss8TPmOjb0TJlpWei\nmc8vfCY7ljNn2JeM4BUME1dfbpWIi2P71cB9mtP/mCKaMpaG2ig8A0hNTUVKSgplBCMMGmVs+Tug\ng9z2fHb+QiNhvXI+G/1icTHamLTBvox9sGhvAd8xvoh/EI/LuZcxecBkNlmLkRChSaH4PvN7tDFu\nA9uutpg8YDJO3zmNd0++i/KqcvQz7wd/B3+Iq8UoEZfgi7Qv0NakLSdDW/fJeA+TZYV0d68/GHU7\nXkkSvZw/Lz1bIH8DraBwC6hPnz6UBJoweLSVHIXPRr/2fv1im8Vy5SkoK0Ab4zYoryrHpt82Ibc4\nF5t+24TyqnK0MW6DgrIC3Sd14YMSvegMuSuAzz//HADQvn17zJs3D7a2tjAyMuKur1q1SvPSEYSe\noK3kKCKhCKe8TnGT/vA9wwGA268XCUUNyrPMdhl+++s33Hx2k2tr28UWTj2dcDX3qu6TuvBBiV50\nhtwVgJGREYyMjNCtWzeMHTsWQqGQK6utCAjCUNBWchSRUITIWZEyZZGzIrnJvyF5Ap0D8cPsH2TK\nfpj9AwKdZWMG6TSpCx+U6EUnyFUAK1euxMqVKyESibjfJa+amhptykgQeoG2kqMUi4vhEeUhU+YR\n5VEveBufPMEJwZj9w2yZstk/zEZwQrBMmU6TuvBBiV50glwFkJKSgrCwMHz77bf4/PPPudfWrVsR\nGRkprxlBtEi0lRyFz0a/9pmARAnwyTPCagT2pu9F+uN0DLIYhGvLr2GQxSCkP07H3vS9GGE1QvdJ\nXfigRC86Q64C6Nu3L/r27QsAMls/bdq0wbZt27QmIEHoA9pKjsJno3/K6xSnBCJ+j5ArT6e2nbgD\n3wCnAFiJrBDgFMAdDHdq20n3SV34oEQvOkPuIbCVlRWmTZsGW1tbdOvWTZsyEYTGiH8QL5PgBGCf\nphUlOJGXHOVJ0RMsHrkYrr1dkf6Mdbn/9MKn+PPFn9g3TRotd1PCJgBAgHMAV1YsLobPjz44OPMg\nt7/vO8YXWU+z0NOsJ1cmEorg+7ov/nf3f/Ad48vJk5aThiGvDOHk8XfwR1V1FQBg8oDJ3M+DMw4i\nMy+TOy/QaVIXPijRi86QqwDc3NwajM4ZGxurEYEIQlOoGpe/7rWV0Sux/8p+/O+P/8G5tzMAdvL/\nJP4TMH/HWNw3bR82JWzCJ/GfcO0CnANQLC7GyD0jca/gHkbuGYnLyy9DJBQh+nY0frz1I/ck7+/o\nj7N/nMX/xf4fwABn/zgL937uOPvHWYT/Hg4IABMjEy72f0V1BdIepyH+QTwn7+QBkzmFIIHPB0Gn\n8E3ylOhF48jdAvr6669x4MABvPnmm/Dx8cHu3buxY8cOeHh4YOrUqdqUkSDUgrpt+TeM34Cuoq54\nVPwItnttkVOSg33p+8AwDAQCAbLys5BbnItf7vzCtfnl7i+cbf/LipcwbW2KlxUvOZv/zYmbpXb7\n5azdfsJfCVyIhwt/XmhU7H+CaAi5K4CePXsCALKysnDgwAGufOjQoVi2bJm8ZgSht6jblt+8rTnS\nl6XDdq8tHhU/wqz4WRC0EqBHxx7oYdoDd57f4WzxX+/2OiAAbj+7zZUNfWUoDs86jLlRc2Vs/vns\n9j2GeYBhGFx+epkrmzNkDhf7Xy/t+wm9R6En8LNnz/Dbb7+htLQU5eXlSE5OxqNHj7QhG0GoHXXb\n8pu3NcevC36VKYv/Zzx+nPOjTNmxOcdwbPYxmbLIWZGwFlnXs/nns9tf7bgaAU4BMmUBTgFY7bha\nbWMhDA+FsYDWr1+PLVu24Pbt22AYBgMGDMDHH3+sDdkIQu3Is+Vv6lPz87LncPvGTabM9WtX9DDt\nIVP2ztF32C2bWnhEeXArgNrM/mE2nHo6yZRtTtzMnStI2PTbpnrndKqMhTA8FK4AbGxscOTIEfz+\n++/IyMjA0aNHMXr0aG3IRhBqRd22/M/LnnPbP11FXRHlGgXr9tbIfpmN5IfJGGA+ANeWX8Or5q/i\nYs5FXHx4Ea9avMrZ9mfmZWLwrsHIzMvkbP757PZHWY9C5PVIHM06ipGdRzYq9j9BNIRcBRAUFAQA\n8PLygre3d70XQTQ31G3L/0ncJ9zkn74sHd3ad8NS26UQCARgGAZDLIfASmSFtwa8xbV5q/9bnG1/\nx9YdUVhRiI6tO3I2/6sdV0vt9tuwdvvOPZ25A1+XXi6Niv1PEA0hdwto1qxZAABfX1+tCUMQmkSe\nLb+yNvF1fQh2TdmFvwr/woIRC2De1hz3cR9rXdaiqroKlx5f4vwAApwDcO/5PfQ068n5AYiEIqQu\nScW0w9Pwv3n/42z+p7w6Bf5j2TMKf0f25/he47HRZiPuv7iPwa0H4+HDhxjcejCC7YO565KxOPRw\ngEMPB5mxKOPnQBgmchXAoEGDAAAbN26Ek5MTnJycYG9vT3kBiGaNsnH568LnQ3D2j7O4lX8LgXGB\n6NimI8xhzm69CACBQMDZ4sc/iMfj0sfoZtqNi90vrhZj58Wd6NS2E9IepXH3j38Qj8SHibDrYsfV\nraiqwI2EG0A58NWlr2TkMjc3B2PLcG13pO6AXRc7jOs9rtF+DoThofAM4MCBAxg2bBhiYmIwe/Zs\nLF68GF9//bUWRCMI/YHPh6CuLX5ZVRmvLX5j/A/46oamhCKnXQ6vXMOHD+fydWgrZwHRchAwdU0L\n5PDkyROkpqYiOjoaV65cQXJysqZlkyE9PR22trY6a69P0Fh0Q92naQAY2XkkZ4tf+KIQpmamvLb4\nfG3l2ezz1rWyg8UNCzx79owrs7S0xNKlS2USNjXmPg3RnP4uijD0sTTURuEKIDAwED4+PtiyZQuK\niorw/vvva33yJwh9gM+HQFlb/Mb4H/DWdfbHsGHDZMqGDh1aL1uftnIWEC0DhQqgtLQUACASiWBm\nZgZzc3ONC0UQ+gifD8Gm3zZhc+JmmTK+WPuNySUgr679GHtYWloCYJ/+HR0dlW5LZqEEHwoVQFhY\nGA4ePAhvb288f/4ca9asweTJkxU1I4gWBZ8PQV1b/GCbYF5b/Mb4HzRUNzQlFIMGs8YZfE//2spZ\nQLQcFCqA4uJinD9/HidPnkR0dDSKi4vh7u6uDdkIQm/g8yGoa4vf1rgtry1+Y/wPFNVFT6BLly68\nT//ayllAtCAYBbi5uTEfffQR88svvzAFBQWKqmuMtLQ0nbbXJ5r7WOLuxzEVVRUMw0jHUlFVwcTd\nj9OhVLLUllHCZ799xvxy6xeZsujb0cxniZ8xDNPwWPj6kzdmRXUrKirqtWnKfRqiuf+P1cbQx9JQ\nG4WxgCjuP6FO6trTA/UtV3Rtqy7P5j88IxxgZOPvp+aksk/dXe3QAR0A8PsVNMb/QFHdhnxxmurn\nQBgmCreACEKd1LVVl2c7r08yyovJr29yE0RjUbgCIAh1Ujcmf+yLWLm28/oiY0Mx+fVJboJoLHIV\ngCJb/7Fjx6pdGMIwkNiqSyZRQP9s1flklNj767PcBNEY5CqAL774Qm4jgUBACoBoMuqOya8J+GTk\ni8mvb3ITRGOQqwAOHjwot1FMTIxGhCFaPnVt1Sf0nYDYslhuv10fJtO6Mvo7+GNz4mZEXo8EBGwq\nxgCnAIQmhcrITRDNDYVnAI8ePcKhQ4dQUFAAABCLxbh48SLeeOMNjQtHtDzq2qpfu3xNZr9dH8IW\n15VRaCSEc09nRGZGysTkryu3xAqIIJoLCq2A/u///g9mZma4fPkyhg0bhoKCAmzZskUbshEtENfe\nrvAb6yfzpC85dPUb66dw8g9LCUOxuFimrFhcjLCUsCbXjX8QL+Ml69rbFe+Nfk8m9r97P3fsmrwL\nu6bsgns/d05uhx4OeG/0ezJyn/3jLM7+cVbmHuJqMeIfxDc4NoLQNgoVgJGREZYuXQpLS0t4e3vj\nyy+/xHfffadU57dv38bEiRNx6NCheteSkpIwa9YseHh4YPfu3Y2XnGi2uPZ25Q2WpszkH/JbCKZ+\nP5Wb2IvFxZj6/VSE/BYiM7ErW1di8183dENSdhJ2pO6QmbTd+7lzk7+k7Y7UHUjKTuLanv3jLFZG\nr8TK0ys5JSDZUtqavJWUAKFXKFQAFRUVePLkCQQCAbKzs2FsbIycHP7Y5LUpLS3Fxo0b5R4WBwUF\nYefOnTh8+DASExNx9+7dxktPGBSLbRZjiOUQZOVnYer3U5FbnIup309FVn4WhlgOwWKbxY2uq0oM\nfT6fhro5AshfgNBnFJ4BLF68GMnJyVi0aBH+8Y9/wMjICG+//bbCjoVCIcLDwxEeHl7vWnZ2NkxN\nTdGlSxcAwLhx45CcnIz+/fs3YQiEoSASinDK6xQ3kQ/fMxwAMMRyCE55neLSKjamrjybf2Xs++X5\nNMwZMofLEUD+AoQ+o1AB9OnTB/369QMApKamoqSkBPfv31fcsbExjI35u8/Ly5MJK21ubo7s7GyF\nfaanpyuso8n2+oQhjyVwQCA8H3vKvL917ZZKdSe0nYDYF9KwJxP6TsC1y9eUkqd228IXhXijL2sg\nEf8ivkn96QuG/D+mz6hzLHIVwMuXL/HixQsEBgYiNFRqD11ZWYnVq1frxBSUMoKxGPJYJPv4xibS\nf93gO8H1VgCNqSvZozc1M+XKYstilXpir91WkhEspiQGAoGgSf3pC4b8P6bPNDUjmDzkngFkZGRg\n/fr1uHHjBhYsWMC9li5dqrITmJWVFfLz87n3T58+hZWVlUp9Ei0fyYQu2ce/tvyazD5/bYsfZeuq\nEkO/bttgm+B6OQIoJj+hz8hVAOPGjcP+/fuxZs0a/Prrr9zr3LlzWL9+vUo37d69O4qLi/Hw4UNU\nVVUhLi6ON745QdQm4vcIbkI/5XUKViIrnPI6xU3sEb9HNLquKjH067Zta9y2Xo4AislP6DWKYkkX\nFBQwmzZtYvz9/RmGYZjY2Fjm2bNnCmNQX7t2jZk3bx4zfvx4xt3dnZk3bx6zf/9+5syZMwzDMExq\naiozZ84cZs6cOUxERIRKMa2VwdBjgusrjR3L9uTtTFFFkUxZUUURsz15e5PrqhJDny+3wZm7Z5gz\nd880qT99wZD/x/QZrecD+Pjjj2Fvb4+MjAwArCfw6tWrea17ajNs2LAGw0nY29sjMjKykeqKMHR8\nx/jWKxMJRbzlytZVJYY+X53avgKN7Y8gtIlCP4Dnz59j/vz5XP7RN998E+Xl5RoXjCAIgtAsSiWE\nqayshEAgAADk5+ejtLRUo0IRBEEQmkfhFtC8efMwa9Ys5OXlYfny5bh27RrWrl2rDdkIgiAIDaJQ\nAUyePBmjRo1CRkYGhEIhNmzYQCabBEEQLQCFCqCkpATnzp3D3bt3IRAIkJeXh+nTp6NNmzbakI8g\nCILQEAoVwAcffABTU1PY2NiAYRikpaXhwoULDWYMIwiCIPQfhQqgsLAQe/fu5d7PnTsXXl5eGhWK\nIAiC0DwKrYC6d++OvLw87n1+fj569eqlUaEIgiAIzaNUSkh3d3f0798fNTU1uH//Pvr16wdvb28A\nUDo5DEEQBKFfKFQAvr71vSkJgiCI5o9CBTB69GhtyEEQBEFoGaU8gQmCIIiWBykAgiAIA4UUAEEQ\nhIFCCoAgCMJAIQVAEARhoJACIAiCMFBIARAEQRgopAAIgiAMFFIABEEQBgopAIIgCAOFFABBEISB\nQgpAQ8THA2KxbJlYzJYTBEHoA6QANEB8PLB1KxASIlUCYjH7futWUgIEQegHpAA0gIMDYGcHpKWx\nk35JCfszLY0td3DQtYQEQRCkADSCUAisWSNVAp6e0sl/zRr2OkEQhK4hBaAhhELA31+2zN+fJn+C\nIPQHUgAaQiwGQkNly0JD6x8MEwRB6ApSABpAcuAr2fY5ckT2TICUAEEQ+gApAA2QlCS759++veyZ\nQFKSriUkCIJQIicw0XhcXdmfDg7SPX+hkH3v4CC9DrCrgaQk2TKCIAhtoFEFEBwcjCtXrkAgECAw\nMBAjRozgrrm5ucHa2hpGRkYAgNDQUHTu3FmT4miVuhN6fDywYwe7Chg3jlUItbeK+NoQBEFoEo0p\ngNTUVPz555+IjIzEH3/8gcDAQERGRsrUCQ8PR/v27TUlgl7h4ACcPy89B/D3Zw+FyTeAIAhdobEz\ngOTkZEycOBEA0K9fPxQWFqK4uFhTt9N7yDeAIAh9Q2MrgPz8fAwdOpR7b25ujry8PIhEIq5s3bp1\nyMnJga2tLfz8/CAQCBrsMz09XSWZVG2vDiZMaIXY2D613t/HtWs1je5HH8aiLmgs+gmNRT9R51i0\ndgjMMIzM+/feew/Ozs4wNTXFihUrEBMTgzfffLPBPmxtbZt8//T0dJXaqwPJnr+pqbQsNnZUo1cA\n+jAWdUFj0U9oLPpJU8bSkMLQ2BaQlZUV8vPzufe5ubl45ZVXuPfTp0+HhYUFjI2N4eLigtu3b2tK\nFL2AfAMIgtA3NKYAHB0dERMTAwDIzMyElZUVt/1TVFSERYsWQfz3rHfp0iUMGDBAU6LoBeQbQBCE\nvqExBWBjY4OhQ4fC09MTQUFBWLduHX788UecPXsWHTp0gIuLCzw8PODp6Qlzc3OF2z/aRtl4/itX\nAs+fy5Y9fw7MmCHb3tWVNf8cPVrWN8DPD5gwQdYElHIJEAShDTR6BuBfJxraoEGDuN8XLFiABQsW\naPL2TUYSz//8eamFDp/N/sqVQHg48MsvQHo6YG7OTv5DhgC5uYCTE/Dbb2z7s2fZugBgbAy4u7N9\nbt3K9jlyJNunMvfu0EH7nwlBEC0PCgXBg7Lx/DdsALp2BR49Amxtgfv32Z8FBexBb6dO0vYJCdL+\nL1yQ3yflEiAIQltQKAgeJDb7konX05Mtr2uzb27OPvnb2rJKQLLA6doVSE4G9u6Vbe/hATAMcPmy\n/D6VvTdBEISq0ApADsrG8zc3B379Vbbs118Ba+v67VevBgICFPdJuQQIgtAGpADkoGw8/+fPATc3\n2TI3N+DJk/rtN28GNm1S3CflEiAIQhuQAuBBWZv958+l2z9duwI3b0rPBAYPZk07Je1HjQIiI4Gj\nR9kDX3l9kr8AQRDaghQAD8ra7H/yiXTyT08H+vRhf3bqBBQWsofBkvbOztL+XVzk90n+AgRBaAs6\nBObB1RWIigL+8x/Zw9m//gKsrKQ2+2FhVXjy5AnMzYHSUvYFADEx7KQdFWUNoZD9iN3dgSVLgKFD\n2d8lffr5ARER0j7l5RJYs0aaN6AFhTUhCEKHkALgISwM+OEHIDMTOHUKEImApUuBAwcAgQDo2xdY\nuxb4+WcG3bv/iE6dCvDVV7J9vPaaOZKTl2PCBPZ9fDxr219Swjp+Sez76/oBAPx5AYRCyhdAEIR6\noS0gHhYvZp25srKAqVNZp66sLHbyZxhg3z7W5t/X1wRXrozg7aNNm+Fwdjbh3pN9P0EQ+gatAHgQ\nidgn/6lT2Yl/+HC2fOxYIDubtfCR2PwbGTmiujoTRkb5tXqwhL+/o4zZJtn3EwShb9AKQA4iEWu1\nU5sff6wfj+fcORM4OQ2VKXNwGIr27U1QF7LvJwhCnyAFIIfiYtZztzYzZ9bfhx8/Hvj1V0eUlloC\nAEpLLZGU5Mhrrkn2/QRB6BOkAHgoLpZu/wwZAly7BgwYwIZ3yM5mvXxv3gS6dAEePgR27DCBiQm7\nCmjXbijS0kzq2eyTfT9BEPoGKQAeIiKkk/+pU6zp55Ah7AGwQMBaBPXpA+zYIbXmefbMEV26dIG/\nvyOvzT7Z9xMEoW/QITAPvr7sz8WL2bMAgLX8AYBevVgTUACYNo19kj99GvjySxOIxf+EUGgiY7Mv\nQRn7foIgCG3SolcAyiZWCQtjt31qc+5c/f3648fZ8tq8/z7rNAYAwr9n9r/+AiZPZn/W5vFj5SZ6\nSghDEIQ2aLErgLqJVQD+pC5hYWzZiRNSp6+332aTvERHs/XWr2e3gfLy2H7Hjwfi4oB+/YB799g6\nr7zCXr97lz0vANjVwp9/Aj17AocPA/PmATU17CogKYlfHkoIQxCEtmixK4C6jldlZa14Ha/4nL6e\nPZM6fYWFsR7BkjAPADtJnzghnfwBts2FC2wQuNoMHAhcugQsXMhO/q1aAWPGUEIYgiB0T4tVAJL9\ndclkGhjYR+YQVrIPL3H6kiiB4cPZif3119msXi9fsmWlpezBrYTp06W/S5TFuHFAVRWb8jE+HmjT\nBigvZ/MAV1QArVsDq1YBd+6wjmB88tSVW149giAIVWmxCgBQ3vGKz+nrxAkgMVG27OJF9hygNseP\n19+bj41llcGFC7LlCQnAxo2K5SGHMYIgtEGLVgDKOl7xOX394x+Ao6Ns2euvyz75A+z7uge7Eyaw\ne/guLrLlzs7Axx8rloccxgiC0AYtVgHUdbwKDr7P63jF5/TVty/7tF9YCHTsyJa1a8fux0uovRKQ\n+AecP89u/1RVsUqhvJzdBkpNZbd/KiqAzz9nD4kpIQxBELqmxSqAuo5XbdvW8Dpe8Tl9WVhIJ3Vf\nXzaGf7t20r5dXdkVQt++0jILC/aJ/8YNWTlu3QLs7dlQ0q1asQfBKSmUEIYgCN3TYs1A5TleOTiw\nL8l1X1/2iX3IEKnT188/s6agdnasCSjAWgeZmrJx++Pi2LI//gDatgWMjFgTUADo3589O3ByAh48\nYE1AAWDuXPbnzp3SSZzPEYwSwhAEoS1a7AoAYCfL2gen8fFs+AaJDT7A/iwpAb78UvYw9+efpZO/\npK2LC5vwXdJ22jR2m6eiQuoM9uQJ8NZb7O+rVsnKM3du/Sd4vkQvdeWWV48gCEIVWrQCqIsqNvZ8\nbQcOlO75L17M+gsMHsyeHZiaskqFIAhCXzEoBaCKjT1f25s32S2k2v4Cksn/xg02aihBEIS+YlAK\nAFDNxp6v7fr19f0FfvuNJn+CIPQfg1MAqtjY87Vdv76+v4CTE3sWQBAEoc8YlAJQxcaer+2gQWys\noNr+Aqam7PvBg0kJEASh3xiUAlDFxp6v7a1b0tg/ERGsv8CNG1Il8K9/aW9sBEEQjaXF+gHwoUpS\nFr62J0+ypqDz5wOzZrFl1tasEvjXv4CfftLAIAiCINSERhVAcHAwrly5AoFAgMDAQIwYMYK7lpSU\nhG3btsHIyAguLi5YsWKFJkXh4JvklbWx56tz8mT9MmtrmvwJgtB/NLYFlJqaij///BORkZH49NNP\n8emnn8pcDwoKws6dO3H48GEkJibi7t27mhKFIAiC4EFjCiA5ORkTJ04EAPTr1w+FhYUo/jvvYnZ2\nNkxNTdGlSxe0atUK48aNQ3JysqZEIQiCIHjQ2BZQfn4+hg4dyr03NzdHXl4eRCIR8vLyYG5uLnMt\nOztbYZ/pKgbBUbW9PkFj0U9oLPoJjYUfrR0CMwyjch+2trZNbpuenq5Se32CxqKf0Fj0E0MfS0MK\nQ2NbQFZWVsjPz+fe5+bm4pVXXuG99vTpU1hZWWlKFIIgCIIHja0AHB0dsXPnTnh6eiIzMxNWVlYQ\n/R1vuXv37iguLsbDhw9hbW2NuLg4hNZ1seWBtoCk0Fj0ExqLfkJj4UfAqGNvRg6hoaFIS0uDQCDA\nunXrkJWVhQ4dOsDd3R2XLl3iJv1JkyZh0aJFmhKDIAiC4EGjCoAgCILQXwwqFARBEAQhhRQAQRCE\ngUIKgCAIwkAhBUAQBGGgkAIgCIIwUAxCAdy+fRsTJ07EoUOHdC2KymzZsgUeHh545513cObMGV2L\n02TKysqwatUqzJs3D7Nnz0ZcXJyuRVKZ8vJyTJw4ET/++KOuRWkyFy9exJgxY+Dj4wMfHx9s3LhR\n1yKpxMmTJzFt2jTMnDkT8fHxuhanyfzwww/c38THxwejRo1SS78tPh9AaWkpNm7ciLFjx+paFJVJ\nSUnBnTt3EBkZiYKCAsyYMQOTJk3StVhNIi4uDsOGDcOSJUuQk5ODd999F+PHj9e1WCrx5ZdfwtTU\nVNdiqMzo0aOxY8cOXffIQZkAAAiiSURBVIuhMgUFBdi9ezeOHTuG0tJS7Ny5E67KxH3XQ2bPno3Z\ns2cDYCMtnz59Wi39tngFIBQKER4ejvDwcF2LojL29vZcToWOHTuirKwM1dXVMDIy0rFkjWfKlCnc\n748fP0bnzp11KI3q/PHHH7h7926znWBaIsnJyRg7dixEIhFEIlGzX81I2L17t1KRE5ShxW8BGRsb\no02bNroWQy0YGRmhXbt2AICoqCi4uLg0y8m/Np6envD390dgYKCuRVGJzZs3IyAgQNdiqIW7d+9i\n+fLlmDt3LhITE3UtTpN5+PAhysvLsXz5cnh5ebWIkPNXr15Fly5duLhqqtLiVwAtkXPnziEqKgr7\n9+/XtSgqc+TIEdy4cQMffvghTp48CYFAoGuRGs3x48cxcuRI9OjRQ9eiqEzv3r2xcuVKTJ48GdnZ\n2Zg/fz7OnDkDoSQPajPjxYsX2LVrFx49eoT58+cjLi6uWf6PSYiKisKMGTPU1h8pgGZGQkIC9uzZ\ng4iICHTo0EHX4jSZ69evw8LCAl26dMHgwYNRXV2N58+fw8LCQteiNZr4+HhkZ2cjPj4eT548gVAo\nhLW1NRwcHHQtWqPp3Lkztz3Xs2dPWFpa4unTp81SuVlYWGDUqFEwNjZGz5490b59+2b7Pybh4sWL\n+Oijj9TWX4vfAmpJFBUVYcuWLdi7dy/MzMx0LY5KpKWlcSuY/Px8lJaWolOnTjqWqmmEhYXh2LFj\nOHr0KGbPno1///vfzXLyB1irma+++goAkJeXh2fPnjXb8xknJyekpKSgpqYGBQUFzfp/DGDD5rdv\n316tq7EWvwK4fv06Nm/ejJycHBgbGyMmJgY7d+5slhNodHQ0CgoK4Ovry5Vt3rwZXbt21aFUTcPT\n0xNr166Fl5cXysvL8cknn6BVK3oe0TVubm7w9/dHbGwsKisrsX79+ma7/dO5c2e88cYbmDNnDgDg\no48+atb/Y3UzKaoDigZKEARhoDRfdUgQBEGoBCkAgiAIA4UUAEEQhIFCCoAgCMJAIQVAEARhoJAC\nIFoc58+fx4sXLxqs4+Pjg6SkJJmyixcvYu7cuWqX58SJEwDY0AQuLi5Ktdm1axdnj98UXr58CU9P\nTzx9+rTJfRAtH1IARIvj66+/RmFhoa7FAABUV1fjiy++aFSbq1evIjExEYsWLWryfTt27IiVK1di\n7dq1Te6DaPm0eEcwonlz8eJFhIWFoWvXrsjJyUGHDh2wfft2iEQiREdH49ChQ2AYBubm5ggKCsLp\n06eRlpYGf39/hISE4P79+4iIiIBQKER1dTW2bNmC7t27K7zvo0eP8N///hdlZWUoLS3FBx98AAcH\nBwQEBMDKygq3b9/G/fv3MWvWLCxZsgQFBQXw8/NDaWkpevfujUePHmH58uU4ceIEF+56w4YNAIDt\n27fj0qVLKC0txd69e+t52n755Zf45z//CQCoqalBUFAQrl+/DgBYuHAhJk+eDDc3N3h6eiIhIQF5\neXlYvXo1IiMjcffuXaxYsQIzZsyAk5MTPvvsM9y4cQODBw9W7x+GaBkwBKHHpKSkMMOHD2eePHnC\nMAzD+Pv7M9988w3z6NEjZurUqUxFRQXDMAzz9ddfMyEhIQzDMMz48eOZBw8eMAzDMFFRUUxOTg7D\nMAyzZ88eZtOmTQzDMMy8efOYxMTEevfy9PRkGIZhlixZwiQnJzMMwzC5ubnM+PHjmcrKSmb16tWM\nr68vwzAM8/DhQ8bGxoZhGIbZtm0bExwczDAMw9y6dYsZOnQok5iYyGRnZzPOzs4MwzBMdnY2M3jw\nYObWrVsMwzBMYGAg89VXX8nIUFVVxYwcOZIpKipiGIZhfvrpJ+Y///kPwzAMU1hYyCxZsoSpqqpi\nxo8fzxw9epRhGIZZvXo1s2DBAqampoZJSUlhpk2bxvW3adMmZu/evU367ImWD60ACL2nf//+3FOy\njY0Nbty4AUtLS+Tl5XHbJGKxmPfJ3tLSEqtXrwbDMMjLy1M6k9LFixdRUlKC3bt3A2DDij979gwA\nmzAFALp164bi4mJUV1fj5s2bXMiBV199FX369OHtt1OnTnj11VcBANbW1nj58qXM9RcvXsDExAQi\nkQgAux30+uuvA2C3dfbt28fVtbGxAcCGPOjcuTMEAgGsra1RVFTE1enWrRtu376t1JgJw4MUAKH3\nMLWilTAMA4FAAKFQiBEjRmDv3r1y21VWVsLX1xc//fQTevfujUOHDnFbKYoQCoXYuXMnb+wVY2PZ\nrw3DMKipqZGJMyMv5kzd/A2MgkgsAoEANTU1vNdqy1FXJoJQBjoEJvSee/fuITc3FwCQnp6OgQMH\nYvjw4bh69Sry8vIAAKdPn8a5c+cAsJNmVVUVSkpK0KpVK3Tr1g0VFRWIjY2FWCxW6p62trZc2r3n\nz5/j008/bbB+3759kZGRAYBNqHLv3j0ArCKoqqpSeqxmZmaorKxEcXExAGDUqFFISEgAABQXF2P2\n7NlKjwEAcnJylDrzIAwTUgCE3tO/f39s27YNc+fORUlJCaZPn47OnTtj7dq1WLZsGby9vREVFYWR\nI0cCYMMAL1++HPfu3cPbb7+NWbNmwdfXF4sWLUJKSopS+VTXrl2Lc+fOwcvLC0uXLsWYMWMarL9w\n4UKkpKTAy8sL3377LYYOHQojIyNYWVnB0tISM2fORFlZmcL7GhkZYcyYMZyJ6uTJk9G9e3d4enpi\n4cKFWLhwYaOicyYnJ8PZ2Vnp+oRhQdFACb1GYgV0+PBhXYvSIPfu3UN2djbGjRuH8vJyTJw4EVFR\nUbC2tm50X1evXkVISIjKY05MTMSBAwcQERGhUj9Ey4VWAAShBjp06ICvv/4aHh4e8Pb2xtKlS5s0\n+QPAiBEj4OjoqLIj2M6dOxVuXRGGDa0ACIIgDBRaARAEQRgopAAIgiAMFFIABEEQBgopAIIgCAOF\nFABBEISB8v8hOBrNMnuovAAAAABJRU5ErkJggg==\n",
            "text/plain": [
              "<matplotlib.figure.Figure at 0x7f8ce9a6ca90>"
            ]
          },
          "metadata": {
            "tags": []
          }
        }
      ]
    },
    {
      "metadata": {
        "id": "s2khewKZ33_w",
        "colab_type": "text"
      },
      "cell_type": "markdown",
      "source": [
        "Based on these two features, it is easy to distinguish iris setosa from the two remaining species. Yet iris versicolor and virginica remain mixed together. \n",
        "\n",
        "Looking closely at the plot, we might estimate the species of the selected unknown irises (gray triangles). For three of them the answer seems obvious – they belong in uniformly-colored areas covered by one species only. Yet unknown iris flower in (5.1, 1.7) is troublesome – it lays on the boundary of versicolor and virginica clusters. We can assume, that its species is the one of the closest one to it, coming from the training set (and so having a label). \n",
        "\n",
        "K-Nearest Neighbors method (http://en.wikipedia.org/wiki/K-nearest_neighbors_algorithm) solves the classification problem, i.e. sets class labels (species in case of irises) of a previously unseen sample by choosing the most common class among the top k neighbors of the sample in question (for instance according to the Euclidean distance). Thus, the k-Nearest Neighbors algorithm works as follows. For each unlabeled sample x:\n",
        "1. Find k nearest neighbors among the labeled samples.\n",
        "2. Set the most common label among them as label of x."
      ]
    },
    {
      "metadata": {
        "id": "8-G-sMUw33_x",
        "colab_type": "text"
      },
      "cell_type": "markdown",
      "source": [
        "#### Problem 2 [2p]\n",
        "\n",
        "1.  **[1p]** Load the iris data (in Python it’s built-in into machine learning libraries, use sklearn.datasets.load_iris), the data is also available on-line at https://archive.ics.uci.edu/ml/datasets/Iris\n",
        "\n",
        "2.  **[1p]** Irises are described with 4 attributes: petal and sepal widths and lengths. We often plot such data as matrices depicting relationships between pairs of attributes (the diagonal of which holds an ordinary histogram). Write code making a plot like the one below. Please pay attention to the details: make a proper legend and correctly label the axes.\n",
        "\n",
        "<img src=\"https://github.com/janchorowski/nn_assignments/blob/nn18/assignment1/iris4x4.png?raw=1\"/>"
      ]
    },
    {
      "metadata": {
        "id": "F6sG0bxf33_y",
        "colab_type": "text"
      },
      "cell_type": "markdown",
      "source": [
        "#### Problem 3 [2p]\n",
        "\n",
        "Implement the k-Nearest Neighbors algorithm. Try to\n",
        "take advantage of matrix calculus rather than using for loops.\n",
        "\n",
        "**Tip:** What is computed by \\begin{equation} \\sqrt{(X - Y)^T (X - Y)} \\end{equation} when both X and Y are vectors?\n",
        "\n",
        "**Tip:** Try to use broadcasting (NumPy: http://docs.scipy.org/doc/numpy/user/basics.broadcasting.html) and built-ins sort, numpy.sort, numpy.argsort (sorting), scipy.stats.mode (choosing the most common element of the set)."
      ]
    },
    {
      "metadata": {
        "id": "1iZtHs5A33_z",
        "colab_type": "text"
      },
      "cell_type": "markdown",
      "source": [
        "#### Problem 4 [2p]\n",
        "Consider the following experiment:\n",
        "1. We scramble the data and split it into two parts - training set (66.6% of all samples) and test set (33.4%).\n",
        "2. Based on the training set, we use the k-NN algorithm to predict the labels on the test set.\n",
        "3. We then check the number of errors and write it down.\n",
        "\n",
        "Do this 500 times for k ∈ {1, 3, 5, ..., 19}. Plot a function of the average number of errors\n",
        "as the function of k. It should be similar to the one below.\n",
        "\n",
        "<img src=\"https://github.com/janchorowski/nn_assignments/blob/nn18/assignment1/knn.png?raw=1\"/>"
      ]
    },
    {
      "metadata": {
        "id": "A86GnZpa33_0",
        "colab_type": "text"
      },
      "cell_type": "markdown",
      "source": [
        "#### Problem 5 [2p] \n",
        "\n",
        "Apply the K-Nearest Neighbors (K-NN) algorithm to the MNIST and CIFAR10 datasets. \n",
        "\n",
        "The MNIST (http://yann.lecun.com/exdb/mnist/) dataset consists of normalized (centered and stretched) scans of hand-written digits. Specifically, each element of the dataset is a 28 × 28 grayscale image, thus having 764 8-bit pixels. \n",
        "\n",
        "The CIFAR10 (http://www.cs.toronto.edu/~kriz/cifar.html) dataset consists of small, 32 by 32 pixels, RGB images belonging to 10 categories.\n",
        "\n",
        "1. **[1p]** Download and load the MNIST and CIFAR10 datasets. For both datasets, display a few objects from each of the classes, paying attention to aesthetics and clarity of your presentation. **Note:** You already downloaded the datasets in \"Setup\" section. Please use the code below to get started.\n",
        "\n",
        "2. **[2p]** Apply a k-NN classifier to the MNIST and CIFAR10 datasets. First, divide the training set into two parts, which we will call training and validation. On MNIST use the first 50000 samples for training and the last 10000 for validation. On CIFAR10, use 40000 to train and 10000 for validation. Then find the optimal number of neighbors by assessing the accuracy on the validation set. You do not need to repeat this experiment multiple times. Finally, compute the accuracy on the test set obtained with the best previously chosen number of neighbors. On MNIST you should get about 3% errors, while on CIFAR10 you should get about 70% errors. Why CIFAR10 is harder than MNIST? Pick a few mislabeled samples from the test dataset and plot them along with the correct ones. **Note:**\n",
        "  * MNIST and CIFAR10 are much larger than the Iris dataset. A good implementation may need a few minutes depending on your runtime type. Please optimize your algorithm:\n",
        "  * Compute the distances only once, then test for different values of k.\n",
        "  * Use vectorized expressions to compute the distance. It is possible to compute all distances between the training and testing points in one expression. Hint: think about the vectorized expression \\begin{equation}(X - Y)^T (X - Y)\\end{equation}.\n",
        "  * You can use single precision numbers in computation.\n",
        "  * If your code is taking a long time to execute, please save its results before the lab session.\n",
        "\n",
        "**Note:** in NumPy, matrices have its own data type (dtype), which is retained during\n",
        "calculations. Please pay attention to it. I particular, do not subtract values of data types not\n",
        "having the sign bit, do not divide integers, etc. Results of such operations will not be\n",
        "automatically casted to types having the required precision."
  {
   "cell_type": "markdown",
   "metadata": {
    "colab_type": "text",
    "id": "P7IFJ5_Y33-8"
   },
   "source": [
    "# Assignment 1\n"
   ]
  },
  {
   "cell_type": "markdown",
   "metadata": {
    "colab_type": "text",
    "id": "goqGXGZT2DKK"
   },
   "source": [
    "## Important notes"
   ]
  },
  {
   "cell_type": "markdown",
   "metadata": {
    "colab_type": "text",
    "id": "-3FKET1A2GRK"
   },
   "source": [
    "**Submission deadline:**\n",
    "* **Problems 1-4: last lab session before or on Friday, 19.10.18**\n",
    "* **Problems 5-6: last lab session before or on Friday, 26.10.18**\n",
    "\n",
    "**Points: 10 + 4 bonus points**\n",
    "\n",
    "Please note: some of the assignments are tedious or boring if you are already a NumPy ninja. The bonus problems were designed to give you a more satisfying alternative.\n",
    "\n",
    "The assignment is in the form of a Jupyter notebook. We will be using [Google Colab](https://colab.research.google.com) to solve it. Below you will find a \"Setup\" section. Follow instructions from this paragraph to download the notebook and open it using [Google Colab](https://colab.research.google.com). \n",
    "\n",
    "Your goal is to solve problems posted below. Whenever possible, add your solutions to the notebook.\n",
    "\n",
    "Please email us about any problems with it - we will try to correct them quickly. Also, please do not hesitate to use GitHub’s pull requests to send us corrections!"
   ]
  },
  {
   "cell_type": "markdown",
   "metadata": {
    "colab_type": "text",
    "id": "1CMDOrsc2K-K"
   },
   "source": [
    "## Setup"
   ]
  },
  {
   "cell_type": "markdown",
   "metadata": {
    "colab_type": "text",
    "id": "tNjavUUC7yuM"
   },
   "source": [
    "### 1. Open the notebook using Google Colab\n",
    "\n",
    "1. From Github: Click on \"View in Colaboratory\", then save to your Google Drive.\n",
    "2. Alternatively upload manually to Drive:\n",
    "  1. Download the notebook or clone https://github.com/janchorowski/nn_assignments.\n",
    "  2. Go to  [Google Colab](https://colab.research.google.com).\n",
    "  3. Go to \"UPLOAD\" tab and select a local copy of the notebook that you downloaded in point 1.\n",
    "  \n",
    "Colab Tips:\n",
    "1. Set tab width to 4 spaces under `Tools -> Prferences`.\n",
    "  \n",
    "### 2. Open th enotebook offline using Jupyter/IPython\n",
    "\n",
    "This notebook can be opened using Jupyter notebook. Simply install a scientific Python distribution on your computer (e.g. [Anaconda](https://www.anaconda.com/) or [WinPython](http://winpython.github.io/)), clone the repository https://github.com/janchorowski/nn_assignments and run `jupyter notebook`."
   ]
  },
  {
   "cell_type": "markdown",
   "metadata": {
    "colab_type": "text",
    "id": "zq_ZRu87C_OC"
   },
   "source": [
    "###   3. Install required dependencies, download data and import packages\n",
    "\n",
    "Run cells below. To run a cell either click it and click a run button or press \"shift + enter\"\n"
   ]
  },
  {
   "cell_type": "code",
   "execution_count": 23,
   "metadata": {
    "colab": {},
    "colab_type": "code",
    "id": "onui8xrw5dKi"
   },
   "outputs": [],
   "source": [
    "# Please note that this code needs only to be run in a fresh runtime.\n",
    "# However, it can be rerun afterwards too.\n",
    "!pip install -q gdown httpimport\n",
    "![ -e cifar.npz ] || gdown 'https://drive.google.com/uc?id=1oBzZdtg2zNTPGhbRy6DQ_wrf5L5OAhNR' -O cifar.npz\n",
    "![ -e mnist.npz ] || gdown 'https://drive.google.com/uc?id=1QPaC3IKB_5tX6yIZgRgkpcqFrfVqPTXU' -O mnist.npz"
   ]
  },
  {
   "cell_type": "code",
   "execution_count": 16,
   "metadata": {
    "colab": {},
    "colab_type": "code",
    "id": "YxzWq6iO2KPm"
   },
   "outputs": [
    {
     "name": "stderr",
     "output_type": "stream",
     "text": [
      "[!] 'common' not found in HTTP repository. Moving to next Finder.\n"
     ]
    },
    {
     "ename": "KeyError",
     "evalue": "'common'",
     "output_type": "error",
     "traceback": [
      "\u001b[0;31m---------------------------------------------------------------------------\u001b[0m",
      "\u001b[0;31mKeyError\u001b[0m                                  Traceback (most recent call last)",
      "\u001b[0;32m<ipython-input-16-4f10f94afd10>\u001b[0m in \u001b[0;36m<module>\u001b[0;34m()\u001b[0m\n\u001b[1;32m     18\u001b[0m with httpimport.github_repo('janchorowski', 'nn_assignments', \n\u001b[1;32m     19\u001b[0m                             module='common', branch='nn18'):\n\u001b[0;32m---> 20\u001b[0;31m      \u001b[0;32mfrom\u001b[0m \u001b[0mcommon\u001b[0m\u001b[0;34m.\u001b[0m\u001b[0mplotting\u001b[0m \u001b[0;32mimport\u001b[0m \u001b[0mplot_mat\u001b[0m\u001b[0;34m\u001b[0m\u001b[0m\n\u001b[0m\u001b[1;32m     21\u001b[0m \u001b[0;34m\u001b[0m\u001b[0m\n\u001b[1;32m     22\u001b[0m \u001b[0msns\u001b[0m\u001b[0;34m.\u001b[0m\u001b[0mset_style\u001b[0m\u001b[0;34m(\u001b[0m\u001b[0;34m'whitegrid'\u001b[0m\u001b[0;34m)\u001b[0m\u001b[0;34m\u001b[0m\u001b[0m\n",
      "\u001b[0;32m/opt/anaconda3/lib/python3.6/importlib/_bootstrap.py\u001b[0m in \u001b[0;36m_find_and_load\u001b[0;34m(name, import_)\u001b[0m\n",
      "\u001b[0;32m/opt/anaconda3/lib/python3.6/importlib/_bootstrap.py\u001b[0m in \u001b[0;36m_find_and_load_unlocked\u001b[0;34m(name, import_)\u001b[0m\n",
      "\u001b[0;32m/opt/anaconda3/lib/python3.6/importlib/_bootstrap.py\u001b[0m in \u001b[0;36m_load_unlocked\u001b[0;34m(spec)\u001b[0m\n",
      "\u001b[0;32m/opt/anaconda3/lib/python3.6/importlib/_bootstrap.py\u001b[0m in \u001b[0;36m_load_backward_compatible\u001b[0;34m(spec)\u001b[0m\n",
      "\u001b[0;31mKeyError\u001b[0m: 'common'"
     ]
    }
   ],
   "source": [
    "# Standard IPython notebook imports\n",
    "%matplotlib inline\n",
    "\n",
    "from __future__ import absolute_import\n",
    "from __future__ import division\n",
    "from __future__ import print_function\n",
    "\n",
    "import os\n",
    "\n",
    "import httpimport\n",
    "import matplotlib.pyplot as plt\n",
    "import numpy as np\n",
    "\n",
    "import seaborn as sns\n",
    "from sklearn import datasets\n",
    "\n",
    "# In this way we can import functions straight from github\n",
    "with httpimport.github_repo('janchorowski', 'nn_assignments', \n",
    "                            module='common', branch='nn18'):\n",
    "     from common.plotting import plot_mat\n",
    "\n",
    "sns.set_style('whitegrid')"
   ]
  },
  {
   "cell_type": "markdown",
   "metadata": {
    "colab_type": "text",
    "id": "AfmjDoxi6JNA"
   },
   "source": [
    "### 4. Follow the notebook and solve problems posted below"
   ]
  },
  {
   "cell_type": "markdown",
   "metadata": {
    "colab_type": "text",
    "id": "3hr81V8T8ccB"
   },
   "source": [
    "## Problems"
   ]
  },
  {
   "cell_type": "markdown",
   "metadata": {
    "colab_type": "text",
    "id": "0eT1x_VG33_E"
   },
   "source": [
    "### Problem 0 [0p]\n",
    "\n",
    " \n",
    "1. To learn more about Jupyter,  read [Jupyter tutorial from Data Analysis in Biological Sciences course at Caltech](http://bebi103.caltech.edu/2015/tutorials/t0b_intro_to_jupyter_notebooks.html) (which itself can be downloaded as a Jupyter notebook). Feel free to skip the tutorial if you have some prior experience with Jupyter notebook.\n",
    "2. To learn more about basic Google Colab features, go to [Google Colab](https://colab.research.google.com) and select \"Overview of Colaboratory Features\" in \"EXAMPLES\" tab. To learn more about / set up useful keyboard shortcuts (e.g. to add a new cell without clicking \"\"+ code\"), go to \"Tools --> Keyboard shortcuts\""
   ]
  },
  {
   "cell_type": "markdown",
   "metadata": {
    "colab_type": "text",
    "id": "AsOC0voR33_F"
   },
   "source": [
    "### Problem 1 [2p]\n",
    "\n",
    "First, get familiar with Python at https://docs.python.org/2/tutorial/. Then, get\n",
    "to know the capabilities of NumPy, the prime numerical library of Python http://www.numpy.org/, for instance with the tutorial at http://wiki.scipy.org/Tentative_NumPy_Tutorial.\n",
    "\n",
    "You might also need:\n",
    "  1. another intro to NumPy,\n",
    "http://people.duke.edu/~ccc14/pcfb/numerics.html\n",
    "  2. a better interactive shell for Python,\n",
    "http://ipython.org/\n",
    "  3. access to IPython through an ordinary web browser,\n",
    "http://ipython.org/notebook.html\n",
    "  4. a plotting library for Python.\n",
    "http://matplotlib.org/\n",
    "\n",
    "**a) Declare variables:**\n",
    "1. $a=10$,\n",
    "2. $b=2.5\\times 10^{23}$,\n",
    "3. $c=2+3i$, where $i$ is an imaginary unit,\n",
    "4. $d=e^{i2\\pi/3}$, where $i$ is an imaginary unit, $e$ is the Euler's number (use `exp`, `pi`)."
   ]
  },
  {
   "cell_type": "code",
   "execution_count": 17,
   "metadata": {},
   "outputs": [],
   "source": [
    "from numpy import pi"
   ]
  },
  {
   "cell_type": "code",
   "execution_count": 18,
   "metadata": {
    "colab": {},
    "colab_type": "code",
    "id": "8sd7jJhd33_G"
   },
   "outputs": [],
   "source": [
    "# TODO: Complete the declarations\n",
    "a = 10\n",
    "b = 2.5 * 10**23\n",
    "c = np.complex(2, 3)\n",
    "d = np.exp(np.complex(0, 2 * pi / 3))"
   ]
  },
  {
   "cell_type": "markdown",
   "metadata": {
    "colab_type": "text",
    "id": "bP0hAHvN33_K"
   },
   "source": [
    "**b) Declare vectors:**\n",
    "1. $aVec=\\begin{bmatrix} 3.14 & 15 & 9 & 26 \\end{bmatrix}$,\n",
    "2. $bVec=\\begin{bmatrix} 2.71 & 8 & 28 & 182 \\end{bmatrix}^\\intercal$ (column vector),\n",
    "3. $cVec=\\begin{bmatrix} 5 & 4.8 & \\cdots & -4.8 & -5 \\end{bmatrix}$ (vector of numbers from $5$ to $-5$ decreasing by $0.2$),\n",
    "4. $dVec=\\begin{bmatrix} 10^0 & 10^{0.01} & \\cdots & 10^{0.99} & 10^1 \\end{bmatrix}$ (logarithmically spaced numbers from 1 to 10, use `logspace` and make sure, that the result has correct length!),\n",
    "5. $eVec=Hello$ ($eVec$ is a string of characters, thus a vector)."
   ]
  },
  {
   "cell_type": "code",
   "execution_count": 19,
   "metadata": {
    "colab": {},
    "colab_type": "code",
    "id": "37RmkuW533_L"
   },
   "outputs": [],
   "source": [
    "aVec = np.array([3.14, 15, 9, 26]) \n",
    "bVec = np.transpose([[2.71, 8, 28, 182]])\n",
    "cVec = np.linspace(start=5, stop=-5, num=51)\n",
    "dVec = np.logspace(start=1, stop=10, num=101)\n",
    "eVec = np.chararray((1, 5))\n",
    "eVec = 'Hello'"
   ]
  },
  {
   "cell_type": "markdown",
   "metadata": {
    "colab_type": "text",
    "id": "C58YJtEU33_O"
   },
   "source": [
    "**c) Declare matrices:**\n",
    "1. $aMat=\\begin{bmatrix}\n",
    "                    2      & \\cdots & 2 \\\\\n",
    "                    \\vdots & \\ddots & \\vdots \\\\\n",
    "                    2      & \\cdots & 2\n",
    "                \\end{bmatrix}$,\n",
    "<br/>\n",
    "matrix $9\\times 9$ filled with 2s (use `ones` or `zeros`),\n",
    "2. $bMat=\\begin{bmatrix}\n",
    "                    1      & 0      & \\cdots &        & 0      \\\\\n",
    "                    0      & \\ddots & 0      &        & 0      \\\\\n",
    "                    \\vdots & 0      & 5      & 0      & \\vdots \\\\\n",
    "                           &        & 0      & \\ddots & 0      \\\\\n",
    "                    0      &        & \\cdots & 0      & 1\n",
    "                \\end{bmatrix}$,\n",
    "<br/>\n",
    "matrix $9\\times 9$ filled with zeros, with $\\begin{bmatrix} 1 & 2 & 3 & 4 & 5 & 4 & 3 & 2 & 1 \\end{bmatrix}$ on its diagonal (use `zeros`, `diag`),\n",
    "3. $cMat=\\begin{bmatrix}\n",
    "                    1      & 11     & \\cdots & 91     \\\\\n",
    "                    2      & 12     & \\ddots & 92     \\\\\n",
    "                    \\vdots & \\vdots & \\ddots & \\vdots \\\\\n",
    "                    10     & 20     & \\cdots & 100\n",
    "                \\end{bmatrix}$,\n",
    "<br/>\n",
    "matrix $10\\times 10$, columns of which form the vector $1:100$ (use `reshape`),\n",
    "4. $dMat=\\begin{bmatrix}\n",
    "                    NaN & NaN & NaN & NaN \\\\\n",
    "                    NaN & NaN & NaN & NaN \\\\\n",
    "                    NaN & NaN & NaN & NaN\n",
    "                \\end{bmatrix}$,\n",
    "<br/>\n",
    "matrix $3\\times 4$ filled with `NaN`s (use... `NaN`),\n",
    "5. $eMat=\\begin{bmatrix}\n",
    "                    13  & -1  & 5  \\\\\n",
    "                    -22 & 10  & -87\n",
    "                \\end{bmatrix}$,\n",
    "<br/>\n",
    "6. $fMat$ filled with random natural numbers from $[-3,3]$ (use `rand` and `floor` or `ceil`)."
   ]
  },
  {
   "cell_type": "code",
   "execution_count": 20,
   "metadata": {
    "colab": {},
    "colab_type": "code",
    "id": "Bdd1oUeI33_P"
   },
   "outputs": [],
   "source": [
    "aMat = np.full((9, 9), 2)\n",
    "bMat = np.diag(np.concatenate((np.arange(start=1, stop=5),\n",
    "                               np.arange(start=5, stop=0, step=-1))))\n",
    "cMat = np.transpose(np.arange(start=1, stop=101).reshape(10, 10))\n",
    "dMat = np.full((3, 4), np.nan)\n",
    "eMat = np.array([[13, -1, 5], [-22, 10, -87]])\n",
    "fMat = np.ceil(np.random.rand(10, 10) * 7 - 4)"
   ]
  },
  {
   "cell_type": "markdown",
   "metadata": {
    "colab_type": "text",
    "id": "DqtKQi1Q33_T"
   },
   "source": [
    "** d) Declare a multiplication table ** as a $10\\times 10$ matrix `mulMat`. Use matrix/vector multiplication."
   ]
  },
  {
   "cell_type": "code",
   "execution_count": 21,
   "metadata": {
    "colab": {},
    "colab_type": "code",
    "id": "OWqHq-vK33_U"
   },
   "outputs": [
    {
     "data": {
      "text/plain": [
       "array([[  1,   2,   3,   4,   5,   6,   7,   8,   9,  10],\n",
       "       [  2,   4,   6,   8,  10,  12,  14,  16,  18,  20],\n",
       "       [  3,   6,   9,  12,  15,  18,  21,  24,  27,  30],\n",
       "       [  4,   8,  12,  16,  20,  24,  28,  32,  36,  40],\n",
       "       [  5,  10,  15,  20,  25,  30,  35,  40,  45,  50],\n",
       "       [  6,  12,  18,  24,  30,  36,  42,  48,  54,  60],\n",
       "       [  7,  14,  21,  28,  35,  42,  49,  56,  63,  70],\n",
       "       [  8,  16,  24,  32,  40,  48,  56,  64,  72,  80],\n",
       "       [  9,  18,  27,  36,  45,  54,  63,  72,  81,  90],\n",
       "       [ 10,  20,  30,  40,  50,  60,  70,  80,  90, 100]])"
      ]
     },
     "execution_count": 21,
     "metadata": {},
     "output_type": "execute_result"
    }
   ],
   "source": [
    "mulMat = np.transpose([np.arange(start=1, stop=11)]) @ [np.arange(start=1, stop=11)]\n",
    "mulMat"
   ]
  },
  {
   "cell_type": "markdown",
   "metadata": {
    "colab_type": "text",
    "id": "0xIm6lT133_Y"
   },
   "source": [
    "** e) Compute elemwise using values from b).**\n",
    "For instance, the first element of $xVec[0]$ should be equal to\n",
    "\n",
    "\\begin{equation}\n",
    "1/(\\sqrt{2\\pi2.5^2}) e^{-cVec[0]^2 / (2\\cdot\\pi 2.5^2)}.\n",
    "\\end{equation}\n",
    "\n",
    "1. $xVec=1/(\\sqrt{2\\pi2.5^2}) e^{-cVec^2 / (2\\cdot\\pi 2.5^2)}$\n",
    "2. $yVec=\\sqrt{(aVec^\\intercal)^2 + bVec^2}$\n",
    "3. $zVec=\\log_{10}(1/dVec)$, using `log10`"
   ]
  },
  {
   "cell_type": "code",
   "execution_count": 22,
   "metadata": {
    "colab": {},
    "colab_type": "code",
    "id": "LtH-kSU733_Z"
   },
   "outputs": [
    {
     "data": {
      "text/plain": [
       "array([0.0844286 , 0.08874945, 0.09310157, 0.09746835, 0.10183228,\n",
       "       0.10617507, 0.11047778, 0.11472091, 0.11888457, 0.12294862,\n",
       "       0.12689283, 0.13069705, 0.13434136, 0.13780626, 0.14107285,\n",
       "       0.14412296, 0.14693938, 0.14950594, 0.15180777, 0.15383133,\n",
       "       0.15556462, 0.15699729, 0.1581207 , 0.15892806, 0.15941445,\n",
       "       0.15957691, 0.15941445, 0.15892806, 0.1581207 , 0.15699729,\n",
       "       0.15556462, 0.15383133, 0.15180777, 0.14950594, 0.14693938,\n",
       "       0.14412296, 0.14107285, 0.13780626, 0.13434136, 0.13069705,\n",
       "       0.12689283, 0.12294862, 0.11888457, 0.11472091, 0.11047778,\n",
       "       0.10617507, 0.10183228, 0.09746835, 0.09310157, 0.08874945,\n",
       "       0.0844286 ])"
      ]
     },
     "execution_count": 22,
     "metadata": {},
     "output_type": "execute_result"
    }
   ],
   "source": [
    "xVec = 1 / np.sqrt(2 * pi * 6.25) * np.exp(-cVec**2 / (2 * pi * 6.25))\n",
    "yVec = np.sqrt(np.transpose(aVec**2) + bVec**2)\n",
    "zVec = np.log10(1/dVec)\n",
    "xVec"
   ]
  },
  {
   "cell_type": "markdown",
   "metadata": {
    "colab_type": "text",
    "id": "EBhf74F_33_d"
   },
   "source": [
    "** f) Compute with matrix/vector operations using values from c).**\n",
    "\n",
    "**NOTE:** Every multiplication (and power) in this subtask is a [matrix multiplication](https://en.wikipedia.org/wiki/Matrix_multiplication).\n",
    "1. $xMat=(aVec\\cdot bVec)aMat^2$,\n",
    "2. $yMat=bVec\\cdot aVec$\n",
    "<br/>\n",
    "(remember, that matrix multiplication is not commutative),\n",
    "4. $zMat=\\lvert cMat\\rvert (aMat\\cdot bMat)^\\intercal$, where $\\lvert A\\rvert$ denotes determinant of $A$ (use `det`)."
   ]
  },
  {
   "cell_type": "code",
   "execution_count": 24,
   "metadata": {
    "colab": {},
    "colab_type": "code",
    "id": "UjdLR34u33_e"
   },
   "outputs": [],
   "source": [
    "xMat = aVec @ bVec * (aMat @ aMat)\n",
    "yMat = bVec @ [aVec]\n",
    "zMat = np.linalg.det(cMat) * np.transpose(aMat @ bMat)"
   ]
  },
  {
   "cell_type": "markdown",
   "metadata": {
    "colab_type": "text",
    "id": "QJ3xTXgV33_i"
   },
   "source": [
    "** g) Declare `ismagic(A)` function ** which checks if matrix $A$ is a [magic square](https://en.wikipedia.org/wiki/Magic_square) and returns a boolean."
   ]
  },
  {
   "cell_type": "code",
   "execution_count": 15,
   "metadata": {
    "colab": {},
    "colab_type": "code",
    "id": "uCNJUx_G33_j"
   },
   "outputs": [],
   "source": [
    "def ismagic(A):\n",
    "    \n",
    "    # Check if A could be a magic square\n",
    "    if A.shape[0] != A.shape[1] or len(A.shape) != 2:\n",
    "        return false\n",
    "    \n",
    "    # Calculate all sums of elements in columns,\n",
    "    # rows and diagonals\n",
    "    sums = np.hstack((np.sum(A, axis=0),\n",
    "                      np.sum(A, axis=1),\n",
    "                      np.sum(np.diag(A)),\n",
    "                      np.sum(np.diag(np.rot90(A)))))\n",
    "    \n",
    "    # Check if all are the same\n",
    "    return np.all(np.equal(sums, sums[0]))"
   ]
  },
  {
   "cell_type": "markdown",
   "metadata": {
    "colab_type": "text",
    "id": "Es80_WJM33_n"
   },
   "source": [
    "### k-Nearest Neighbors\n",
    "\n",
    "The following excerpt of code loads the data describing iris flowers\n",
    "and shows relations between their length and petal width for three\n",
    "species (namely: setosa, versicolor, virginica)."
   ]
  },
  {
   "cell_type": "code",
   "execution_count": 25,
   "metadata": {
    "colab": {
     "base_uri": "https://localhost:8080/",
     "height": 313
    },
    "colab_type": "code",
    "id": "hOvm2SEE33_q",
    "outputId": "3b5eeae1-f4d9-44b1-bb70-a78723214b6d"
   },
   "outputs": [
    {
     "name": "stdout",
     "output_type": "stream",
     "text": [
      "Features:  ['sepal length (cm)', 'sepal width (cm)', 'petal length (cm)', 'petal width (cm)']\n",
      "Targets:  ['setosa' 'versicolor' 'virginica']\n"
     ]
    },
    {
     "data": {
      "image/png": "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\n",
      "text/plain": [
       "<Figure size 432x288 with 1 Axes>"
      ]
     },
     "metadata": {},
     "output_type": "display_data"
    }
   ],
   "source": [
    "# sklearn is a large collection of machine learning algorithms\n",
    "# here we’ll use it only for the built-in iris dataset\n",
    "from sklearn import datasets\n",
    "\n",
    "iris = datasets.load_iris()\n",
    "\n",
    "print('Features: ', iris.feature_names)\n",
    "print('Targets: ', iris.target_names)\n",
    "\n",
    "petal_length = iris.data[:, iris.feature_names.index('petal length (cm)')]\n",
    "petal_width = iris.data[:, iris.feature_names.index('petal width (cm)')]\n",
    "\n",
    "for target in set(iris.target):\n",
    "    example_ids = target == iris.target\n",
    "    plt.scatter(petal_length[example_ids], petal_width[example_ids],\n",
    "                label=iris.target_names[target], color='bgr'[target],\n",
    "                marker='x', alpha=0.7)\n",
    "unknown = np.array([\n",
    "    [1.5, 0.3],\n",
    "    [4.5, 1.2],\n",
    "    [5.5, 2.3],\n",
    "    [5.1, 1.7]\n",
    "])\n",
    "plt.scatter(unknown[:, 0], unknown[:, 1], marker='v',\n",
    "            color='gray', s=50, label='??')\n",
    "plt.xlabel('petal length (cm)')\n",
    "plt.ylabel('petal width (cm)')\n",
    "plt.grid(True)\n",
    "plt.legend(loc='upper left');"
   ]
  },
  {
   "cell_type": "markdown",
   "metadata": {
    "colab_type": "text",
    "id": "s2khewKZ33_w"
   },
   "source": [
    "Based on these two features, it is easy to distinguish iris setosa from the two remaining species. Yet iris versicolor and virginica remain mixed together. \n",
    "\n",
    "Looking closely at the plot, we might estimate the species of the selected unknown irises (gray triangles). For three of them the answer seems obvious – they belong in uniformly-colored areas covered by one species only. Yet unknown iris flower in (5.1, 1.7) is troublesome – it lays on the boundary of versicolor and virginica clusters. We can assume, that its species is the one of the closest one to it, coming from the training set (and so having a label). \n",
    "\n",
    "K-Nearest Neighbors method (http://en.wikipedia.org/wiki/K-nearest_neighbors_algorithm) solves the classification problem, i.e. sets class labels (species in case of irises) of a previously unseen sample by choosing the most common class among the top k neighbors of the sample in question (for instance according to the Euclidean distance). Thus, the k-Nearest Neighbors algorithm works as follows. For each unlabeled sample x:\n",
    "1. Find k nearest neighbors among the labeled samples.\n",
    "2. Set the most common label among them as label of x."
   ]
  },
  {
   "cell_type": "markdown",
   "metadata": {
    "colab_type": "text",
    "id": "8-G-sMUw33_x"
   },
   "source": [
    "#### Problem 2 [2p]\n",
    "\n",
    "1.  **[1p]** Load the iris data (in Python it’s built-in into machine learning libraries, use sklearn.datasets.load_iris), the data is also available on-line at https://archive.ics.uci.edu/ml/datasets/Iris\n",
    "\n",
    "2.  **[1p]** Irises are described with 4 attributes: petal and sepal widths and lengths. We often plot such data as matrices depicting relationships between pairs of attributes (the diagonal of which holds an ordinary histogram). Write code making a plot like the one below. Please pay attention to the details: make a proper legend and correctly label the axes.\n",
    "\n",
    "<img src=\"https://github.com/janchorowski/nn_assignments/blob/nn18/assignment1/iris4x4.png?raw=1\"/>"
   ]
  },
  {
   "cell_type": "code",
   "execution_count": 26,
   "metadata": {},
   "outputs": [],
   "source": [
    "from sklearn import datasets\n",
    "from itertools import product\n",
    "from itertools import cycle"
   ]
  },
  {
   "cell_type": "code",
   "execution_count": 27,
   "metadata": {},
   "outputs": [],
   "source": [
    "iris = datasets.load_iris()"
   ]
  },
  {
   "cell_type": "markdown",
   "metadata": {},
   "source": [
    "#### Plot two chosen features"
   ]
  },
  {
   "cell_type": "code",
   "execution_count": 40,
   "metadata": {},
   "outputs": [],
   "source": [
    "def plot_two_features(features: tuple,\n",
    "                      plot: plt=plt,\n",
    "                      data: np.array=iris.data,\n",
    "                      marker_size: int=15,\n",
    "                      colors: cycle=cycle(('blue', 'green', 'red'))) -> plt:\n",
    "    \n",
    "    n_labels = np.unique(iris.target).size\n",
    "    \n",
    "    for label in range(n_labels):\n",
    "        \n",
    "        # Array of examples satysfying equality with actual label\n",
    "        to_plot = iris.target == label\n",
    "        \n",
    "        # Disable grid\n",
    "        plot.grid(False)\n",
    "\n",
    "        # Iterate over colors\n",
    "        color = next(colors)\n",
    "        \n",
    "        # Plot exemples satysfying equality with actual label\n",
    "        plot.scatter(data[to_plot, features[0]], data[to_plot, features[1]],\n",
    "                     s=marker_size, color=color)"
   ]
  },
  {
   "cell_type": "code",
   "execution_count": 41,
   "metadata": {},
   "outputs": [
    {
     "data": {
      "image/png": "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\n",
      "text/plain": [
       "<Figure size 432x288 with 1 Axes>"
      ]
     },
     "metadata": {},
     "output_type": "display_data"
    }
   ],
   "source": [
    "plot_two_features((0, 1))"
   ]
  },
  {
   "cell_type": "markdown",
   "metadata": {},
   "source": [
    "####  Plot distribution of the feature"
   ]
  },
  {
   "cell_type": "code",
   "execution_count": 42,
   "metadata": {},
   "outputs": [],
   "source": [
    "def hist_feature(feature: int,\n",
    "                 plot: plt=plt,\n",
    "                 data: np.array=iris.data,\n",
    "                 n_bins=10,\n",
    "                 color='blue') -> plt:\n",
    "    \n",
    "    # Disable grid\n",
    "    plot.grid(False)\n",
    "    \n",
    "    # Plot histogram of a single feature\n",
    "    plot.hist(data[:, feature], bins=n_bins, color=color)"
   ]
  },
  {
   "cell_type": "code",
   "execution_count": 29,
   "metadata": {},
   "outputs": [
    {
     "data": {
      "image/png": "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\n",
      "text/plain": [
       "<Figure size 432x288 with 1 Axes>"
      ]
     },
     "metadata": {},
     "output_type": "display_data"
    }
   ],
   "source": [
    "hist_feature(0)"
   ]
  },
  {
   "cell_type": "markdown",
   "metadata": {},
   "source": [
    "#### All possible subplots and histograms of iris features"
   ]
  },
  {
   "cell_type": "code",
   "execution_count": 30,
   "metadata": {},
   "outputs": [],
   "source": [
    "# Create markers for legend\n",
    "lo1 = plt.scatter([],[], color='blue', marker='o')\n",
    "lo2 = plt.scatter([],[], color='green', marker='o')\n",
    "lo3 = plt.scatter([],[], color='red', marker='o')\n",
    "\n",
    "# Prevent unnecessary plotting\n",
    "plt.close()"
   ]
  },
  {
   "cell_type": "code",
   "execution_count": 31,
   "metadata": {},
   "outputs": [
    {
     "data": {
      "image/png": "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\n",
      "text/plain": [
       "<Figure size 576x576 with 16 Axes>"
      ]
     },
     "metadata": {},
     "output_type": "display_data"
    }
   ],
   "source": [
    "# Create grid of subplots\n",
    "fig, axes = plt.subplots(nrows=4, ncols=4, figsize=(8, 8))\n",
    "\n",
    "# Fill all the subplots\n",
    "for coeffs in (product(range(4), repeat=2)):\n",
    "    \n",
    "    # Increase density of tick labels\n",
    "    axes[coeffs].locator_params(nbins=10)\n",
    "    \n",
    "    if coeffs[0] == coeffs[1]:\n",
    "        hist_feature(coeffs[0], plot=axes[coeffs])\n",
    "    else:\n",
    "        plot_two_features(list(reversed(coeffs)), plot=axes[coeffs])\n",
    "    \n",
    "# Create proper legend   \n",
    "plt.figlegend(ncol=3, handles=(lo1,lo2,lo3),\n",
    "              labels=('setosa', 'versicolor', 'virginica'),\n",
    "              loc=(0.29,0.97), scatterpoints=3, frameon=True)\n",
    "\n",
    "# Set label titles\n",
    "for index in range(4):\n",
    "    axes[3][index].set_xlabel(iris.feature_names[index])\n",
    "    axes[index][0].set_ylabel(iris.feature_names[index])\n",
    "\n",
    "plt.tight_layout()"
   ]
  },
  {
   "cell_type": "markdown",
   "metadata": {
    "colab_type": "text",
    "id": "F6sG0bxf33_y"
   },
   "source": [
    "#### Problem 3 [2p]\n",
    "\n",
    "Implement the k-Nearest Neighbors algorithm. Try to\n",
    "take advantage of matrix calculus rather than using for loops.\n",
    "\n",
    "**Tip:** What is computed by \\begin{equation} \\sqrt{(X - Y)^T (X - Y)} \\end{equation} when both X and Y are vectors?\n",
    "\n",
    "**Tip:** Try to use broadcasting (NumPy: http://docs.scipy.org/doc/numpy/user/basics.broadcasting.html) and built-ins sort, numpy.sort, numpy.argsort (sorting), scipy.stats.mode (choosing the most common element of the set)."
   ]
  },
  {
   "cell_type": "markdown",
   "metadata": {},
   "source": [
    "#### KNN function "
   ]
  },
  {
   "cell_type": "code",
   "execution_count": 32,
   "metadata": {},
   "outputs": [],
   "source": [
    "from scipy import stats"
   ]
  },
  {
   "cell_type": "code",
   "execution_count": 75,
   "metadata": {},
   "outputs": [],
   "source": [
    "def knn(train_data: np.array, train_target: np.array,\n",
    "        test_data: np.array, k: int=5):\n",
    "    \n",
    "    \"\"\"\n",
    "    Calculate knn in efficient way by calculating all the\n",
    "    coefficients squares at once\n",
    "    \"\"\"\n",
    "\n",
    "    # Coeffs squares\n",
    "    test_data_sums = np.array([np.sum(test_data ** 2, axis=1)])\n",
    "    train_data_sums = np.array([np.sum(train_data ** 2, axis=1)])\n",
    "    \n",
    "    # Negate doubled matrix multiplication\n",
    "    mult = np.array(-2 * test_data.dot(np.transpose(train_data)))\n",
    "    \n",
    "    # Calculate distances from all samples of the train_data to the test data\n",
    "    distances = np.array(np.transpose(test_data_sums) + train_data_sums + mult)\n",
    "\n",
    "    # Find k nearest ones\n",
    "    nearest = train_target[distances.argsort()[:, :k]]\n",
    "\n",
    "    # Choose the best class\n",
    "    test_target = np.concatenate(stats.mode(nearest, axis=1)[0])\n",
    "    \n",
    "    return test_target "
   ]
  },
  {
   "cell_type": "code",
   "execution_count": 76,
   "metadata": {},
   "outputs": [
    {
     "data": {
      "text/plain": [
       "array([1, 1, 2, 1, 1, 2, 1, 1, 1, 2, 2, 2, 1, 1, 1, 2, 2, 2, 1, 1, 1, 1,\n",
       "       1, 1, 1, 1, 1, 1, 1, 1])"
      ]
     },
     "execution_count": 76,
     "metadata": {},
     "output_type": "execute_result"
    }
   ],
   "source": [
    "knn(iris.data[:120, :2], iris.target[:120], iris.data[120:, :2])"
   ]
  },
  {
   "cell_type": "markdown",
   "metadata": {
    "colab_type": "text",
    "id": "1iZtHs5A33_z"
   },
   "source": [
    "#### Problem 4 [2p]\n",
    "Consider the following experiment:\n",
    "1. We scramble the data and split it into two parts - training set (66.6% of all samples) and test set (33.4%).\n",
    "2. Based on the training set, we use the k-NN algorithm to predict the labels on the test set.\n",
    "3. We then check the number of errors and write it down.\n",
    "\n",
    "Do this 500 times for k ∈ {1, 3, 5, ..., 19}. Plot a function of the average number of errors\n",
    "as the function of k. It should be similar to the one below.\n",
    "\n",
    "<img src=\"https://github.com/janchorowski/nn_assignments/blob/nn18/assignment1/knn.png?raw=1\"/>"
   ]
  },
  {
   "cell_type": "markdown",
   "metadata": {
    "colab_type": "text",
    "id": "A86GnZpa33_0"
   },
   "source": [
    "#### Problem 5 [2p] \n",
    "\n",
    "Apply the K-Nearest Neighbors (K-NN) algorithm to the MNIST and CIFAR10 datasets. \n",
    "\n",
    "The MNIST (http://yann.lecun.com/exdb/mnist/) dataset consists of normalized (centered and stretched) scans of hand-written digits. Specifically, each element of the dataset is a 28 × 28 grayscale image, thus having 764 8-bit pixels. \n",
    "\n",
    "The CIFAR10 (http://www.cs.toronto.edu/~kriz/cifar.html) dataset consists of small, 32 by 32 pixels, RGB images belonging to 10 categories.\n",
    "\n",
    "1. **[1p]** Download and load the MNIST and CIFAR10 datasets. For both datasets, display a few objects from each of the classes, paying attention to aesthetics and clarity of your presentation. **Note:** You already downloaded the datasets in \"Setup\" section. Please use the code below to get started.\n",
    "\n",
    "2. **[2p]** Apply a k-NN classifier to the MNIST and CIFAR10 datasets. First, divide the training set into two parts, which we will call training and validation. On MNIST use the first 50000 samples for training and the last 10000 for validation. On CIFAR10, use 40000 to train and 10000 for validation. Then find the optimal number of neighbors by assessing the accuracy on the validation set. You do not need to repeat this experiment multiple times. Finally, compute the accuracy on the test set obtained with the best previously chosen number of neighbors. On MNIST you should get about 3% errors, while on CIFAR10 you should get about 70% errors. Why CIFAR10 is harder than MNIST? Pick a few mislabeled samples from the test dataset and plot them along with the correct ones. **Note:**\n",
    "  * MNIST and CIFAR10 are much larger than the Iris dataset. A good implementation may need a few minutes depending on your runtime type. Please optimize your algorithm:\n",
    "  * Compute the distances only once, then test for different values of k.\n",
    "  * Use vectorized expressions to compute the distance. It is possible to compute all distances between the training and testing points in one expression. Hint: think about the vectorized expression \\begin{equation}(X - Y)^T (X - Y)\\end{equation}.\n",
    "  * You can use single precision numbers in computation.\n",
    "  * If your code is taking a long time to execute, please save its results before the lab session.\n",
    "\n",
    "**Note:** in NumPy, matrices have its own data type (dtype), which is retained during\n",
    "calculations. Please pay attention to it. I particular, do not subtract values of data types not\n",
    "having the sign bit, do not divide integers, etc. Results of such operations will not be\n",
    "automatically casted to types having the required precision."
   ]
  },
  {
   "cell_type": "code",
   "execution_count": null,
   "metadata": {},
   "outputs": [],
   "source": []
  },
  {
   "cell_type": "code",
   "execution_count": 35,
   "metadata": {
    "colab": {},
    "colab_type": "code",
    "id": "3AvAeiDN33_1"
   },
   "outputs": [],
   "source": [
    "with np.load('mnist.npz') as data:\n",
    "    mnist_full_train_data_uint8 = data['train_data']\n",
    "    mnist_full_train_labels_int64 = data['train_labels']\n",
    "    mnist_test_data_uint8 = data['test_data']\n",
    "    mnist_test_labels_int64 = data['test_labels']\n",
    "        \n",
    "# Split train data into train and validation sets\n",
    "mnist_train_data_uint8 = mnist_full_train_data_uint8[:50000]\n",
    "mnist_train_labels_int64 = mnist_full_train_labels_int64[:50000]\n",
    "mnist_valid_data_uint8 = mnist_full_train_data_uint8[50000:]\n",
    "mnist_valid_labels_int64 = mnist_full_train_labels_int64[50000:]"
   ]
  },
  {
   "cell_type": "code",
   "execution_count": 36,
   "metadata": {
    "colab": {
     "base_uri": "https://localhost:8080/",
     "height": 268
    },
    "colab_type": "code",
    "id": "aenFc3L633_4",
    "outputId": "8da070dc-d6d9-4431-ae08-0aaa66a0a836"
   },
   "outputs": [
    {
     "ename": "NameError",
     "evalue": "name 'plot_mat' is not defined",
     "output_type": "error",
     "traceback": [
      "\u001b[0;31m---------------------------------------------------------------------------\u001b[0m",
      "\u001b[0;31mNameError\u001b[0m                                 Traceback (most recent call last)",
      "\u001b[0;32m<ipython-input-36-56a2233d70b7>\u001b[0m in \u001b[0;36m<module>\u001b[0;34m()\u001b[0m\n\u001b[0;32m----> 1\u001b[0;31m \u001b[0mplot_mat\u001b[0m\u001b[0;34m(\u001b[0m\u001b[0mmnist_train_data_uint8\u001b[0m\u001b[0;34m[\u001b[0m\u001b[0;34m:\u001b[0m\u001b[0;36m20\u001b[0m\u001b[0;34m,\u001b[0m \u001b[0;32mNone\u001b[0m\u001b[0;34m]\u001b[0m\u001b[0;34m,\u001b[0m \u001b[0mcmap\u001b[0m\u001b[0;34m=\u001b[0m\u001b[0;34m'gray'\u001b[0m\u001b[0;34m)\u001b[0m\u001b[0;34m\u001b[0m\u001b[0m\n\u001b[0m",
      "\u001b[0;31mNameError\u001b[0m: name 'plot_mat' is not defined"
     ]
    }
   ],
   "source": [
    "plot_mat(mnist_train_data_uint8[:20, None], cmap='gray')"
   ]
  },
  {
   "cell_type": "code",
   "execution_count": null,
   "metadata": {
    "colab": {},
    "colab_type": "code",
    "id": "Wwii9AQN33_8"
   },
   "outputs": [],
   "source": [
    "with np.load('cifar.npz') as data:\n",
    "    cifar_full_train_data_uint8 = data['train_data']\n",
    "    cifar_full_train_labels_int64 = data['train_labels']\n",
    "    cifar_test_data_uint8 = data['test_data']\n",
    "    cifar_test_labels_int64 = data['test_labels']"
   ]
  },
  {
   "cell_type": "code",
   "execution_count": null,
   "metadata": {
    "colab": {},
    "colab_type": "code",
    "id": "Jut2P5Rj34AD"
   },
   "outputs": [],
   "source": [
    "#\n",
    "# TODO: plot an example of each class on MNIST and on CIFAR-10\n",
    "#"
   ]
  },
  {
   "cell_type": "code",
   "execution_count": null,
   "metadata": {
    "colab": {},
    "colab_type": "code",
    "id": "-cREkeVz34AH"
   },
   "outputs": [],
   "source": [
    "from scipy.stats import mode\n",
    "\n",
    "\n",
    "def KNN(train_X, train_Y, test_X, test_Y, ks, batch_size=200):\n",
    "    \"\"\"\n",
    "    Compute error rate for various \n",
    "    \"\"\"\n",
    "    errs = np.zeros((len(ks),))\n",
    "    for i in xrange(0, test_Y.shape[0], batch_size):\n",
    "        batch_X = test_X[i:i + batch_size]\n",
    "        batch_Y = test_Y[i:i + batch_size]\n",
    "        print(\"Examples %d:%d Computing distances... \" %\n",
    "              (i, i + batch_size), end='')\n",
    "\n",
    "        #\n",
    "        # TODO: fill in an efficient distance matrix computation\n",
    "        #\n",
    "        dists = TODO\n",
    "\n",
    "        print(\"Sorting... \", end='')\n",
    "        closest = np.argsort(dists, 0)\n",
    "\n",
    "        print(\"Computing errors...\")\n",
    "        targets = train_Y[closest]\n",
    "\n",
    "        for ki, k in enumerate(ks):\n",
    "            predictions, unused_counts = mode(targets[:k, :], axis=0)\n",
    "            predictions = predictions.ravel()\n",
    "            #\n",
    "            # TODO: fill in error count computation\n",
    "            #\n",
    "            errs[ki] += TODO\n",
    "\n",
    "    errs /= test_Y.shape\n",
    "    return np.vstack((ks, errs))"
   ]
  },
  {
   "cell_type": "code",
   "execution_count": null,
   "metadata": {
    "colab": {},
    "colab_type": "code",
    "id": "FTuX5ql334AO"
   },
   "outputs": [],
   "source": [
    "# Now find the best k on the validation set\n",
    "\n",
    "mnist_validation_errs = KNN(\n",
    "    mnist_train_data_uint8, mnist_train_labels_int64,\n",
    "    mnist_valid_data_uint8, mnist_valid_labels_int64,\n",
    "    [1, 3, 5, 7, 9])\n",
    "\n",
    "plot(mnist_validation_errs[0, :], mnist_validation_errs[1, :])"
   ]
  },
  {
   "cell_type": "code",
   "execution_count": null,
   "metadata": {
    "colab": {},
    "colab_type": "code",
    "id": "l5j4eGVN34AR"
   },
   "outputs": [],
   "source": [
    "# Now use the best k to compute the test error\n",
    "\n",
    "best_K = TODO\n",
    "\n",
    "mnist_full_train_data_uint8 = mnist_train_dataset.train_data.numpy()\n",
    "mnist_full_train_labels_int64 = mnist_train_dataset.train_labels.numpy()\n",
    "\n",
    "mnist_test_errs = KNN(mnist_full_train_data_uint8, \n",
    "                      mnist_full_train_labels_int64,\n",
    "                      mnist_test_data_uint8, \n",
    "                      mnist_test_labels_int64, [best_K])\n",
    "print(\"When k=%d the test error rate is %.1f%%\" %\n",
    "      (mnist_test_errs[0, 0], mnist_test_errs[1, 0] * 100.0))"
   ]
  },
  {
   "cell_type": "code",
   "execution_count": null,
   "metadata": {
    "colab": {},
    "colab_type": "code",
    "id": "g88neUhM34AU"
   },
   "outputs": [],
   "source": [
    "#\n",
    "# Now repeat the k-NN training for CIFAR10\n",
    "#"
   ]
  },
  {
   "cell_type": "markdown",
   "metadata": {
    "colab_type": "text",
    "id": "1qq8XLOt34AX"
   },
   "source": [
    "### Locality sensitive hashing\n",
    "\n",
    "Problem 5 was about speeding up the inference using loops implicitly present in matrix multiplication instead of explicit loops in Python. In this problem, we will explore a strategy to truly reduce the total number of computations required to find nearest neighbors without sacrificing too much accuracy.\n",
    "\n",
    "To speed up nearest neighbor search we will employ *Locality Sensitive Hashing (LSH)* functions. For a given distance metric, the locality sensitive hash should put items that are similar into the same bucket. Notice that this is essentially a design choice opposite to traditional cryptographic hash functions that should amplify the difference of similar inputs (typically we want that small perturbations of data result in large changes to the hash value).\n",
    "\n",
    "One of the simplest implementations of LSH approximates the cosine distance. Let $x\\in \\mathbb{R}^N$ and $y\\in \\mathbb{R}^N$ be two vectors. Their cosine distance is defined as:\n",
    "\n",
    "\\begin{equation}\n",
    "    d_\\text{cos}(x,y) = \\frac{x \\cdot y}{\\|x\\| \\|y\\|} = \\cos\\left(\\theta(x,y)\\right),\n",
    "\\end{equation}\n",
    "where $\\theta(x,y)$ is the unsigned angle between $x$ and $y$.\n",
    "\n",
    "We will construct a family $H$ of hash functions that are an LSH for angle distances (an approximation to cosine distance). Assume $p\\in \\mathbb{R}^N$ is a random vector (components are sampled from the normal distribution) of length 1. Then define the hash function $h(x) = \\text{sgn}(x\\cdot p)$, where $\\text{sgn()}$ is the sign function. It can be proven that:\n",
    "\n",
    "\\begin{equation}\n",
    "    p_{h\\in H}[h(x)=h(y)] = 1 - \\frac{\\theta(x,y)}{\\pi}.\n",
    "\\end{equation}\n",
    "\n",
    "The equation means that the probability of a hash collision grows as the the angle between two vectors gets smaller. Therefore, vectors that are close according to the cosine distance will be put with high probability into the same bin (we use the fact that for small $\\theta$ we can approximate $\\cos(\\theta) = 1 - \\theta/\\pi$.\n",
    "\n",
    "We will say that a family of randomly chosen hash functions $H$ is $(d_1, d_2, p_1, p_2)$-sensitive with respect to a distance metric $d$ if for any $x$ and $y$:\n",
    "1. If $d(x,y) \\leq d_1$ then $p_{h\\in H}[h(x)=h(y)] \\geq p_1$.\n",
    "2. If $d(x,y) \\geq d_2$ then $p_{h\\in H}[h(x)=h(y)] \\leq p_2$.\n",
    "\n",
    "For example, our family of randomly chosen hyperplanes is $(d_1, d_2, (1-d_1)/\\pi, (1-d_2)/\\pi)$-sensitive.\n",
    "\n",
    "Ideally, vectors should be placed into the same bin with a high probability if their distance is smaller than a threshold, and with a low probability if their distance is larger that the threshold. By combining hashing functions we can get closer to this ideal sensitivity.\n",
    "\n",
    "Given a family of hash functions $H$ with sensitivity $(d_1, d_3, p_1, p_2)$ we can construct a new family $H'$ by combining $r$ functions from $H$:\n",
    "1. AND: let $h=[h_1, h_2, \\ldots, h_r] \\in H'$ and $h(x)=h(y)$ if and only if $\\forall_i h_i(x)=h_i(y)$. Then $H'$ is $(d_1, d_2, (p_1)^r, (p_2)^r)$-sensitive.\n",
    "2. OR: let $h=[h_1, h_2, \\ldots, h_r] \\in H'$ and $h(x)=h(y)$ if and only if $\\exists_i h_i(x)=h_i(y)$. Then $H'$ is $(d_1, d_2, 1-(1-p_1)^r, 1-(1-p_2)^r)$-sensitive.\n",
    "\n",
    "AND makes all probabilities shrink, but properly choosing $r$ we can make the lower probability approach 0 while the higher does not. Conversely, OR makes all probabilities grow, we can make the upper probability approach 1 while the lower does not."
   ]
  },
  {
   "cell_type": "markdown",
   "metadata": {
    "colab_type": "text",
    "id": "OutHmcfp8zLo"
   },
   "source": [
    "#### Problem 6 [2-4p bonus] \n",
    "\n",
    "1. **[1bp]** **Note:** you can show sketches of proofs for this assignment.\n",
    "    1. Show that angle between vectors is a metric (https://en.wikipedia.org/wiki/Metric_(mathematics)).\n",
    "    \n",
    "    2. Show that $p_{h\\in H}[h(x)=h(y)] = 1 - \\frac{\\theta(x,y)}{\\pi}$ for $h$ computed using a randomly chosen hyperplane.\n",
    "\n",
    "    3. Show the properties of either AND or OR boosting of LSH.\n",
    "\n",
    "3. **[1-3bp]** Reimplement k-Nearest Neighbors for MNIST classification using the cosine distance instead of the Euclidean distance. Choose a sensible value of $k$. Use Locality Sensitive Hashing to achieve an error rate no greater than $150\\%$ of the original error rate with at least a $90\\%$ speedup (i.e., by considering on average at most 5000 training samples per query image). For a few settings plot the speedup-vs-accuracy relation.\n",
    "\n",
    "  **Note:** points will be awarded based on ingenuity of your solution. Feel free to explore your own ideas!\n"
   ]
  }
 ],
 "metadata": {
  "colab": {
   "collapsed_sections": [],
   "include_colab_link": true,
   "name": "Assignment1.ipynb",
   "provenance": [],
   "toc_visible": true,
   "version": "0.3.2"
  },
  "kernelspec": {
   "display_name": "Python 3",
   "language": "python",
   "name": "python3"
  },
  "language_info": {
   "codemirror_mode": {
    "name": "ipython",
    "version": 3
   },
   "file_extension": ".py",
   "mimetype": "text/x-python",
   "name": "python",
   "nbconvert_exporter": "python",
   "pygments_lexer": "ipython3",
   "version": "3.6.5"
  }
 },
 "nbformat": 4,
 "nbformat_minor": 1
}
